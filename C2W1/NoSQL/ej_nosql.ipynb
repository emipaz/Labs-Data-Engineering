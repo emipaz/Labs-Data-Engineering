{
 "cells": [
  {
   "cell_type": "markdown",
   "id": "6e05c3c0",
   "metadata": {},
   "source": [
    "# Ejercicio NoSQL con Dynamodb-local y MongoDB"
   ]
  },
  {
   "cell_type": "code",
   "execution_count": 4,
   "id": "ed57d361",
   "metadata": {},
   "outputs": [],
   "source": [
    "from faker import Faker # crar datos ficticios python -m pip install faker\n",
    "\n",
    "import boto3  # drive Dynamodb python -m pip install boto3\n",
    "from botocore.exceptions import ClientError\n",
    "\n",
    "from pymongo import MongoClient # cliente Mongodb python -m pip install pymongo\n",
    "\n",
    "import random\n",
    "import time"
   ]
  },
  {
   "cell_type": "markdown",
   "id": "257a72ad",
   "metadata": {},
   "source": [
    "## Crear Datos Ficticios"
   ]
  },
  {
   "cell_type": "code",
   "execution_count": 5,
   "id": "ee9b5499",
   "metadata": {},
   "outputs": [],
   "source": [
    "fake = Faker()\n",
    "faker_seed = 123\n",
    "Faker.seed(faker_seed)"
   ]
  },
  {
   "cell_type": "code",
   "execution_count": 9,
   "id": "93fac370",
   "metadata": {},
   "outputs": [],
   "source": [
    "# ---------- Generar datos ficticios ----------\n",
    "def generar_productos(n=10):\n",
    "    productos = []\n",
    "    for i in range(1, n + 1):\n",
    "        productos.append({\n",
    "            \"Id\": i,\n",
    "            \"Nombre\": fake.word().capitalize(),\n",
    "            \"Precio\": round(random.uniform(1.0, 100.0), 2),\n",
    "            \"Stock\": random.randint(10, 200)\n",
    "        })\n",
    "    return productos"
   ]
  },
  {
   "cell_type": "code",
   "execution_count": 10,
   "id": "d04bc8aa",
   "metadata": {},
   "outputs": [],
   "source": [
    "productos = generar_productos(50)"
   ]
  },
  {
   "cell_type": "code",
   "execution_count": 11,
   "id": "eaab60f1",
   "metadata": {},
   "outputs": [
    {
     "data": {
      "text/plain": [
       "[{'Id': 1, 'Nombre': 'American', 'Precio': 80.93, 'Stock': 11},\n",
       " {'Id': 2, 'Nombre': 'Hundred', 'Precio': 16.3, 'Stock': 33},\n",
       " {'Id': 3, 'Nombre': 'Not', 'Precio': 62.9, 'Stock': 117},\n",
       " {'Id': 4, 'Nombre': 'Or', 'Precio': 32.61, 'Stock': 16},\n",
       " {'Id': 5, 'Nombre': 'Go', 'Precio': 71.91, 'Stock': 151},\n",
       " {'Id': 6, 'Nombre': 'Grow', 'Precio': 49.91, 'Stock': 87},\n",
       " {'Id': 7, 'Nombre': 'Together', 'Precio': 91.85, 'Stock': 84},\n",
       " {'Id': 8, 'Nombre': 'Area', 'Precio': 63.84, 'Stock': 159},\n",
       " {'Id': 9, 'Nombre': 'Collection', 'Precio': 23.05, 'Stock': 39},\n",
       " {'Id': 10, 'Nombre': 'Central', 'Precio': 9.34, 'Stock': 194},\n",
       " {'Id': 11, 'Nombre': 'Green', 'Precio': 77.3, 'Stock': 54},\n",
       " {'Id': 12, 'Nombre': 'Option', 'Precio': 99.85, 'Stock': 48},\n",
       " {'Id': 13, 'Nombre': 'Goal', 'Precio': 40.86, 'Stock': 168},\n",
       " {'Id': 14, 'Nombre': 'Science', 'Precio': 25.85, 'Stock': 30},\n",
       " {'Id': 15, 'Nombre': 'Else', 'Precio': 74.66, 'Stock': 90},\n",
       " {'Id': 16, 'Nombre': 'Common', 'Precio': 30.92, 'Stock': 68},\n",
       " {'Id': 17, 'Nombre': 'Ability', 'Precio': 57.29, 'Stock': 76},\n",
       " {'Id': 18, 'Nombre': 'Western', 'Precio': 93.43, 'Stock': 179},\n",
       " {'Id': 19, 'Nombre': 'Least', 'Precio': 12.02, 'Stock': 192},\n",
       " {'Id': 20, 'Nombre': 'Staff', 'Precio': 85.14, 'Stock': 100},\n",
       " {'Id': 21, 'Nombre': 'Begin', 'Precio': 8.4, 'Stock': 32},\n",
       " {'Id': 22, 'Nombre': 'Unit', 'Precio': 83.37, 'Stock': 182},\n",
       " {'Id': 23, 'Nombre': 'Picture', 'Precio': 49.38, 'Stock': 117},\n",
       " {'Id': 24, 'Nombre': 'Huge', 'Precio': 64.63, 'Stock': 178},\n",
       " {'Id': 25, 'Nombre': 'Available', 'Precio': 44.09, 'Stock': 42},\n",
       " {'Id': 26, 'Nombre': 'According', 'Precio': 35.65, 'Stock': 72},\n",
       " {'Id': 27, 'Nombre': 'Four', 'Precio': 26.24, 'Stock': 65},\n",
       " {'Id': 28, 'Nombre': 'Sign', 'Precio': 45.37, 'Stock': 62},\n",
       " {'Id': 29, 'Nombre': 'List', 'Precio': 64.29, 'Stock': 161},\n",
       " {'Id': 30, 'Nombre': 'Blue', 'Precio': 35.87, 'Stock': 180},\n",
       " {'Id': 31, 'Nombre': 'Western', 'Precio': 11.46, 'Stock': 147},\n",
       " {'Id': 32, 'Nombre': 'Animal', 'Precio': 45.15, 'Stock': 169},\n",
       " {'Id': 33, 'Nombre': 'Best', 'Precio': 76.16, 'Stock': 43},\n",
       " {'Id': 34, 'Nombre': 'Region', 'Precio': 46.15, 'Stock': 130},\n",
       " {'Id': 35, 'Nombre': 'Change', 'Precio': 56.73, 'Stock': 97},\n",
       " {'Id': 36, 'Nombre': 'Card', 'Precio': 45.69, 'Stock': 189},\n",
       " {'Id': 37, 'Nombre': 'Street', 'Precio': 77.84, 'Stock': 88},\n",
       " {'Id': 38, 'Nombre': 'What', 'Precio': 66.09, 'Stock': 134},\n",
       " {'Id': 39, 'Nombre': 'Against', 'Precio': 56.04, 'Stock': 185},\n",
       " {'Id': 40, 'Nombre': 'Film', 'Precio': 66.73, 'Stock': 41},\n",
       " {'Id': 41, 'Nombre': 'Which', 'Precio': 52.73, 'Stock': 121},\n",
       " {'Id': 42, 'Nombre': 'Law', 'Precio': 92.42, 'Stock': 71},\n",
       " {'Id': 43, 'Nombre': 'Painting', 'Precio': 72.39, 'Stock': 113},\n",
       " {'Id': 44, 'Nombre': 'Me', 'Precio': 82.85, 'Stock': 38},\n",
       " {'Id': 45, 'Nombre': 'Evidence', 'Precio': 96.98, 'Stock': 18},\n",
       " {'Id': 46, 'Nombre': 'Manager', 'Precio': 98.48, 'Stock': 45},\n",
       " {'Id': 47, 'Nombre': 'Third', 'Precio': 7.96, 'Stock': 35},\n",
       " {'Id': 48, 'Nombre': 'Although', 'Precio': 49.89, 'Stock': 192},\n",
       " {'Id': 49, 'Nombre': 'Specific', 'Precio': 5.33, 'Stock': 76},\n",
       " {'Id': 50, 'Nombre': 'Focus', 'Precio': 43.84, 'Stock': 20}]"
      ]
     },
     "execution_count": 11,
     "metadata": {},
     "output_type": "execute_result"
    }
   ],
   "source": [
    "productos"
   ]
  },
  {
   "cell_type": "code",
   "execution_count": 12,
   "id": "1aa0fea5",
   "metadata": {},
   "outputs": [],
   "source": [
    "import json\n",
    "\n",
    "with open('productos_2.json', 'w') as f:\n",
    "    json.dump(productos, f, indent=4)\n",
    "\n"
   ]
  },
  {
   "cell_type": "markdown",
   "id": "f5991fd0",
   "metadata": {},
   "source": [
    "## Guardar los Datos en MongoDB"
   ]
  },
  {
   "cell_type": "code",
   "execution_count": 13,
   "id": "7a9090ea",
   "metadata": {},
   "outputs": [],
   "source": [
    "# ---------- MongoDB ----------\n",
    "cliente_mongo = MongoClient(\"mongodb://localhost:27017/\")\n",
    "db_mongo = cliente_mongo[\"tienda_2\"]\n",
    "coleccion = db_mongo[\"productos\"]\n",
    "coleccion.drop()  # Limpiar colección antes de insertar"
   ]
  },
  {
   "cell_type": "code",
   "execution_count": 15,
   "id": "a80fc62d",
   "metadata": {},
   "outputs": [],
   "source": [
    "# ---------- Guardar en MongoDB ----------\n",
    "def guardar_en_mongodb(productos):\n",
    "    coleccion.insert_many(productos)\n",
    "    print(f\"{len(productos)} productos insertados en MongoDB.\")"
   ]
  },
  {
   "cell_type": "code",
   "execution_count": 16,
   "id": "1e32ad85",
   "metadata": {},
   "outputs": [
    {
     "name": "stdout",
     "output_type": "stream",
     "text": [
      "50 productos insertados en MongoDB.\n"
     ]
    }
   ],
   "source": [
    "guardar_en_mongodb(productos)"
   ]
  },
  {
   "cell_type": "markdown",
   "id": "4acba3ff",
   "metadata": {},
   "source": [
    "## Guardar los Datos en una Tabla de Dynamodb"
   ]
  },
  {
   "cell_type": "code",
   "execution_count": 17,
   "id": "063b09c0",
   "metadata": {},
   "outputs": [],
   "source": [
    "cliente = boto3.client(\n",
    "        \"dynamodb\",\n",
    "        endpoint_url=\"http://localhost:8000\",  # 🔸 DynamoDB Local\n",
    "        region_name=\"us-west-2\",               # 🔹 Requerido por boto3 (puede ser cualquiera)\n",
    "        aws_access_key_id=\"fakeMyKeyId\",       # 🔹 Cualquier valor\n",
    "        aws_secret_access_key=\"fakeSecretKey\"  # 🔹 Cualquier valor\n",
    "    )"
   ]
  },
  {
   "cell_type": "code",
   "execution_count": 18,
   "id": "6537bfe9",
   "metadata": {},
   "outputs": [],
   "source": [
    "table_name = \"Productos_2\""
   ]
  },
  {
   "cell_type": "code",
   "execution_count": 19,
   "id": "9144c2a5",
   "metadata": {},
   "outputs": [],
   "source": [
    "def create_table_db(table_name: str, **kwargs):\n",
    "    \"\"\"\n",
    "    Crea una tabla en DynamoDB si no existe.\n",
    "\n",
    "    Parámetros:\n",
    "    -----------\n",
    "    table_name : str\n",
    "        El nombre de la tabla a crear.\n",
    "\n",
    "    **kwargs :\n",
    "        Argumentos adicionales requeridos por boto3 para crear la tabla.\n",
    "        Ejemplo típico:\n",
    "            - KeySchema\n",
    "            - AttributeDefinitions\n",
    "            - ProvisionedThroughput\n",
    "\n",
    "    Retorna:\n",
    "    --------\n",
    "    dict\n",
    "        La respuesta del cliente si la tabla fue creada, o un mensaje si ya existía.\n",
    "\n",
    "    Nota:\n",
    "    -----\n",
    "    Esta función asume que `cliente` ya está definido y configurado para acceder a DynamoDB\n",
    "    (local o en la nube).\n",
    "    \"\"\"\n",
    "\n",
    "    try:\n",
    "        # Verificamos si la tabla ya existe\n",
    "        cliente.describe_table(TableName=table_name)\n",
    "        return {'Message': f'La tabla \"{table_name}\" ya existe. No se creó de nuevo.'}\n",
    "    except cliente.exceptions.ResourceNotFoundException:\n",
    "        # Si no existe, procedemos a crearla\n",
    "        response = cliente.create_table(TableName=table_name, **kwargs)\n",
    "\n",
    "        # Esperamos hasta que esté creada completamente\n",
    "        cliente.get_waiter(\"table_exists\").wait(TableName=table_name)\n",
    "\n",
    "        return response\n"
   ]
  },
  {
   "cell_type": "code",
   "execution_count": 20,
   "id": "e60bc114",
   "metadata": {},
   "outputs": [],
   "source": [
    "TABLE_SCHEMA = {\n",
    "    \"KeySchema\": [\n",
    "        {\n",
    "            \"AttributeName\": \"Id\",\n",
    "            \"KeyType\": \"HASH\"  # Clave primaria\n",
    "        }\n",
    "    ],\n",
    "    \"AttributeDefinitions\": [\n",
    "        {\n",
    "            \"AttributeName\": \"Id\",\n",
    "            \"AttributeType\": \"N\"  # Tipo numérico\n",
    "        },\n",
    "    ],\n",
    "    \"ProvisionedThroughput\": {\n",
    "        \"ReadCapacityUnits\": 5,\n",
    "        \"WriteCapacityUnits\": 5\n",
    "    }\n",
    "}"
   ]
  },
  {
   "cell_type": "code",
   "execution_count": 21,
   "id": "e5276373",
   "metadata": {},
   "outputs": [],
   "source": [
    "respuesta = create_table_db(table_name, **TABLE_SCHEMA)"
   ]
  },
  {
   "cell_type": "code",
   "execution_count": 22,
   "id": "132df133",
   "metadata": {},
   "outputs": [
    {
     "data": {
      "text/plain": [
       "dict_keys(['TableDescription', 'ResponseMetadata'])"
      ]
     },
     "execution_count": 22,
     "metadata": {},
     "output_type": "execute_result"
    }
   ],
   "source": [
    "respuesta.keys()"
   ]
  },
  {
   "cell_type": "code",
   "execution_count": 23,
   "id": "8a7586e9",
   "metadata": {},
   "outputs": [
    {
     "data": {
      "text/plain": [
       "{'TableDescription': {'AttributeDefinitions': [{'AttributeName': 'Id',\n",
       "    'AttributeType': 'N'}],\n",
       "  'TableName': 'Productos_2',\n",
       "  'KeySchema': [{'AttributeName': 'Id', 'KeyType': 'HASH'}],\n",
       "  'TableStatus': 'ACTIVE',\n",
       "  'CreationDateTime': datetime.datetime(2025, 6, 10, 20, 10, 53, 19000, tzinfo=tzlocal()),\n",
       "  'ProvisionedThroughput': {'LastIncreaseDateTime': datetime.datetime(1969, 12, 31, 21, 0, tzinfo=tzlocal()),\n",
       "   'LastDecreaseDateTime': datetime.datetime(1969, 12, 31, 21, 0, tzinfo=tzlocal()),\n",
       "   'NumberOfDecreasesToday': 0,\n",
       "   'ReadCapacityUnits': 5,\n",
       "   'WriteCapacityUnits': 5},\n",
       "  'TableSizeBytes': 0,\n",
       "  'ItemCount': 0,\n",
       "  'TableArn': 'arn:aws:dynamodb:ddblocal:000000000000:table/Productos_2',\n",
       "  'DeletionProtectionEnabled': False},\n",
       " 'ResponseMetadata': {'RequestId': '2f8d8059-983f-4820-a860-d60fa7eb2cd4',\n",
       "  'HTTPStatusCode': 200,\n",
       "  'HTTPHeaders': {'server': 'Jetty(12.0.14)',\n",
       "   'date': 'Tue, 10 Jun 2025 23:10:52 GMT',\n",
       "   'x-amzn-requestid': '2f8d8059-983f-4820-a860-d60fa7eb2cd4',\n",
       "   'content-type': 'application/x-amz-json-1.0',\n",
       "   'x-amz-crc32': '3762337163',\n",
       "   'content-length': '520'},\n",
       "  'RetryAttempts': 0}}"
      ]
     },
     "execution_count": 23,
     "metadata": {},
     "output_type": "execute_result"
    }
   ],
   "source": [
    "respuesta"
   ]
  },
  {
   "cell_type": "code",
   "execution_count": 24,
   "id": "d3593e2c",
   "metadata": {},
   "outputs": [
    {
     "data": {
      "text/plain": [
       "['Data-Engineering-ProductCatalog', 'Productos', 'Productos_2']"
      ]
     },
     "execution_count": 24,
     "metadata": {},
     "output_type": "execute_result"
    }
   ],
   "source": [
    "cliente.list_tables()['TableNames']"
   ]
  },
  {
   "cell_type": "code",
   "execution_count": 25,
   "id": "1dc6b0c1",
   "metadata": {},
   "outputs": [],
   "source": [
    "# ---------- Guardar en DynamoDB ----------\n",
    "def guardar_en_dynamodb(cliente,tabla, productos):\n",
    "    for item in productos:\n",
    "        print(item)\n",
    "        cliente.put_item(\n",
    "        TableName = tabla, \n",
    "        Item      = item)\n",
    "    print(f\"{len(productos)} productos insertados en la {tabla} en DynamoDB.\")"
   ]
  },
  {
   "cell_type": "code",
   "execution_count": 26,
   "id": "c3ee9d8d",
   "metadata": {},
   "outputs": [
    {
     "name": "stdout",
     "output_type": "stream",
     "text": [
      "{'Id': 1, 'Nombre': 'American', 'Precio': 80.93, 'Stock': 11, '_id': ObjectId('6848ba0d471d6dbebeeb1b22')}\n"
     ]
    },
    {
     "ename": "ParamValidationError",
     "evalue": "Parameter validation failed:\nInvalid type for parameter Item.Id, value: 1, type: <class 'int'>, valid types: <class 'dict'>\nInvalid type for parameter Item.Nombre, value: American, type: <class 'str'>, valid types: <class 'dict'>\nInvalid type for parameter Item.Precio, value: 80.93, type: <class 'float'>, valid types: <class 'dict'>\nInvalid type for parameter Item.Stock, value: 11, type: <class 'int'>, valid types: <class 'dict'>\nInvalid type for parameter Item._id, value: 6848ba0d471d6dbebeeb1b22, type: <class 'bson.objectid.ObjectId'>, valid types: <class 'dict'>",
     "output_type": "error",
     "traceback": [
      "\u001b[1;31m---------------------------------------------------------------------------\u001b[0m",
      "\u001b[1;31mParamValidationError\u001b[0m                      Traceback (most recent call last)",
      "Cell \u001b[1;32mIn[26], line 1\u001b[0m\n\u001b[1;32m----> 1\u001b[0m \u001b[43mguardar_en_dynamodb\u001b[49m\u001b[43m(\u001b[49m\u001b[43mcliente\u001b[49m\u001b[43m,\u001b[49m\u001b[38;5;124;43m\"\u001b[39;49m\u001b[38;5;124;43mProductos\u001b[39;49m\u001b[38;5;124;43m\"\u001b[39;49m\u001b[43m,\u001b[49m\u001b[43m \u001b[49m\u001b[43mproductos\u001b[49m\u001b[43m)\u001b[49m\n",
      "Cell \u001b[1;32mIn[25], line 5\u001b[0m, in \u001b[0;36mguardar_en_dynamodb\u001b[1;34m(cliente, tabla, productos)\u001b[0m\n\u001b[0;32m      3\u001b[0m \u001b[38;5;28;01mfor\u001b[39;00m item \u001b[38;5;129;01min\u001b[39;00m productos:\n\u001b[0;32m      4\u001b[0m     \u001b[38;5;28mprint\u001b[39m(item)\n\u001b[1;32m----> 5\u001b[0m     \u001b[43mcliente\u001b[49m\u001b[38;5;241;43m.\u001b[39;49m\u001b[43mput_item\u001b[49m\u001b[43m(\u001b[49m\n\u001b[0;32m      6\u001b[0m \u001b[43m    \u001b[49m\u001b[43mTableName\u001b[49m\u001b[43m \u001b[49m\u001b[38;5;241;43m=\u001b[39;49m\u001b[43m \u001b[49m\u001b[43mtabla\u001b[49m\u001b[43m,\u001b[49m\u001b[43m \u001b[49m\n\u001b[0;32m      7\u001b[0m \u001b[43m    \u001b[49m\u001b[43mItem\u001b[49m\u001b[43m      \u001b[49m\u001b[38;5;241;43m=\u001b[39;49m\u001b[43m \u001b[49m\u001b[43mitem\u001b[49m\u001b[43m)\u001b[49m\n\u001b[0;32m      8\u001b[0m \u001b[38;5;28mprint\u001b[39m(\u001b[38;5;124mf\u001b[39m\u001b[38;5;124m\"\u001b[39m\u001b[38;5;132;01m{\u001b[39;00m\u001b[38;5;28mlen\u001b[39m(productos)\u001b[38;5;132;01m}\u001b[39;00m\u001b[38;5;124m productos insertados en la \u001b[39m\u001b[38;5;132;01m{\u001b[39;00mtabla\u001b[38;5;132;01m}\u001b[39;00m\u001b[38;5;124m en DynamoDB.\u001b[39m\u001b[38;5;124m\"\u001b[39m)\n",
      "File \u001b[1;32me:\\py313\\Lib\\site-packages\\botocore\\client.py:595\u001b[0m, in \u001b[0;36mClientCreator._create_api_method.<locals>._api_call\u001b[1;34m(self, *args, **kwargs)\u001b[0m\n\u001b[0;32m    591\u001b[0m     \u001b[38;5;28;01mraise\u001b[39;00m \u001b[38;5;167;01mTypeError\u001b[39;00m(\n\u001b[0;32m    592\u001b[0m         \u001b[38;5;124mf\u001b[39m\u001b[38;5;124m\"\u001b[39m\u001b[38;5;132;01m{\u001b[39;00mpy_operation_name\u001b[38;5;132;01m}\u001b[39;00m\u001b[38;5;124m() only accepts keyword arguments.\u001b[39m\u001b[38;5;124m\"\u001b[39m\n\u001b[0;32m    593\u001b[0m     )\n\u001b[0;32m    594\u001b[0m \u001b[38;5;66;03m# The \"self\" in this scope is referring to the BaseClient.\u001b[39;00m\n\u001b[1;32m--> 595\u001b[0m \u001b[38;5;28;01mreturn\u001b[39;00m \u001b[38;5;28;43mself\u001b[39;49m\u001b[38;5;241;43m.\u001b[39;49m\u001b[43m_make_api_call\u001b[49m\u001b[43m(\u001b[49m\u001b[43moperation_name\u001b[49m\u001b[43m,\u001b[49m\u001b[43m \u001b[49m\u001b[43mkwargs\u001b[49m\u001b[43m)\u001b[49m\n",
      "File \u001b[1;32me:\\py313\\Lib\\site-packages\\botocore\\context.py:123\u001b[0m, in \u001b[0;36mwith_current_context.<locals>.decorator.<locals>.wrapper\u001b[1;34m(*args, **kwargs)\u001b[0m\n\u001b[0;32m    121\u001b[0m \u001b[38;5;28;01mif\u001b[39;00m hook:\n\u001b[0;32m    122\u001b[0m     hook()\n\u001b[1;32m--> 123\u001b[0m \u001b[38;5;28;01mreturn\u001b[39;00m \u001b[43mfunc\u001b[49m\u001b[43m(\u001b[49m\u001b[38;5;241;43m*\u001b[39;49m\u001b[43margs\u001b[49m\u001b[43m,\u001b[49m\u001b[43m \u001b[49m\u001b[38;5;241;43m*\u001b[39;49m\u001b[38;5;241;43m*\u001b[39;49m\u001b[43mkwargs\u001b[49m\u001b[43m)\u001b[49m\n",
      "File \u001b[1;32me:\\py313\\Lib\\site-packages\\botocore\\client.py:1015\u001b[0m, in \u001b[0;36mBaseClient._make_api_call\u001b[1;34m(self, operation_name, api_params)\u001b[0m\n\u001b[0;32m   1011\u001b[0m \u001b[38;5;28;01mif\u001b[39;00m properties:\n\u001b[0;32m   1012\u001b[0m     \u001b[38;5;66;03m# Pass arbitrary endpoint info with the Request\u001b[39;00m\n\u001b[0;32m   1013\u001b[0m     \u001b[38;5;66;03m# for use during construction.\u001b[39;00m\n\u001b[0;32m   1014\u001b[0m     request_context[\u001b[38;5;124m'\u001b[39m\u001b[38;5;124mendpoint_properties\u001b[39m\u001b[38;5;124m'\u001b[39m] \u001b[38;5;241m=\u001b[39m properties\n\u001b[1;32m-> 1015\u001b[0m request_dict \u001b[38;5;241m=\u001b[39m \u001b[38;5;28;43mself\u001b[39;49m\u001b[38;5;241;43m.\u001b[39;49m\u001b[43m_convert_to_request_dict\u001b[49m\u001b[43m(\u001b[49m\n\u001b[0;32m   1016\u001b[0m \u001b[43m    \u001b[49m\u001b[43mapi_params\u001b[49m\u001b[38;5;241;43m=\u001b[39;49m\u001b[43mapi_params\u001b[49m\u001b[43m,\u001b[49m\n\u001b[0;32m   1017\u001b[0m \u001b[43m    \u001b[49m\u001b[43moperation_model\u001b[49m\u001b[38;5;241;43m=\u001b[39;49m\u001b[43moperation_model\u001b[49m\u001b[43m,\u001b[49m\n\u001b[0;32m   1018\u001b[0m \u001b[43m    \u001b[49m\u001b[43mendpoint_url\u001b[49m\u001b[38;5;241;43m=\u001b[39;49m\u001b[43mendpoint_url\u001b[49m\u001b[43m,\u001b[49m\n\u001b[0;32m   1019\u001b[0m \u001b[43m    \u001b[49m\u001b[43mcontext\u001b[49m\u001b[38;5;241;43m=\u001b[39;49m\u001b[43mrequest_context\u001b[49m\u001b[43m,\u001b[49m\n\u001b[0;32m   1020\u001b[0m \u001b[43m    \u001b[49m\u001b[43mheaders\u001b[49m\u001b[38;5;241;43m=\u001b[39;49m\u001b[43madditional_headers\u001b[49m\u001b[43m,\u001b[49m\n\u001b[0;32m   1021\u001b[0m \u001b[43m\u001b[49m\u001b[43m)\u001b[49m\n\u001b[0;32m   1022\u001b[0m resolve_checksum_context(request_dict, operation_model, api_params)\n\u001b[0;32m   1024\u001b[0m service_id \u001b[38;5;241m=\u001b[39m \u001b[38;5;28mself\u001b[39m\u001b[38;5;241m.\u001b[39m_service_model\u001b[38;5;241m.\u001b[39mservice_id\u001b[38;5;241m.\u001b[39mhyphenize()\n",
      "File \u001b[1;32me:\\py313\\Lib\\site-packages\\botocore\\client.py:1082\u001b[0m, in \u001b[0;36mBaseClient._convert_to_request_dict\u001b[1;34m(self, api_params, operation_model, endpoint_url, context, headers, set_user_agent_header)\u001b[0m\n\u001b[0;32m   1073\u001b[0m \u001b[38;5;28;01mdef\u001b[39;00m\u001b[38;5;250m \u001b[39m\u001b[38;5;21m_convert_to_request_dict\u001b[39m(\n\u001b[0;32m   1074\u001b[0m     \u001b[38;5;28mself\u001b[39m,\n\u001b[0;32m   1075\u001b[0m     api_params,\n\u001b[1;32m   (...)\u001b[0m\n\u001b[0;32m   1080\u001b[0m     set_user_agent_header\u001b[38;5;241m=\u001b[39m\u001b[38;5;28;01mTrue\u001b[39;00m,\n\u001b[0;32m   1081\u001b[0m ):\n\u001b[1;32m-> 1082\u001b[0m     request_dict \u001b[38;5;241m=\u001b[39m \u001b[38;5;28;43mself\u001b[39;49m\u001b[38;5;241;43m.\u001b[39;49m\u001b[43m_serializer\u001b[49m\u001b[38;5;241;43m.\u001b[39;49m\u001b[43mserialize_to_request\u001b[49m\u001b[43m(\u001b[49m\n\u001b[0;32m   1083\u001b[0m \u001b[43m        \u001b[49m\u001b[43mapi_params\u001b[49m\u001b[43m,\u001b[49m\u001b[43m \u001b[49m\u001b[43moperation_model\u001b[49m\n\u001b[0;32m   1084\u001b[0m \u001b[43m    \u001b[49m\u001b[43m)\u001b[49m\n\u001b[0;32m   1085\u001b[0m     \u001b[38;5;28;01mif\u001b[39;00m \u001b[38;5;129;01mnot\u001b[39;00m \u001b[38;5;28mself\u001b[39m\u001b[38;5;241m.\u001b[39m_client_config\u001b[38;5;241m.\u001b[39minject_host_prefix:\n\u001b[0;32m   1086\u001b[0m         request_dict\u001b[38;5;241m.\u001b[39mpop(\u001b[38;5;124m'\u001b[39m\u001b[38;5;124mhost_prefix\u001b[39m\u001b[38;5;124m'\u001b[39m, \u001b[38;5;28;01mNone\u001b[39;00m)\n",
      "File \u001b[1;32me:\\py313\\Lib\\site-packages\\botocore\\validate.py:381\u001b[0m, in \u001b[0;36mParamValidationDecorator.serialize_to_request\u001b[1;34m(self, parameters, operation_model)\u001b[0m\n\u001b[0;32m    377\u001b[0m     report \u001b[38;5;241m=\u001b[39m \u001b[38;5;28mself\u001b[39m\u001b[38;5;241m.\u001b[39m_param_validator\u001b[38;5;241m.\u001b[39mvalidate(\n\u001b[0;32m    378\u001b[0m         parameters, operation_model\u001b[38;5;241m.\u001b[39minput_shape\n\u001b[0;32m    379\u001b[0m     )\n\u001b[0;32m    380\u001b[0m     \u001b[38;5;28;01mif\u001b[39;00m report\u001b[38;5;241m.\u001b[39mhas_errors():\n\u001b[1;32m--> 381\u001b[0m         \u001b[38;5;28;01mraise\u001b[39;00m ParamValidationError(report\u001b[38;5;241m=\u001b[39mreport\u001b[38;5;241m.\u001b[39mgenerate_report())\n\u001b[0;32m    382\u001b[0m \u001b[38;5;28;01mreturn\u001b[39;00m \u001b[38;5;28mself\u001b[39m\u001b[38;5;241m.\u001b[39m_serializer\u001b[38;5;241m.\u001b[39mserialize_to_request(\n\u001b[0;32m    383\u001b[0m     parameters, operation_model\n\u001b[0;32m    384\u001b[0m )\n",
      "\u001b[1;31mParamValidationError\u001b[0m: Parameter validation failed:\nInvalid type for parameter Item.Id, value: 1, type: <class 'int'>, valid types: <class 'dict'>\nInvalid type for parameter Item.Nombre, value: American, type: <class 'str'>, valid types: <class 'dict'>\nInvalid type for parameter Item.Precio, value: 80.93, type: <class 'float'>, valid types: <class 'dict'>\nInvalid type for parameter Item.Stock, value: 11, type: <class 'int'>, valid types: <class 'dict'>\nInvalid type for parameter Item._id, value: 6848ba0d471d6dbebeeb1b22, type: <class 'bson.objectid.ObjectId'>, valid types: <class 'dict'>"
     ]
    }
   ],
   "source": [
    "guardar_en_dynamodb(cliente,\"Productos\", productos)"
   ]
  },
  {
   "cell_type": "code",
   "execution_count": 27,
   "id": "99eaf846",
   "metadata": {},
   "outputs": [
    {
     "data": {
      "text/plain": [
       "{'Id': 1,\n",
       " 'Nombre': 'American',\n",
       " 'Precio': 80.93,\n",
       " 'Stock': 11,\n",
       " '_id': ObjectId('6848ba0d471d6dbebeeb1b22')}"
      ]
     },
     "execution_count": 27,
     "metadata": {},
     "output_type": "execute_result"
    }
   ],
   "source": [
    "productos[0]"
   ]
  },
  {
   "cell_type": "markdown",
   "id": "2b545d6e",
   "metadata": {},
   "source": [
    "Lo que te pasó es un efecto secundario común al trabajar con PyMongo: MongoDB modifica in-place (en el lugar) tus objetos de Python agregándoles el campo \"_id\" automáticamente cuando usás insert_many() o insert_one().\n",
    "\n",
    "- 🔍 ¿Qué pasó exactamente?\n",
    "Supongamos que tenías esta lista:\n",
    "\n",
    "```python\n",
    "productos = [\n",
    "    {\"Id\": 1, \"Nombre\": \"Regla\", \"Precio\": 2.99, \"Stock\": 75},\n",
    "    {\"Id\": 2, \"Nombre\": \"Lapicera\", \"Precio\": 5.50, \"Stock\": 100},\n",
    "]\n",
    "```\n",
    "\n",
    "Cuando hacés:\n",
    "\n",
    "```python\n",
    "coleccion.insert_many(productos)\n",
    "```\n",
    "\n",
    "MongoDB agrega una nueva clave \"_id\" a cada uno de esos diccionarios en la lista. Ahora tu lista quedó así:\n",
    "\n",
    "```python\n",
    "[\n",
    "    {\"Id\": 1, \"Nombre\": \"Regla\", \"Precio\": 2.99, \"Stock\": 75, \"_id\": ObjectId(...)},\n",
    "    {\"Id\": 2, \"Nombre\": \"Lapicera\", \"Precio\": 5.50, \"Stock\": 100, \"_id\": ObjectId(...)},\n",
    "]\n",
    "```\n",
    "\n",
    "💥 ¿Y por qué eso rompe DynamoDB?\n",
    "\n",
    "DynamoDB no permite claves que no estén esperadas, o tipos como ObjectId, que MongoDB agrega por defecto y no son válidos en DynamoDB.\n",
    "\n",
    "✅ Soluciones\n",
    "\n",
    "Opción 1: Insertar una copia de la lista en MongoDB\n",
    "```python\n",
    "import copy\n",
    "\n",
    "# Copiamos la lista para que Mongo no modifique la original\n",
    "productos_para_mongo = copy.deepcopy(productos)\n",
    "coleccion.insert_many(productos_para_mongo)\n",
    "```\n",
    "\n",
    "Opción 2: Borrar la clave _id antes de insertar en DynamoDB\n",
    "\n",
    "```python\n",
    "for item in productos:\n",
    "    item.pop(\"_id\", None)  # Elimina la clave _id si existe\n",
    "    client.put_item(\n",
    "        TableName=\"Productos\",\n",
    "        Item={\n",
    "            \"Id\": {\"N\": str(item[\"Id\"])},\n",
    "            \"Nombre\": {\"S\": item[\"Nombre\"]},\n",
    "            \"Precio\": {\"N\": str(item[\"Precio\"])},\n",
    "            \"Stock\": {\"N\": str(item[\"Stock\"])}\n",
    "        }\n",
    "    )\n",
    "````\n",
    "\n",
    "🧠 Recomendación\n",
    "\n",
    "Siempre que uses datos con MongoDB y otra base de datos al mismo tiempo, asegurate de:\n",
    "\n",
    "Trabajar sobre copias (deepcopy) cuando los insertes en Mongo.\n",
    "\n",
    "O limpiar los \"_id\" antes de usarlos en otra parte."
   ]
  },
  {
   "cell_type": "code",
   "execution_count": 29,
   "id": "137681c2",
   "metadata": {},
   "outputs": [
    {
     "data": {
      "text/plain": [
       "{'Id': 1, 'Nombre': 'American', 'Precio': 80.93, 'Stock': 11}"
      ]
     },
     "execution_count": 29,
     "metadata": {},
     "output_type": "execute_result"
    }
   ],
   "source": [
    "datos = json.load(open('productos_2.json', 'r'))\n",
    "datos[0]"
   ]
  },
  {
   "cell_type": "code",
   "execution_count": 30,
   "id": "d52163cc",
   "metadata": {},
   "outputs": [
    {
     "name": "stdout",
     "output_type": "stream",
     "text": [
      "{'Id': 1, 'Nombre': 'American', 'Precio': 80.93, 'Stock': 11}\n"
     ]
    },
    {
     "ename": "ParamValidationError",
     "evalue": "Parameter validation failed:\nInvalid type for parameter Item.Id, value: 1, type: <class 'int'>, valid types: <class 'dict'>\nInvalid type for parameter Item.Nombre, value: American, type: <class 'str'>, valid types: <class 'dict'>\nInvalid type for parameter Item.Precio, value: 80.93, type: <class 'float'>, valid types: <class 'dict'>\nInvalid type for parameter Item.Stock, value: 11, type: <class 'int'>, valid types: <class 'dict'>",
     "output_type": "error",
     "traceback": [
      "\u001b[1;31m---------------------------------------------------------------------------\u001b[0m",
      "\u001b[1;31mParamValidationError\u001b[0m                      Traceback (most recent call last)",
      "Cell \u001b[1;32mIn[30], line 1\u001b[0m\n\u001b[1;32m----> 1\u001b[0m res \u001b[38;5;241m=\u001b[39m \u001b[43mguardar_en_dynamodb\u001b[49m\u001b[43m(\u001b[49m\u001b[43mcliente\u001b[49m\u001b[43m,\u001b[49m\u001b[38;5;124;43m\"\u001b[39;49m\u001b[38;5;124;43mProductos\u001b[39;49m\u001b[38;5;124;43m\"\u001b[39;49m\u001b[43m,\u001b[49m\u001b[43m  \u001b[49m\u001b[43mdatos\u001b[49m\u001b[43m)\u001b[49m\n",
      "Cell \u001b[1;32mIn[25], line 5\u001b[0m, in \u001b[0;36mguardar_en_dynamodb\u001b[1;34m(cliente, tabla, productos)\u001b[0m\n\u001b[0;32m      3\u001b[0m \u001b[38;5;28;01mfor\u001b[39;00m item \u001b[38;5;129;01min\u001b[39;00m productos:\n\u001b[0;32m      4\u001b[0m     \u001b[38;5;28mprint\u001b[39m(item)\n\u001b[1;32m----> 5\u001b[0m     \u001b[43mcliente\u001b[49m\u001b[38;5;241;43m.\u001b[39;49m\u001b[43mput_item\u001b[49m\u001b[43m(\u001b[49m\n\u001b[0;32m      6\u001b[0m \u001b[43m    \u001b[49m\u001b[43mTableName\u001b[49m\u001b[43m \u001b[49m\u001b[38;5;241;43m=\u001b[39;49m\u001b[43m \u001b[49m\u001b[43mtabla\u001b[49m\u001b[43m,\u001b[49m\u001b[43m \u001b[49m\n\u001b[0;32m      7\u001b[0m \u001b[43m    \u001b[49m\u001b[43mItem\u001b[49m\u001b[43m      \u001b[49m\u001b[38;5;241;43m=\u001b[39;49m\u001b[43m \u001b[49m\u001b[43mitem\u001b[49m\u001b[43m)\u001b[49m\n\u001b[0;32m      8\u001b[0m \u001b[38;5;28mprint\u001b[39m(\u001b[38;5;124mf\u001b[39m\u001b[38;5;124m\"\u001b[39m\u001b[38;5;132;01m{\u001b[39;00m\u001b[38;5;28mlen\u001b[39m(productos)\u001b[38;5;132;01m}\u001b[39;00m\u001b[38;5;124m productos insertados en la \u001b[39m\u001b[38;5;132;01m{\u001b[39;00mtabla\u001b[38;5;132;01m}\u001b[39;00m\u001b[38;5;124m en DynamoDB.\u001b[39m\u001b[38;5;124m\"\u001b[39m)\n",
      "File \u001b[1;32me:\\py313\\Lib\\site-packages\\botocore\\client.py:595\u001b[0m, in \u001b[0;36mClientCreator._create_api_method.<locals>._api_call\u001b[1;34m(self, *args, **kwargs)\u001b[0m\n\u001b[0;32m    591\u001b[0m     \u001b[38;5;28;01mraise\u001b[39;00m \u001b[38;5;167;01mTypeError\u001b[39;00m(\n\u001b[0;32m    592\u001b[0m         \u001b[38;5;124mf\u001b[39m\u001b[38;5;124m\"\u001b[39m\u001b[38;5;132;01m{\u001b[39;00mpy_operation_name\u001b[38;5;132;01m}\u001b[39;00m\u001b[38;5;124m() only accepts keyword arguments.\u001b[39m\u001b[38;5;124m\"\u001b[39m\n\u001b[0;32m    593\u001b[0m     )\n\u001b[0;32m    594\u001b[0m \u001b[38;5;66;03m# The \"self\" in this scope is referring to the BaseClient.\u001b[39;00m\n\u001b[1;32m--> 595\u001b[0m \u001b[38;5;28;01mreturn\u001b[39;00m \u001b[38;5;28;43mself\u001b[39;49m\u001b[38;5;241;43m.\u001b[39;49m\u001b[43m_make_api_call\u001b[49m\u001b[43m(\u001b[49m\u001b[43moperation_name\u001b[49m\u001b[43m,\u001b[49m\u001b[43m \u001b[49m\u001b[43mkwargs\u001b[49m\u001b[43m)\u001b[49m\n",
      "File \u001b[1;32me:\\py313\\Lib\\site-packages\\botocore\\context.py:123\u001b[0m, in \u001b[0;36mwith_current_context.<locals>.decorator.<locals>.wrapper\u001b[1;34m(*args, **kwargs)\u001b[0m\n\u001b[0;32m    121\u001b[0m \u001b[38;5;28;01mif\u001b[39;00m hook:\n\u001b[0;32m    122\u001b[0m     hook()\n\u001b[1;32m--> 123\u001b[0m \u001b[38;5;28;01mreturn\u001b[39;00m \u001b[43mfunc\u001b[49m\u001b[43m(\u001b[49m\u001b[38;5;241;43m*\u001b[39;49m\u001b[43margs\u001b[49m\u001b[43m,\u001b[49m\u001b[43m \u001b[49m\u001b[38;5;241;43m*\u001b[39;49m\u001b[38;5;241;43m*\u001b[39;49m\u001b[43mkwargs\u001b[49m\u001b[43m)\u001b[49m\n",
      "File \u001b[1;32me:\\py313\\Lib\\site-packages\\botocore\\client.py:1015\u001b[0m, in \u001b[0;36mBaseClient._make_api_call\u001b[1;34m(self, operation_name, api_params)\u001b[0m\n\u001b[0;32m   1011\u001b[0m \u001b[38;5;28;01mif\u001b[39;00m properties:\n\u001b[0;32m   1012\u001b[0m     \u001b[38;5;66;03m# Pass arbitrary endpoint info with the Request\u001b[39;00m\n\u001b[0;32m   1013\u001b[0m     \u001b[38;5;66;03m# for use during construction.\u001b[39;00m\n\u001b[0;32m   1014\u001b[0m     request_context[\u001b[38;5;124m'\u001b[39m\u001b[38;5;124mendpoint_properties\u001b[39m\u001b[38;5;124m'\u001b[39m] \u001b[38;5;241m=\u001b[39m properties\n\u001b[1;32m-> 1015\u001b[0m request_dict \u001b[38;5;241m=\u001b[39m \u001b[38;5;28;43mself\u001b[39;49m\u001b[38;5;241;43m.\u001b[39;49m\u001b[43m_convert_to_request_dict\u001b[49m\u001b[43m(\u001b[49m\n\u001b[0;32m   1016\u001b[0m \u001b[43m    \u001b[49m\u001b[43mapi_params\u001b[49m\u001b[38;5;241;43m=\u001b[39;49m\u001b[43mapi_params\u001b[49m\u001b[43m,\u001b[49m\n\u001b[0;32m   1017\u001b[0m \u001b[43m    \u001b[49m\u001b[43moperation_model\u001b[49m\u001b[38;5;241;43m=\u001b[39;49m\u001b[43moperation_model\u001b[49m\u001b[43m,\u001b[49m\n\u001b[0;32m   1018\u001b[0m \u001b[43m    \u001b[49m\u001b[43mendpoint_url\u001b[49m\u001b[38;5;241;43m=\u001b[39;49m\u001b[43mendpoint_url\u001b[49m\u001b[43m,\u001b[49m\n\u001b[0;32m   1019\u001b[0m \u001b[43m    \u001b[49m\u001b[43mcontext\u001b[49m\u001b[38;5;241;43m=\u001b[39;49m\u001b[43mrequest_context\u001b[49m\u001b[43m,\u001b[49m\n\u001b[0;32m   1020\u001b[0m \u001b[43m    \u001b[49m\u001b[43mheaders\u001b[49m\u001b[38;5;241;43m=\u001b[39;49m\u001b[43madditional_headers\u001b[49m\u001b[43m,\u001b[49m\n\u001b[0;32m   1021\u001b[0m \u001b[43m\u001b[49m\u001b[43m)\u001b[49m\n\u001b[0;32m   1022\u001b[0m resolve_checksum_context(request_dict, operation_model, api_params)\n\u001b[0;32m   1024\u001b[0m service_id \u001b[38;5;241m=\u001b[39m \u001b[38;5;28mself\u001b[39m\u001b[38;5;241m.\u001b[39m_service_model\u001b[38;5;241m.\u001b[39mservice_id\u001b[38;5;241m.\u001b[39mhyphenize()\n",
      "File \u001b[1;32me:\\py313\\Lib\\site-packages\\botocore\\client.py:1082\u001b[0m, in \u001b[0;36mBaseClient._convert_to_request_dict\u001b[1;34m(self, api_params, operation_model, endpoint_url, context, headers, set_user_agent_header)\u001b[0m\n\u001b[0;32m   1073\u001b[0m \u001b[38;5;28;01mdef\u001b[39;00m\u001b[38;5;250m \u001b[39m\u001b[38;5;21m_convert_to_request_dict\u001b[39m(\n\u001b[0;32m   1074\u001b[0m     \u001b[38;5;28mself\u001b[39m,\n\u001b[0;32m   1075\u001b[0m     api_params,\n\u001b[1;32m   (...)\u001b[0m\n\u001b[0;32m   1080\u001b[0m     set_user_agent_header\u001b[38;5;241m=\u001b[39m\u001b[38;5;28;01mTrue\u001b[39;00m,\n\u001b[0;32m   1081\u001b[0m ):\n\u001b[1;32m-> 1082\u001b[0m     request_dict \u001b[38;5;241m=\u001b[39m \u001b[38;5;28;43mself\u001b[39;49m\u001b[38;5;241;43m.\u001b[39;49m\u001b[43m_serializer\u001b[49m\u001b[38;5;241;43m.\u001b[39;49m\u001b[43mserialize_to_request\u001b[49m\u001b[43m(\u001b[49m\n\u001b[0;32m   1083\u001b[0m \u001b[43m        \u001b[49m\u001b[43mapi_params\u001b[49m\u001b[43m,\u001b[49m\u001b[43m \u001b[49m\u001b[43moperation_model\u001b[49m\n\u001b[0;32m   1084\u001b[0m \u001b[43m    \u001b[49m\u001b[43m)\u001b[49m\n\u001b[0;32m   1085\u001b[0m     \u001b[38;5;28;01mif\u001b[39;00m \u001b[38;5;129;01mnot\u001b[39;00m \u001b[38;5;28mself\u001b[39m\u001b[38;5;241m.\u001b[39m_client_config\u001b[38;5;241m.\u001b[39minject_host_prefix:\n\u001b[0;32m   1086\u001b[0m         request_dict\u001b[38;5;241m.\u001b[39mpop(\u001b[38;5;124m'\u001b[39m\u001b[38;5;124mhost_prefix\u001b[39m\u001b[38;5;124m'\u001b[39m, \u001b[38;5;28;01mNone\u001b[39;00m)\n",
      "File \u001b[1;32me:\\py313\\Lib\\site-packages\\botocore\\validate.py:381\u001b[0m, in \u001b[0;36mParamValidationDecorator.serialize_to_request\u001b[1;34m(self, parameters, operation_model)\u001b[0m\n\u001b[0;32m    377\u001b[0m     report \u001b[38;5;241m=\u001b[39m \u001b[38;5;28mself\u001b[39m\u001b[38;5;241m.\u001b[39m_param_validator\u001b[38;5;241m.\u001b[39mvalidate(\n\u001b[0;32m    378\u001b[0m         parameters, operation_model\u001b[38;5;241m.\u001b[39minput_shape\n\u001b[0;32m    379\u001b[0m     )\n\u001b[0;32m    380\u001b[0m     \u001b[38;5;28;01mif\u001b[39;00m report\u001b[38;5;241m.\u001b[39mhas_errors():\n\u001b[1;32m--> 381\u001b[0m         \u001b[38;5;28;01mraise\u001b[39;00m ParamValidationError(report\u001b[38;5;241m=\u001b[39mreport\u001b[38;5;241m.\u001b[39mgenerate_report())\n\u001b[0;32m    382\u001b[0m \u001b[38;5;28;01mreturn\u001b[39;00m \u001b[38;5;28mself\u001b[39m\u001b[38;5;241m.\u001b[39m_serializer\u001b[38;5;241m.\u001b[39mserialize_to_request(\n\u001b[0;32m    383\u001b[0m     parameters, operation_model\n\u001b[0;32m    384\u001b[0m )\n",
      "\u001b[1;31mParamValidationError\u001b[0m: Parameter validation failed:\nInvalid type for parameter Item.Id, value: 1, type: <class 'int'>, valid types: <class 'dict'>\nInvalid type for parameter Item.Nombre, value: American, type: <class 'str'>, valid types: <class 'dict'>\nInvalid type for parameter Item.Precio, value: 80.93, type: <class 'float'>, valid types: <class 'dict'>\nInvalid type for parameter Item.Stock, value: 11, type: <class 'int'>, valid types: <class 'dict'>"
     ]
    }
   ],
   "source": [
    "res = guardar_en_dynamodb(cliente,\"Productos\",  datos)"
   ]
  },
  {
   "cell_type": "markdown",
   "id": "7f756a82",
   "metadata": {},
   "source": [
    "> En DynamoDB, cuando usás el cliente de boto3 (es decir, client = boto3.client('dynamodb', ...)), los datos que pasás a put_item deben estar tipados explícitamente, es decir, cada valor debe estar envuelto en un diccionario que indique su tipo:\n",
    "\n",
    "🔥 Error actual\n",
    "Estás pasando algo como esto:\n",
    "\n",
    "```python\n",
    "{\n",
    "    'Id': 1,\n",
    "    'Nombre': 'Area',\n",
    "    'Precio': 56.38,\n",
    "    'Stock': 144\n",
    "}\n",
    "```\n",
    "\n",
    "Pero DynamoDB espera esto:\n",
    "\n",
    "```python\n",
    "{\n",
    "    'Id': {'N': '1'},\n",
    "    'Nombre': {'S': 'Area'},\n",
    "    'Precio': {'N': '56.38'},\n",
    "    'Stock': {'N': '144'}\n",
    "}\n",
    "```\n",
    "\n",
    "✅ Solución: convertir tus ítems al formato esperado\n",
    "Podés hacer una función que convierta tus diccionarios Python normales al formato que necesita DynamoDB:\n",
    "\n",
    "```python\n",
    "def convertir_a_item_dynamodb(producto: dict) -> dict:\n",
    "    item_dynamodb = {}\n",
    "    for clave, valor in producto.items():\n",
    "        if isinstance(valor, str):\n",
    "            item_dynamodb[clave] = {'S': valor}\n",
    "        elif isinstance(valor, (int, float)):\n",
    "            item_dynamodb[clave] = {'N': str(valor)}  # Siempre como string\n",
    "        else:\n",
    "            raise ValueError(f\"Tipo de dato no soportado para la clave '{clave}': {type(valor)}\")\n",
    "    return item_dynamodb\n",
    "```\n",
    "Y luego usás eso en tu inserción:\n",
    "\n",
    " ```python\n",
    "for producto in productos:\n",
    "    item = convertir_a_item_dynamodb(producto)\n",
    "    cliente.put_item(\n",
    "        TableName=\"Productos\",\n",
    "        Item=item\n",
    "    )\n",
    "```\n",
    "\n",
    "🧠 Importante\n",
    "\n",
    "DynamoDB requiere que los tipos estén indicados ('S' para string, 'N' para número, 'BOOL', 'L', 'M', etc.).\n",
    "\n",
    "En el modo client, vos te encargás de esa estructura.\n",
    "\n",
    "Si querés evitar este detalle, podrías usar resource, que lo hace más transparente, pero es opcional."
   ]
  },
  {
   "cell_type": "code",
   "execution_count": 38,
   "id": "c992925f",
   "metadata": {},
   "outputs": [],
   "source": [
    "conn = boto3.resource(\n",
    "    'dynamodb',\n",
    "    region_name='us-west-2',\n",
    "    endpoint_url='http://localhost:8000', # importante para conexión local\n",
    "    aws_access_key_id='fakeMyKeyId',\n",
    "    aws_secret_access_key='fakeSecretAccessKey')"
   ]
  },
  {
   "cell_type": "code",
   "execution_count": 39,
   "id": "22545274",
   "metadata": {},
   "outputs": [
    {
     "data": {
      "text/plain": [
       "[dynamodb.Table(name='Data-Engineering-ProductCatalog'),\n",
       " dynamodb.Table(name='Productos'),\n",
       " dynamodb.Table(name='Productos_2')]"
      ]
     },
     "execution_count": 39,
     "metadata": {},
     "output_type": "execute_result"
    }
   ],
   "source": [
    "list(conn.tables.all())"
   ]
  },
  {
   "cell_type": "code",
   "execution_count": 63,
   "id": "2e15c235",
   "metadata": {},
   "outputs": [],
   "source": [
    "tabla = conn.Table('Productos_2')"
   ]
  },
  {
   "cell_type": "code",
   "execution_count": 64,
   "id": "40dfec0c",
   "metadata": {},
   "outputs": [
    {
     "data": {
      "text/plain": [
       "boto3.resources.factory.dynamodb.Table"
      ]
     },
     "execution_count": 64,
     "metadata": {},
     "output_type": "execute_result"
    }
   ],
   "source": [
    "type(tabla)"
   ]
  },
  {
   "cell_type": "code",
   "execution_count": 65,
   "id": "d23c8cb6",
   "metadata": {},
   "outputs": [
    {
     "data": {
      "text/plain": [
       "dynamodb.Table(name='Productos_2')"
      ]
     },
     "execution_count": 65,
     "metadata": {},
     "output_type": "execute_result"
    }
   ],
   "source": [
    "tabla"
   ]
  },
  {
   "cell_type": "code",
   "execution_count": 43,
   "id": "8019bd17",
   "metadata": {},
   "outputs": [],
   "source": [
    "def guardar_en_dynamodb_con_resorce(tabla, productos):\n",
    "    for item in productos:\n",
    "        print(item)\n",
    "        tabla.put_item(Item=item)\n",
    "    print(f\"{len(productos)} productos insertados en la {tabla} en DynamoDB.\")"
   ]
  },
  {
   "cell_type": "code",
   "execution_count": 44,
   "id": "c83038fe",
   "metadata": {},
   "outputs": [
    {
     "name": "stdout",
     "output_type": "stream",
     "text": [
      "{'Id': 1, 'Nombre': 'American', 'Precio': 80.93, 'Stock': 11}\n"
     ]
    },
    {
     "ename": "TypeError",
     "evalue": "Float types are not supported. Use Decimal types instead.",
     "output_type": "error",
     "traceback": [
      "\u001b[1;31m---------------------------------------------------------------------------\u001b[0m",
      "\u001b[1;31mTypeError\u001b[0m                                 Traceback (most recent call last)",
      "Cell \u001b[1;32mIn[44], line 1\u001b[0m\n\u001b[1;32m----> 1\u001b[0m \u001b[43mguardar_en_dynamodb_con_resorce\u001b[49m\u001b[43m(\u001b[49m\u001b[43mtabla\u001b[49m\u001b[43m,\u001b[49m\u001b[43m \u001b[49m\u001b[43mdatos\u001b[49m\u001b[43m)\u001b[49m\n",
      "Cell \u001b[1;32mIn[43], line 4\u001b[0m, in \u001b[0;36mguardar_en_dynamodb_con_resorce\u001b[1;34m(tabla, productos)\u001b[0m\n\u001b[0;32m      2\u001b[0m \u001b[38;5;28;01mfor\u001b[39;00m item \u001b[38;5;129;01min\u001b[39;00m productos:\n\u001b[0;32m      3\u001b[0m     \u001b[38;5;28mprint\u001b[39m(item)\n\u001b[1;32m----> 4\u001b[0m     \u001b[43mtabla\u001b[49m\u001b[38;5;241;43m.\u001b[39;49m\u001b[43mput_item\u001b[49m\u001b[43m(\u001b[49m\u001b[43mItem\u001b[49m\u001b[38;5;241;43m=\u001b[39;49m\u001b[43mitem\u001b[49m\u001b[43m)\u001b[49m\n\u001b[0;32m      5\u001b[0m \u001b[38;5;28mprint\u001b[39m(\u001b[38;5;124mf\u001b[39m\u001b[38;5;124m\"\u001b[39m\u001b[38;5;132;01m{\u001b[39;00m\u001b[38;5;28mlen\u001b[39m(productos)\u001b[38;5;132;01m}\u001b[39;00m\u001b[38;5;124m productos insertados en la \u001b[39m\u001b[38;5;132;01m{\u001b[39;00mtabla\u001b[38;5;132;01m}\u001b[39;00m\u001b[38;5;124m en DynamoDB.\u001b[39m\u001b[38;5;124m\"\u001b[39m)\n",
      "File \u001b[1;32me:\\py313\\Lib\\site-packages\\boto3\\resources\\factory.py:581\u001b[0m, in \u001b[0;36mResourceFactory._create_action.<locals>.do_action\u001b[1;34m(self, *args, **kwargs)\u001b[0m\n\u001b[0;32m    580\u001b[0m \u001b[38;5;28;01mdef\u001b[39;00m\u001b[38;5;250m \u001b[39m\u001b[38;5;21mdo_action\u001b[39m(\u001b[38;5;28mself\u001b[39m, \u001b[38;5;241m*\u001b[39margs, \u001b[38;5;241m*\u001b[39m\u001b[38;5;241m*\u001b[39mkwargs):\n\u001b[1;32m--> 581\u001b[0m     response \u001b[38;5;241m=\u001b[39m \u001b[43maction\u001b[49m\u001b[43m(\u001b[49m\u001b[38;5;28;43mself\u001b[39;49m\u001b[43m,\u001b[49m\u001b[43m \u001b[49m\u001b[38;5;241;43m*\u001b[39;49m\u001b[43margs\u001b[49m\u001b[43m,\u001b[49m\u001b[43m \u001b[49m\u001b[38;5;241;43m*\u001b[39;49m\u001b[38;5;241;43m*\u001b[39;49m\u001b[43mkwargs\u001b[49m\u001b[43m)\u001b[49m\n\u001b[0;32m    583\u001b[0m     \u001b[38;5;28;01mif\u001b[39;00m \u001b[38;5;28mhasattr\u001b[39m(\u001b[38;5;28mself\u001b[39m, \u001b[38;5;124m'\u001b[39m\u001b[38;5;124mload\u001b[39m\u001b[38;5;124m'\u001b[39m):\n\u001b[0;32m    584\u001b[0m         \u001b[38;5;66;03m# Clear cached data. It will be reloaded the next\u001b[39;00m\n\u001b[0;32m    585\u001b[0m         \u001b[38;5;66;03m# time that an attribute is accessed.\u001b[39;00m\n\u001b[0;32m    586\u001b[0m         \u001b[38;5;66;03m# TODO: Make this configurable in the future?\u001b[39;00m\n\u001b[0;32m    587\u001b[0m         \u001b[38;5;28mself\u001b[39m\u001b[38;5;241m.\u001b[39mmeta\u001b[38;5;241m.\u001b[39mdata \u001b[38;5;241m=\u001b[39m \u001b[38;5;28;01mNone\u001b[39;00m\n",
      "File \u001b[1;32me:\\py313\\Lib\\site-packages\\boto3\\resources\\action.py:88\u001b[0m, in \u001b[0;36mServiceAction.__call__\u001b[1;34m(self, parent, *args, **kwargs)\u001b[0m\n\u001b[0;32m     79\u001b[0m params\u001b[38;5;241m.\u001b[39mupdate(kwargs)\n\u001b[0;32m     81\u001b[0m logger\u001b[38;5;241m.\u001b[39mdebug(\n\u001b[0;32m     82\u001b[0m     \u001b[38;5;124m'\u001b[39m\u001b[38;5;124mCalling \u001b[39m\u001b[38;5;132;01m%s\u001b[39;00m\u001b[38;5;124m:\u001b[39m\u001b[38;5;132;01m%s\u001b[39;00m\u001b[38;5;124m with \u001b[39m\u001b[38;5;132;01m%r\u001b[39;00m\u001b[38;5;124m'\u001b[39m,\n\u001b[0;32m     83\u001b[0m     parent\u001b[38;5;241m.\u001b[39mmeta\u001b[38;5;241m.\u001b[39mservice_name,\n\u001b[0;32m     84\u001b[0m     operation_name,\n\u001b[0;32m     85\u001b[0m     params,\n\u001b[0;32m     86\u001b[0m )\n\u001b[1;32m---> 88\u001b[0m response \u001b[38;5;241m=\u001b[39m \u001b[38;5;28;43mgetattr\u001b[39;49m\u001b[43m(\u001b[49m\u001b[43mparent\u001b[49m\u001b[38;5;241;43m.\u001b[39;49m\u001b[43mmeta\u001b[49m\u001b[38;5;241;43m.\u001b[39;49m\u001b[43mclient\u001b[49m\u001b[43m,\u001b[49m\u001b[43m \u001b[49m\u001b[43moperation_name\u001b[49m\u001b[43m)\u001b[49m\u001b[43m(\u001b[49m\u001b[38;5;241;43m*\u001b[39;49m\u001b[43margs\u001b[49m\u001b[43m,\u001b[49m\u001b[43m \u001b[49m\u001b[38;5;241;43m*\u001b[39;49m\u001b[38;5;241;43m*\u001b[39;49m\u001b[43mparams\u001b[49m\u001b[43m)\u001b[49m\n\u001b[0;32m     90\u001b[0m logger\u001b[38;5;241m.\u001b[39mdebug(\u001b[38;5;124m'\u001b[39m\u001b[38;5;124mResponse: \u001b[39m\u001b[38;5;132;01m%r\u001b[39;00m\u001b[38;5;124m'\u001b[39m, response)\n\u001b[0;32m     92\u001b[0m \u001b[38;5;28;01mreturn\u001b[39;00m \u001b[38;5;28mself\u001b[39m\u001b[38;5;241m.\u001b[39m_response_handler(parent, params, response)\n",
      "File \u001b[1;32me:\\py313\\Lib\\site-packages\\botocore\\client.py:595\u001b[0m, in \u001b[0;36mClientCreator._create_api_method.<locals>._api_call\u001b[1;34m(self, *args, **kwargs)\u001b[0m\n\u001b[0;32m    591\u001b[0m     \u001b[38;5;28;01mraise\u001b[39;00m \u001b[38;5;167;01mTypeError\u001b[39;00m(\n\u001b[0;32m    592\u001b[0m         \u001b[38;5;124mf\u001b[39m\u001b[38;5;124m\"\u001b[39m\u001b[38;5;132;01m{\u001b[39;00mpy_operation_name\u001b[38;5;132;01m}\u001b[39;00m\u001b[38;5;124m() only accepts keyword arguments.\u001b[39m\u001b[38;5;124m\"\u001b[39m\n\u001b[0;32m    593\u001b[0m     )\n\u001b[0;32m    594\u001b[0m \u001b[38;5;66;03m# The \"self\" in this scope is referring to the BaseClient.\u001b[39;00m\n\u001b[1;32m--> 595\u001b[0m \u001b[38;5;28;01mreturn\u001b[39;00m \u001b[38;5;28;43mself\u001b[39;49m\u001b[38;5;241;43m.\u001b[39;49m\u001b[43m_make_api_call\u001b[49m\u001b[43m(\u001b[49m\u001b[43moperation_name\u001b[49m\u001b[43m,\u001b[49m\u001b[43m \u001b[49m\u001b[43mkwargs\u001b[49m\u001b[43m)\u001b[49m\n",
      "File \u001b[1;32me:\\py313\\Lib\\site-packages\\botocore\\context.py:123\u001b[0m, in \u001b[0;36mwith_current_context.<locals>.decorator.<locals>.wrapper\u001b[1;34m(*args, **kwargs)\u001b[0m\n\u001b[0;32m    121\u001b[0m \u001b[38;5;28;01mif\u001b[39;00m hook:\n\u001b[0;32m    122\u001b[0m     hook()\n\u001b[1;32m--> 123\u001b[0m \u001b[38;5;28;01mreturn\u001b[39;00m \u001b[43mfunc\u001b[49m\u001b[43m(\u001b[49m\u001b[38;5;241;43m*\u001b[39;49m\u001b[43margs\u001b[49m\u001b[43m,\u001b[49m\u001b[43m \u001b[49m\u001b[38;5;241;43m*\u001b[39;49m\u001b[38;5;241;43m*\u001b[39;49m\u001b[43mkwargs\u001b[49m\u001b[43m)\u001b[49m\n",
      "File \u001b[1;32me:\\py313\\Lib\\site-packages\\botocore\\client.py:999\u001b[0m, in \u001b[0;36mBaseClient._make_api_call\u001b[1;34m(self, operation_name, api_params)\u001b[0m\n\u001b[0;32m    988\u001b[0m     logger\u001b[38;5;241m.\u001b[39mdebug(\n\u001b[0;32m    989\u001b[0m         \u001b[38;5;124m'\u001b[39m\u001b[38;5;124mWarning: \u001b[39m\u001b[38;5;132;01m%s\u001b[39;00m\u001b[38;5;124m.\u001b[39m\u001b[38;5;132;01m%s\u001b[39;00m\u001b[38;5;124m() is deprecated\u001b[39m\u001b[38;5;124m'\u001b[39m, service_name, operation_name\n\u001b[0;32m    990\u001b[0m     )\n\u001b[0;32m    991\u001b[0m request_context \u001b[38;5;241m=\u001b[39m {\n\u001b[0;32m    992\u001b[0m     \u001b[38;5;124m'\u001b[39m\u001b[38;5;124mclient_region\u001b[39m\u001b[38;5;124m'\u001b[39m: \u001b[38;5;28mself\u001b[39m\u001b[38;5;241m.\u001b[39mmeta\u001b[38;5;241m.\u001b[39mregion_name,\n\u001b[0;32m    993\u001b[0m     \u001b[38;5;124m'\u001b[39m\u001b[38;5;124mclient_config\u001b[39m\u001b[38;5;124m'\u001b[39m: \u001b[38;5;28mself\u001b[39m\u001b[38;5;241m.\u001b[39mmeta\u001b[38;5;241m.\u001b[39mconfig,\n\u001b[1;32m   (...)\u001b[0m\n\u001b[0;32m    996\u001b[0m     \u001b[38;5;124m'\u001b[39m\u001b[38;5;124munsigned_payload\u001b[39m\u001b[38;5;124m'\u001b[39m: operation_model\u001b[38;5;241m.\u001b[39munsigned_payload,\n\u001b[0;32m    997\u001b[0m }\n\u001b[1;32m--> 999\u001b[0m api_params \u001b[38;5;241m=\u001b[39m \u001b[38;5;28;43mself\u001b[39;49m\u001b[38;5;241;43m.\u001b[39;49m\u001b[43m_emit_api_params\u001b[49m\u001b[43m(\u001b[49m\n\u001b[0;32m   1000\u001b[0m \u001b[43m    \u001b[49m\u001b[43mapi_params\u001b[49m\u001b[38;5;241;43m=\u001b[39;49m\u001b[43mapi_params\u001b[49m\u001b[43m,\u001b[49m\n\u001b[0;32m   1001\u001b[0m \u001b[43m    \u001b[49m\u001b[43moperation_model\u001b[49m\u001b[38;5;241;43m=\u001b[39;49m\u001b[43moperation_model\u001b[49m\u001b[43m,\u001b[49m\n\u001b[0;32m   1002\u001b[0m \u001b[43m    \u001b[49m\u001b[43mcontext\u001b[49m\u001b[38;5;241;43m=\u001b[39;49m\u001b[43mrequest_context\u001b[49m\u001b[43m,\u001b[49m\n\u001b[0;32m   1003\u001b[0m \u001b[43m\u001b[49m\u001b[43m)\u001b[49m\n\u001b[0;32m   1004\u001b[0m (\n\u001b[0;32m   1005\u001b[0m     endpoint_url,\n\u001b[0;32m   1006\u001b[0m     additional_headers,\n\u001b[1;32m   (...)\u001b[0m\n\u001b[0;32m   1009\u001b[0m     operation_model, api_params, request_context\n\u001b[0;32m   1010\u001b[0m )\n\u001b[0;32m   1011\u001b[0m \u001b[38;5;28;01mif\u001b[39;00m properties:\n\u001b[0;32m   1012\u001b[0m     \u001b[38;5;66;03m# Pass arbitrary endpoint info with the Request\u001b[39;00m\n\u001b[0;32m   1013\u001b[0m     \u001b[38;5;66;03m# for use during construction.\u001b[39;00m\n",
      "File \u001b[1;32me:\\py313\\Lib\\site-packages\\botocore\\client.py:1118\u001b[0m, in \u001b[0;36mBaseClient._emit_api_params\u001b[1;34m(self, api_params, operation_model, context)\u001b[0m\n\u001b[0;32m   1110\u001b[0m responses \u001b[38;5;241m=\u001b[39m \u001b[38;5;28mself\u001b[39m\u001b[38;5;241m.\u001b[39mmeta\u001b[38;5;241m.\u001b[39mevents\u001b[38;5;241m.\u001b[39memit(\n\u001b[0;32m   1111\u001b[0m     \u001b[38;5;124mf\u001b[39m\u001b[38;5;124m'\u001b[39m\u001b[38;5;124mprovide-client-params.\u001b[39m\u001b[38;5;132;01m{\u001b[39;00mservice_id\u001b[38;5;132;01m}\u001b[39;00m\u001b[38;5;124m.\u001b[39m\u001b[38;5;132;01m{\u001b[39;00moperation_name\u001b[38;5;132;01m}\u001b[39;00m\u001b[38;5;124m'\u001b[39m,\n\u001b[0;32m   1112\u001b[0m     params\u001b[38;5;241m=\u001b[39mapi_params,\n\u001b[0;32m   1113\u001b[0m     model\u001b[38;5;241m=\u001b[39moperation_model,\n\u001b[0;32m   1114\u001b[0m     context\u001b[38;5;241m=\u001b[39mcontext,\n\u001b[0;32m   1115\u001b[0m )\n\u001b[0;32m   1116\u001b[0m api_params \u001b[38;5;241m=\u001b[39m first_non_none_response(responses, default\u001b[38;5;241m=\u001b[39mapi_params)\n\u001b[1;32m-> 1118\u001b[0m \u001b[38;5;28;43mself\u001b[39;49m\u001b[38;5;241;43m.\u001b[39;49m\u001b[43mmeta\u001b[49m\u001b[38;5;241;43m.\u001b[39;49m\u001b[43mevents\u001b[49m\u001b[38;5;241;43m.\u001b[39;49m\u001b[43memit\u001b[49m\u001b[43m(\u001b[49m\n\u001b[0;32m   1119\u001b[0m \u001b[43m    \u001b[49m\u001b[38;5;124;43mf\u001b[39;49m\u001b[38;5;124;43m'\u001b[39;49m\u001b[38;5;124;43mbefore-parameter-build.\u001b[39;49m\u001b[38;5;132;43;01m{\u001b[39;49;00m\u001b[43mservice_id\u001b[49m\u001b[38;5;132;43;01m}\u001b[39;49;00m\u001b[38;5;124;43m.\u001b[39;49m\u001b[38;5;132;43;01m{\u001b[39;49;00m\u001b[43moperation_name\u001b[49m\u001b[38;5;132;43;01m}\u001b[39;49;00m\u001b[38;5;124;43m'\u001b[39;49m\u001b[43m,\u001b[49m\n\u001b[0;32m   1120\u001b[0m \u001b[43m    \u001b[49m\u001b[43mparams\u001b[49m\u001b[38;5;241;43m=\u001b[39;49m\u001b[43mapi_params\u001b[49m\u001b[43m,\u001b[49m\n\u001b[0;32m   1121\u001b[0m \u001b[43m    \u001b[49m\u001b[43mmodel\u001b[49m\u001b[38;5;241;43m=\u001b[39;49m\u001b[43moperation_model\u001b[49m\u001b[43m,\u001b[49m\n\u001b[0;32m   1122\u001b[0m \u001b[43m    \u001b[49m\u001b[43mcontext\u001b[49m\u001b[38;5;241;43m=\u001b[39;49m\u001b[43mcontext\u001b[49m\u001b[43m,\u001b[49m\n\u001b[0;32m   1123\u001b[0m \u001b[43m\u001b[49m\u001b[43m)\u001b[49m\n\u001b[0;32m   1124\u001b[0m \u001b[38;5;28;01mreturn\u001b[39;00m api_params\n",
      "File \u001b[1;32me:\\py313\\Lib\\site-packages\\botocore\\hooks.py:412\u001b[0m, in \u001b[0;36mEventAliaser.emit\u001b[1;34m(self, event_name, **kwargs)\u001b[0m\n\u001b[0;32m    410\u001b[0m \u001b[38;5;28;01mdef\u001b[39;00m\u001b[38;5;250m \u001b[39m\u001b[38;5;21memit\u001b[39m(\u001b[38;5;28mself\u001b[39m, event_name, \u001b[38;5;241m*\u001b[39m\u001b[38;5;241m*\u001b[39mkwargs):\n\u001b[0;32m    411\u001b[0m     aliased_event_name \u001b[38;5;241m=\u001b[39m \u001b[38;5;28mself\u001b[39m\u001b[38;5;241m.\u001b[39m_alias_event_name(event_name)\n\u001b[1;32m--> 412\u001b[0m     \u001b[38;5;28;01mreturn\u001b[39;00m \u001b[38;5;28;43mself\u001b[39;49m\u001b[38;5;241;43m.\u001b[39;49m\u001b[43m_emitter\u001b[49m\u001b[38;5;241;43m.\u001b[39;49m\u001b[43memit\u001b[49m\u001b[43m(\u001b[49m\u001b[43maliased_event_name\u001b[49m\u001b[43m,\u001b[49m\u001b[43m \u001b[49m\u001b[38;5;241;43m*\u001b[39;49m\u001b[38;5;241;43m*\u001b[39;49m\u001b[43mkwargs\u001b[49m\u001b[43m)\u001b[49m\n",
      "File \u001b[1;32me:\\py313\\Lib\\site-packages\\botocore\\hooks.py:256\u001b[0m, in \u001b[0;36mHierarchicalEmitter.emit\u001b[1;34m(self, event_name, **kwargs)\u001b[0m\n\u001b[0;32m    245\u001b[0m \u001b[38;5;28;01mdef\u001b[39;00m\u001b[38;5;250m \u001b[39m\u001b[38;5;21memit\u001b[39m(\u001b[38;5;28mself\u001b[39m, event_name, \u001b[38;5;241m*\u001b[39m\u001b[38;5;241m*\u001b[39mkwargs):\n\u001b[0;32m    246\u001b[0m \u001b[38;5;250m    \u001b[39m\u001b[38;5;124;03m\"\"\"\u001b[39;00m\n\u001b[0;32m    247\u001b[0m \u001b[38;5;124;03m    Emit an event by name with arguments passed as keyword args.\u001b[39;00m\n\u001b[0;32m    248\u001b[0m \n\u001b[1;32m   (...)\u001b[0m\n\u001b[0;32m    254\u001b[0m \u001b[38;5;124;03m             handlers.\u001b[39;00m\n\u001b[0;32m    255\u001b[0m \u001b[38;5;124;03m    \"\"\"\u001b[39;00m\n\u001b[1;32m--> 256\u001b[0m     \u001b[38;5;28;01mreturn\u001b[39;00m \u001b[38;5;28;43mself\u001b[39;49m\u001b[38;5;241;43m.\u001b[39;49m\u001b[43m_emit\u001b[49m\u001b[43m(\u001b[49m\u001b[43mevent_name\u001b[49m\u001b[43m,\u001b[49m\u001b[43m \u001b[49m\u001b[43mkwargs\u001b[49m\u001b[43m)\u001b[49m\n",
      "File \u001b[1;32me:\\py313\\Lib\\site-packages\\botocore\\hooks.py:239\u001b[0m, in \u001b[0;36mHierarchicalEmitter._emit\u001b[1;34m(self, event_name, kwargs, stop_on_response)\u001b[0m\n\u001b[0;32m    237\u001b[0m \u001b[38;5;28;01mfor\u001b[39;00m handler \u001b[38;5;129;01min\u001b[39;00m handlers_to_call:\n\u001b[0;32m    238\u001b[0m     logger\u001b[38;5;241m.\u001b[39mdebug(\u001b[38;5;124m'\u001b[39m\u001b[38;5;124mEvent \u001b[39m\u001b[38;5;132;01m%s\u001b[39;00m\u001b[38;5;124m: calling handler \u001b[39m\u001b[38;5;132;01m%s\u001b[39;00m\u001b[38;5;124m'\u001b[39m, event_name, handler)\n\u001b[1;32m--> 239\u001b[0m     response \u001b[38;5;241m=\u001b[39m \u001b[43mhandler\u001b[49m\u001b[43m(\u001b[49m\u001b[38;5;241;43m*\u001b[39;49m\u001b[38;5;241;43m*\u001b[39;49m\u001b[43mkwargs\u001b[49m\u001b[43m)\u001b[49m\n\u001b[0;32m    240\u001b[0m     responses\u001b[38;5;241m.\u001b[39mappend((handler, response))\n\u001b[0;32m    241\u001b[0m     \u001b[38;5;28;01mif\u001b[39;00m stop_on_response \u001b[38;5;129;01mand\u001b[39;00m response \u001b[38;5;129;01mis\u001b[39;00m \u001b[38;5;129;01mnot\u001b[39;00m \u001b[38;5;28;01mNone\u001b[39;00m:\n",
      "File \u001b[1;32me:\\py313\\Lib\\site-packages\\boto3\\dynamodb\\transform.py:217\u001b[0m, in \u001b[0;36mTransformationInjector.inject_attribute_value_input\u001b[1;34m(self, params, model, **kwargs)\u001b[0m\n\u001b[0;32m    215\u001b[0m \u001b[38;5;28;01mdef\u001b[39;00m\u001b[38;5;250m \u001b[39m\u001b[38;5;21minject_attribute_value_input\u001b[39m(\u001b[38;5;28mself\u001b[39m, params, model, \u001b[38;5;241m*\u001b[39m\u001b[38;5;241m*\u001b[39mkwargs):\n\u001b[0;32m    216\u001b[0m \u001b[38;5;250m    \u001b[39m\u001b[38;5;124;03m\"\"\"Injects DynamoDB serialization into parameter input\"\"\"\u001b[39;00m\n\u001b[1;32m--> 217\u001b[0m     \u001b[38;5;28;43mself\u001b[39;49m\u001b[38;5;241;43m.\u001b[39;49m\u001b[43m_transformer\u001b[49m\u001b[38;5;241;43m.\u001b[39;49m\u001b[43mtransform\u001b[49m\u001b[43m(\u001b[49m\n\u001b[0;32m    218\u001b[0m \u001b[43m        \u001b[49m\u001b[43mparams\u001b[49m\u001b[43m,\u001b[49m\n\u001b[0;32m    219\u001b[0m \u001b[43m        \u001b[49m\u001b[43mmodel\u001b[49m\u001b[38;5;241;43m.\u001b[39;49m\u001b[43minput_shape\u001b[49m\u001b[43m,\u001b[49m\n\u001b[0;32m    220\u001b[0m \u001b[43m        \u001b[49m\u001b[38;5;28;43mself\u001b[39;49m\u001b[38;5;241;43m.\u001b[39;49m\u001b[43m_serializer\u001b[49m\u001b[38;5;241;43m.\u001b[39;49m\u001b[43mserialize\u001b[49m\u001b[43m,\u001b[49m\n\u001b[0;32m    221\u001b[0m \u001b[43m        \u001b[49m\u001b[38;5;124;43m'\u001b[39;49m\u001b[38;5;124;43mAttributeValue\u001b[39;49m\u001b[38;5;124;43m'\u001b[39;49m\u001b[43m,\u001b[49m\n\u001b[0;32m    222\u001b[0m \u001b[43m    \u001b[49m\u001b[43m)\u001b[49m\n",
      "File \u001b[1;32me:\\py313\\Lib\\site-packages\\boto3\\dynamodb\\transform.py:289\u001b[0m, in \u001b[0;36mParameterTransformer.transform\u001b[1;34m(self, params, model, transformation, target_shape)\u001b[0m\n\u001b[0;32m    277\u001b[0m \u001b[38;5;28;01mdef\u001b[39;00m\u001b[38;5;250m \u001b[39m\u001b[38;5;21mtransform\u001b[39m(\u001b[38;5;28mself\u001b[39m, params, model, transformation, target_shape):\n\u001b[0;32m    278\u001b[0m \u001b[38;5;250m    \u001b[39m\u001b[38;5;124;03m\"\"\"Transforms the dynamodb input to or output from botocore\u001b[39;00m\n\u001b[0;32m    279\u001b[0m \n\u001b[0;32m    280\u001b[0m \u001b[38;5;124;03m    It applies a specified transformation whenever a specific shape name\u001b[39;00m\n\u001b[1;32m   (...)\u001b[0m\n\u001b[0;32m    287\u001b[0m \u001b[38;5;124;03m        transformation to\u001b[39;00m\n\u001b[0;32m    288\u001b[0m \u001b[38;5;124;03m    \"\"\"\u001b[39;00m\n\u001b[1;32m--> 289\u001b[0m     \u001b[38;5;28;43mself\u001b[39;49m\u001b[38;5;241;43m.\u001b[39;49m\u001b[43m_transform_parameters\u001b[49m\u001b[43m(\u001b[49m\u001b[43mmodel\u001b[49m\u001b[43m,\u001b[49m\u001b[43m \u001b[49m\u001b[43mparams\u001b[49m\u001b[43m,\u001b[49m\u001b[43m \u001b[49m\u001b[43mtransformation\u001b[49m\u001b[43m,\u001b[49m\u001b[43m \u001b[49m\u001b[43mtarget_shape\u001b[49m\u001b[43m)\u001b[49m\n",
      "File \u001b[1;32me:\\py313\\Lib\\site-packages\\boto3\\dynamodb\\transform.py:296\u001b[0m, in \u001b[0;36mParameterTransformer._transform_parameters\u001b[1;34m(self, model, params, transformation, target_shape)\u001b[0m\n\u001b[0;32m    294\u001b[0m type_name \u001b[38;5;241m=\u001b[39m model\u001b[38;5;241m.\u001b[39mtype_name\n\u001b[0;32m    295\u001b[0m \u001b[38;5;28;01mif\u001b[39;00m type_name \u001b[38;5;129;01min\u001b[39;00m (\u001b[38;5;124m'\u001b[39m\u001b[38;5;124mstructure\u001b[39m\u001b[38;5;124m'\u001b[39m, \u001b[38;5;124m'\u001b[39m\u001b[38;5;124mmap\u001b[39m\u001b[38;5;124m'\u001b[39m, \u001b[38;5;124m'\u001b[39m\u001b[38;5;124mlist\u001b[39m\u001b[38;5;124m'\u001b[39m):\n\u001b[1;32m--> 296\u001b[0m     \u001b[38;5;28;43mgetattr\u001b[39;49m\u001b[43m(\u001b[49m\u001b[38;5;28;43mself\u001b[39;49m\u001b[43m,\u001b[49m\u001b[43m \u001b[49m\u001b[38;5;124;43mf\u001b[39;49m\u001b[38;5;124;43m'\u001b[39;49m\u001b[38;5;124;43m_transform_\u001b[39;49m\u001b[38;5;132;43;01m{\u001b[39;49;00m\u001b[43mtype_name\u001b[49m\u001b[38;5;132;43;01m}\u001b[39;49;00m\u001b[38;5;124;43m'\u001b[39;49m\u001b[43m)\u001b[49m\u001b[43m(\u001b[49m\n\u001b[0;32m    297\u001b[0m \u001b[43m        \u001b[49m\u001b[43mmodel\u001b[49m\u001b[43m,\u001b[49m\u001b[43m \u001b[49m\u001b[43mparams\u001b[49m\u001b[43m,\u001b[49m\u001b[43m \u001b[49m\u001b[43mtransformation\u001b[49m\u001b[43m,\u001b[49m\u001b[43m \u001b[49m\u001b[43mtarget_shape\u001b[49m\n\u001b[0;32m    298\u001b[0m \u001b[43m    \u001b[49m\u001b[43m)\u001b[49m\n",
      "File \u001b[1;32me:\\py313\\Lib\\site-packages\\boto3\\dynamodb\\transform.py:312\u001b[0m, in \u001b[0;36mParameterTransformer._transform_structure\u001b[1;34m(self, model, params, transformation, target_shape)\u001b[0m\n\u001b[0;32m    310\u001b[0m     params[param] \u001b[38;5;241m=\u001b[39m transformation(params[param])\n\u001b[0;32m    311\u001b[0m \u001b[38;5;28;01melse\u001b[39;00m:\n\u001b[1;32m--> 312\u001b[0m     \u001b[38;5;28;43mself\u001b[39;49m\u001b[38;5;241;43m.\u001b[39;49m\u001b[43m_transform_parameters\u001b[49m\u001b[43m(\u001b[49m\n\u001b[0;32m    313\u001b[0m \u001b[43m        \u001b[49m\u001b[43mmember_model\u001b[49m\u001b[43m,\u001b[49m\n\u001b[0;32m    314\u001b[0m \u001b[43m        \u001b[49m\u001b[43mparams\u001b[49m\u001b[43m[\u001b[49m\u001b[43mparam\u001b[49m\u001b[43m]\u001b[49m\u001b[43m,\u001b[49m\n\u001b[0;32m    315\u001b[0m \u001b[43m        \u001b[49m\u001b[43mtransformation\u001b[49m\u001b[43m,\u001b[49m\n\u001b[0;32m    316\u001b[0m \u001b[43m        \u001b[49m\u001b[43mtarget_shape\u001b[49m\u001b[43m,\u001b[49m\n\u001b[0;32m    317\u001b[0m \u001b[43m    \u001b[49m\u001b[43m)\u001b[49m\n",
      "File \u001b[1;32me:\\py313\\Lib\\site-packages\\boto3\\dynamodb\\transform.py:296\u001b[0m, in \u001b[0;36mParameterTransformer._transform_parameters\u001b[1;34m(self, model, params, transformation, target_shape)\u001b[0m\n\u001b[0;32m    294\u001b[0m type_name \u001b[38;5;241m=\u001b[39m model\u001b[38;5;241m.\u001b[39mtype_name\n\u001b[0;32m    295\u001b[0m \u001b[38;5;28;01mif\u001b[39;00m type_name \u001b[38;5;129;01min\u001b[39;00m (\u001b[38;5;124m'\u001b[39m\u001b[38;5;124mstructure\u001b[39m\u001b[38;5;124m'\u001b[39m, \u001b[38;5;124m'\u001b[39m\u001b[38;5;124mmap\u001b[39m\u001b[38;5;124m'\u001b[39m, \u001b[38;5;124m'\u001b[39m\u001b[38;5;124mlist\u001b[39m\u001b[38;5;124m'\u001b[39m):\n\u001b[1;32m--> 296\u001b[0m     \u001b[38;5;28;43mgetattr\u001b[39;49m\u001b[43m(\u001b[49m\u001b[38;5;28;43mself\u001b[39;49m\u001b[43m,\u001b[49m\u001b[43m \u001b[49m\u001b[38;5;124;43mf\u001b[39;49m\u001b[38;5;124;43m'\u001b[39;49m\u001b[38;5;124;43m_transform_\u001b[39;49m\u001b[38;5;132;43;01m{\u001b[39;49;00m\u001b[43mtype_name\u001b[49m\u001b[38;5;132;43;01m}\u001b[39;49;00m\u001b[38;5;124;43m'\u001b[39;49m\u001b[43m)\u001b[49m\u001b[43m(\u001b[49m\n\u001b[0;32m    297\u001b[0m \u001b[43m        \u001b[49m\u001b[43mmodel\u001b[49m\u001b[43m,\u001b[49m\u001b[43m \u001b[49m\u001b[43mparams\u001b[49m\u001b[43m,\u001b[49m\u001b[43m \u001b[49m\u001b[43mtransformation\u001b[49m\u001b[43m,\u001b[49m\u001b[43m \u001b[49m\u001b[43mtarget_shape\u001b[49m\n\u001b[0;32m    298\u001b[0m \u001b[43m    \u001b[49m\u001b[43m)\u001b[49m\n",
      "File \u001b[1;32me:\\py313\\Lib\\site-packages\\boto3\\dynamodb\\transform.py:326\u001b[0m, in \u001b[0;36mParameterTransformer._transform_map\u001b[1;34m(self, model, params, transformation, target_shape)\u001b[0m\n\u001b[0;32m    324\u001b[0m \u001b[38;5;28;01mfor\u001b[39;00m key, value \u001b[38;5;129;01min\u001b[39;00m params\u001b[38;5;241m.\u001b[39mitems():\n\u001b[0;32m    325\u001b[0m     \u001b[38;5;28;01mif\u001b[39;00m value_shape \u001b[38;5;241m==\u001b[39m target_shape:\n\u001b[1;32m--> 326\u001b[0m         params[key] \u001b[38;5;241m=\u001b[39m \u001b[43mtransformation\u001b[49m\u001b[43m(\u001b[49m\u001b[43mvalue\u001b[49m\u001b[43m)\u001b[49m\n\u001b[0;32m    327\u001b[0m     \u001b[38;5;28;01melse\u001b[39;00m:\n\u001b[0;32m    328\u001b[0m         \u001b[38;5;28mself\u001b[39m\u001b[38;5;241m.\u001b[39m_transform_parameters(\n\u001b[0;32m    329\u001b[0m             value_model, params[key], transformation, target_shape\n\u001b[0;32m    330\u001b[0m         )\n",
      "File \u001b[1;32me:\\py313\\Lib\\site-packages\\boto3\\dynamodb\\types.py:114\u001b[0m, in \u001b[0;36mTypeSerializer.serialize\u001b[1;34m(self, value)\u001b[0m\n\u001b[0;32m     86\u001b[0m \u001b[38;5;28;01mdef\u001b[39;00m\u001b[38;5;250m \u001b[39m\u001b[38;5;21mserialize\u001b[39m(\u001b[38;5;28mself\u001b[39m, value):\n\u001b[0;32m     87\u001b[0m \u001b[38;5;250m    \u001b[39m\u001b[38;5;124;03m\"\"\"The method to serialize the Python data types.\u001b[39;00m\n\u001b[0;32m     88\u001b[0m \n\u001b[0;32m     89\u001b[0m \u001b[38;5;124;03m    :param value: A python value to be serialized to DynamoDB. Here are\u001b[39;00m\n\u001b[1;32m   (...)\u001b[0m\n\u001b[0;32m    112\u001b[0m \u001b[38;5;124;03m        dictionaries can be directly passed to botocore methods.\u001b[39;00m\n\u001b[0;32m    113\u001b[0m \u001b[38;5;124;03m    \"\"\"\u001b[39;00m\n\u001b[1;32m--> 114\u001b[0m     dynamodb_type \u001b[38;5;241m=\u001b[39m \u001b[38;5;28;43mself\u001b[39;49m\u001b[38;5;241;43m.\u001b[39;49m\u001b[43m_get_dynamodb_type\u001b[49m\u001b[43m(\u001b[49m\u001b[43mvalue\u001b[49m\u001b[43m)\u001b[49m\n\u001b[0;32m    115\u001b[0m     serializer \u001b[38;5;241m=\u001b[39m \u001b[38;5;28mgetattr\u001b[39m(\u001b[38;5;28mself\u001b[39m, \u001b[38;5;124mf\u001b[39m\u001b[38;5;124m'\u001b[39m\u001b[38;5;124m_serialize_\u001b[39m\u001b[38;5;132;01m{\u001b[39;00mdynamodb_type\u001b[38;5;132;01m}\u001b[39;00m\u001b[38;5;124m'\u001b[39m\u001b[38;5;241m.\u001b[39mlower())\n\u001b[0;32m    116\u001b[0m     \u001b[38;5;28;01mreturn\u001b[39;00m {dynamodb_type: serializer(value)}\n",
      "File \u001b[1;32me:\\py313\\Lib\\site-packages\\boto3\\dynamodb\\types.py:127\u001b[0m, in \u001b[0;36mTypeSerializer._get_dynamodb_type\u001b[1;34m(self, value)\u001b[0m\n\u001b[0;32m    124\u001b[0m \u001b[38;5;28;01melif\u001b[39;00m \u001b[38;5;28mself\u001b[39m\u001b[38;5;241m.\u001b[39m_is_boolean(value):\n\u001b[0;32m    125\u001b[0m     dynamodb_type \u001b[38;5;241m=\u001b[39m BOOLEAN\n\u001b[1;32m--> 127\u001b[0m \u001b[38;5;28;01melif\u001b[39;00m \u001b[38;5;28;43mself\u001b[39;49m\u001b[38;5;241;43m.\u001b[39;49m\u001b[43m_is_number\u001b[49m\u001b[43m(\u001b[49m\u001b[43mvalue\u001b[49m\u001b[43m)\u001b[49m:\n\u001b[0;32m    128\u001b[0m     dynamodb_type \u001b[38;5;241m=\u001b[39m NUMBER\n\u001b[0;32m    130\u001b[0m \u001b[38;5;28;01melif\u001b[39;00m \u001b[38;5;28mself\u001b[39m\u001b[38;5;241m.\u001b[39m_is_string(value):\n",
      "File \u001b[1;32me:\\py313\\Lib\\site-packages\\boto3\\dynamodb\\types.py:171\u001b[0m, in \u001b[0;36mTypeSerializer._is_number\u001b[1;34m(self, value)\u001b[0m\n\u001b[0;32m    169\u001b[0m     \u001b[38;5;28;01mreturn\u001b[39;00m \u001b[38;5;28;01mTrue\u001b[39;00m\n\u001b[0;32m    170\u001b[0m \u001b[38;5;28;01melif\u001b[39;00m \u001b[38;5;28misinstance\u001b[39m(value, \u001b[38;5;28mfloat\u001b[39m):\n\u001b[1;32m--> 171\u001b[0m     \u001b[38;5;28;01mraise\u001b[39;00m \u001b[38;5;167;01mTypeError\u001b[39;00m(\n\u001b[0;32m    172\u001b[0m         \u001b[38;5;124m'\u001b[39m\u001b[38;5;124mFloat types are not supported. Use Decimal types instead.\u001b[39m\u001b[38;5;124m'\u001b[39m\n\u001b[0;32m    173\u001b[0m     )\n\u001b[0;32m    174\u001b[0m \u001b[38;5;28;01mreturn\u001b[39;00m \u001b[38;5;28;01mFalse\u001b[39;00m\n",
      "\u001b[1;31mTypeError\u001b[0m: Float types are not supported. Use Decimal types instead."
     ]
    }
   ],
   "source": [
    "guardar_en_dynamodb_con_resorce(tabla, datos)"
   ]
  },
  {
   "cell_type": "markdown",
   "id": "40c43e0a",
   "metadata": {},
   "source": [
    "🛠️ ¿Por qué pasa esto?\n",
    "\n",
    "> DynamoDB (y boto3) requieren que los números con decimales sean instancias de Decimal, no de float, porque:\n",
    "\n",
    "- float en Python puede tener errores de precisión binaria.\n",
    "- Decimal garantiza precisión exacta en los valores almacenados.\n",
    "\n",
    "✅ Solución: convertir los float a Decimal\n",
    "\n",
    "```python\n",
    "from decimal import Decimal\n",
    "\n",
    "producto = {\n",
    "    'Id': 1,\n",
    "    'Nombre': 'Area',\n",
    "    'Precio': Decimal('56.38'),  # 👈 así\n",
    "    'Stock': 144\n",
    "}\n",
    "```\n",
    "\n",
    "🧹 Tip para convertir todos los float en un diccionario:\n",
    "\n",
    "```python\n",
    "from decimal import Decimal\n",
    "\n",
    "def convertir_floats_a_decimal(diccionario):\n",
    "    return {\n",
    "        k: Decimal(str(v)) if isinstance(v, float) else v\n",
    "        for k, v in diccionario.items()\n",
    "    }\n",
    "\n",
    "producto = {'Id': 1, 'Nombre': 'Area', 'Precio': 56.38, 'Stock': 144}\n",
    "producto = convertir_floats_a_decimal(producto)\n",
    "tabla.put_item(Item=producto)\n",
    "```\n",
    "\n",
    "✅ BONUS: Si querés convertir listas de productos\n",
    "\n",
    "```python\n",
    "productos = [\n",
    "    {'Id': 1, 'Nombre': 'Area', 'Precio': 56.38, 'Stock': 144},\n",
    "    {'Id': 2, 'Nombre': 'H2Oh!', 'Precio': 45.90, 'Stock': 67}\n",
    "]\n",
    "\n",
    "def convertir_lista(productos):\n",
    "    return [convertir_floats_a_decimal(p) for p in productos]\n",
    "\n",
    "productos_convertidos = convertir_lista(productos)\n",
    "\n",
    "for producto in productos_convertidos:\n",
    "    tabla.put_item(Item=producto)\n",
    "```"
   ]
  },
  {
   "cell_type": "code",
   "execution_count": 66,
   "id": "8beeae3a",
   "metadata": {},
   "outputs": [],
   "source": [
    "from decimal import Decimal\n",
    "\n",
    "def convertir_floats_a_decimal(diccionario):\n",
    "    return {\n",
    "        k: Decimal(str(v)) if isinstance(v, float) else v\n",
    "        for k, v in diccionario.items()\n",
    "    }\n"
   ]
  },
  {
   "cell_type": "code",
   "execution_count": 67,
   "id": "d21fbd6b",
   "metadata": {},
   "outputs": [],
   "source": [
    "DATOS_DECIMAL = [convertir_floats_a_decimal(producto) for producto in datos]"
   ]
  },
  {
   "cell_type": "code",
   "execution_count": 68,
   "id": "2d2b87b2",
   "metadata": {},
   "outputs": [
    {
     "data": {
      "text/plain": [
       "{'Id': 1, 'Nombre': 'American', 'Precio': Decimal('80.93'), 'Stock': 11}"
      ]
     },
     "execution_count": 68,
     "metadata": {},
     "output_type": "execute_result"
    }
   ],
   "source": [
    "DATOS_DECIMAL[0]"
   ]
  },
  {
   "cell_type": "code",
   "execution_count": 69,
   "id": "121d074f",
   "metadata": {},
   "outputs": [
    {
     "name": "stdout",
     "output_type": "stream",
     "text": [
      "{'Id': 1, 'Nombre': 'American', 'Precio': Decimal('80.93'), 'Stock': 11}\n",
      "{'Id': 2, 'Nombre': 'Hundred', 'Precio': Decimal('16.3'), 'Stock': 33}\n",
      "{'Id': 3, 'Nombre': 'Not', 'Precio': Decimal('62.9'), 'Stock': 117}\n",
      "{'Id': 4, 'Nombre': 'Or', 'Precio': Decimal('32.61'), 'Stock': 16}\n",
      "{'Id': 5, 'Nombre': 'Go', 'Precio': Decimal('71.91'), 'Stock': 151}\n",
      "{'Id': 6, 'Nombre': 'Grow', 'Precio': Decimal('49.91'), 'Stock': 87}\n",
      "{'Id': 7, 'Nombre': 'Together', 'Precio': Decimal('91.85'), 'Stock': 84}\n",
      "{'Id': 8, 'Nombre': 'Area', 'Precio': Decimal('63.84'), 'Stock': 159}\n",
      "{'Id': 9, 'Nombre': 'Collection', 'Precio': Decimal('23.05'), 'Stock': 39}\n",
      "{'Id': 10, 'Nombre': 'Central', 'Precio': Decimal('9.34'), 'Stock': 194}\n",
      "{'Id': 11, 'Nombre': 'Green', 'Precio': Decimal('77.3'), 'Stock': 54}\n",
      "{'Id': 12, 'Nombre': 'Option', 'Precio': Decimal('99.85'), 'Stock': 48}\n",
      "{'Id': 13, 'Nombre': 'Goal', 'Precio': Decimal('40.86'), 'Stock': 168}\n",
      "{'Id': 14, 'Nombre': 'Science', 'Precio': Decimal('25.85'), 'Stock': 30}\n",
      "{'Id': 15, 'Nombre': 'Else', 'Precio': Decimal('74.66'), 'Stock': 90}\n",
      "{'Id': 16, 'Nombre': 'Common', 'Precio': Decimal('30.92'), 'Stock': 68}\n",
      "{'Id': 17, 'Nombre': 'Ability', 'Precio': Decimal('57.29'), 'Stock': 76}\n",
      "{'Id': 18, 'Nombre': 'Western', 'Precio': Decimal('93.43'), 'Stock': 179}\n",
      "{'Id': 19, 'Nombre': 'Least', 'Precio': Decimal('12.02'), 'Stock': 192}\n",
      "{'Id': 20, 'Nombre': 'Staff', 'Precio': Decimal('85.14'), 'Stock': 100}\n",
      "{'Id': 21, 'Nombre': 'Begin', 'Precio': Decimal('8.4'), 'Stock': 32}\n",
      "{'Id': 22, 'Nombre': 'Unit', 'Precio': Decimal('83.37'), 'Stock': 182}\n",
      "{'Id': 23, 'Nombre': 'Picture', 'Precio': Decimal('49.38'), 'Stock': 117}\n",
      "{'Id': 24, 'Nombre': 'Huge', 'Precio': Decimal('64.63'), 'Stock': 178}\n",
      "{'Id': 25, 'Nombre': 'Available', 'Precio': Decimal('44.09'), 'Stock': 42}\n",
      "{'Id': 26, 'Nombre': 'According', 'Precio': Decimal('35.65'), 'Stock': 72}\n",
      "{'Id': 27, 'Nombre': 'Four', 'Precio': Decimal('26.24'), 'Stock': 65}\n",
      "{'Id': 28, 'Nombre': 'Sign', 'Precio': Decimal('45.37'), 'Stock': 62}\n",
      "{'Id': 29, 'Nombre': 'List', 'Precio': Decimal('64.29'), 'Stock': 161}\n",
      "{'Id': 30, 'Nombre': 'Blue', 'Precio': Decimal('35.87'), 'Stock': 180}\n",
      "{'Id': 31, 'Nombre': 'Western', 'Precio': Decimal('11.46'), 'Stock': 147}\n",
      "{'Id': 32, 'Nombre': 'Animal', 'Precio': Decimal('45.15'), 'Stock': 169}\n",
      "{'Id': 33, 'Nombre': 'Best', 'Precio': Decimal('76.16'), 'Stock': 43}\n",
      "{'Id': 34, 'Nombre': 'Region', 'Precio': Decimal('46.15'), 'Stock': 130}\n",
      "{'Id': 35, 'Nombre': 'Change', 'Precio': Decimal('56.73'), 'Stock': 97}\n",
      "{'Id': 36, 'Nombre': 'Card', 'Precio': Decimal('45.69'), 'Stock': 189}\n",
      "{'Id': 37, 'Nombre': 'Street', 'Precio': Decimal('77.84'), 'Stock': 88}\n",
      "{'Id': 38, 'Nombre': 'What', 'Precio': Decimal('66.09'), 'Stock': 134}\n",
      "{'Id': 39, 'Nombre': 'Against', 'Precio': Decimal('56.04'), 'Stock': 185}\n",
      "{'Id': 40, 'Nombre': 'Film', 'Precio': Decimal('66.73'), 'Stock': 41}\n",
      "{'Id': 41, 'Nombre': 'Which', 'Precio': Decimal('52.73'), 'Stock': 121}\n",
      "{'Id': 42, 'Nombre': 'Law', 'Precio': Decimal('92.42'), 'Stock': 71}\n",
      "{'Id': 43, 'Nombre': 'Painting', 'Precio': Decimal('72.39'), 'Stock': 113}\n",
      "{'Id': 44, 'Nombre': 'Me', 'Precio': Decimal('82.85'), 'Stock': 38}\n",
      "{'Id': 45, 'Nombre': 'Evidence', 'Precio': Decimal('96.98'), 'Stock': 18}\n",
      "{'Id': 46, 'Nombre': 'Manager', 'Precio': Decimal('98.48'), 'Stock': 45}\n",
      "{'Id': 47, 'Nombre': 'Third', 'Precio': Decimal('7.96'), 'Stock': 35}\n",
      "{'Id': 48, 'Nombre': 'Although', 'Precio': Decimal('49.89'), 'Stock': 192}\n",
      "{'Id': 49, 'Nombre': 'Specific', 'Precio': Decimal('5.33'), 'Stock': 76}\n",
      "{'Id': 50, 'Nombre': 'Focus', 'Precio': Decimal('43.84'), 'Stock': 20}\n",
      "50 productos insertados en la dynamodb.Table(name='Productos_2') en DynamoDB.\n"
     ]
    }
   ],
   "source": [
    "guardar_en_dynamodb_con_resorce(tabla, DATOS_DECIMAL)"
   ]
  },
  {
   "cell_type": "markdown",
   "id": "37e7be74",
   "metadata": {},
   "source": [
    "## Querys "
   ]
  },
  {
   "cell_type": "markdown",
   "id": "91000c3d",
   "metadata": {},
   "source": [
    "### 🔍 1. Consulta por Id\n"
   ]
  },
  {
   "cell_type": "markdown",
   "id": "24896ba0",
   "metadata": {},
   "source": [
    "#### MongoDB"
   ]
  },
  {
   "cell_type": "code",
   "execution_count": 49,
   "id": "881e803f",
   "metadata": {},
   "outputs": [],
   "source": [
    "from pymongo import MongoClient "
   ]
  },
  {
   "cell_type": "code",
   "execution_count": 55,
   "id": "76283777",
   "metadata": {},
   "outputs": [],
   "source": [
    "cliente_mongo = MongoClient(\"mongodb://localhost:27017/\")\n",
    "db_mongo = cliente_mongo[\"tienda_2\"]\n",
    "coleccion = db_mongo[\"productos\"]\n"
   ]
  },
  {
   "cell_type": "code",
   "execution_count": 56,
   "id": "c31ca912",
   "metadata": {},
   "outputs": [],
   "source": [
    "def buscar_producto_mongo(db, id_producto):\n",
    "    return db.productos.find_one({\"Id\": id_producto})\n"
   ]
  },
  {
   "cell_type": "code",
   "execution_count": 57,
   "id": "a720077d",
   "metadata": {},
   "outputs": [],
   "source": [
    "mongo_1 = buscar_producto_mongo(db_mongo, 1)"
   ]
  },
  {
   "cell_type": "code",
   "execution_count": 58,
   "id": "832da1bd",
   "metadata": {},
   "outputs": [
    {
     "data": {
      "text/plain": [
       "dict"
      ]
     },
     "execution_count": 58,
     "metadata": {},
     "output_type": "execute_result"
    }
   ],
   "source": [
    "type(mongo_1)"
   ]
  },
  {
   "cell_type": "code",
   "execution_count": 59,
   "id": "3b15b4aa",
   "metadata": {},
   "outputs": [
    {
     "name": "stdout",
     "output_type": "stream",
     "text": [
      "{\n",
      "    \"_id\": \"6848ba0d471d6dbebeeb1b22\",\n",
      "    \"Id\": 1,\n",
      "    \"Nombre\": \"American\",\n",
      "    \"Precio\": 80.93,\n",
      "    \"Stock\": 11\n",
      "}\n"
     ]
    }
   ],
   "source": [
    "import json\n",
    "print(json.dumps(mongo_1, indent=4, default=str))  # Convertir a JSON para mejor visualización"
   ]
  },
  {
   "cell_type": "markdown",
   "id": "e7816046",
   "metadata": {},
   "source": [
    "#### DynamoDB"
   ]
  },
  {
   "cell_type": "code",
   "execution_count": 70,
   "id": "d4854e98",
   "metadata": {},
   "outputs": [],
   "source": [
    "import boto3  # drive Dynamodb python -m pip install boto3\n",
    "from botocore.exceptions import ClientError"
   ]
  },
  {
   "cell_type": "code",
   "execution_count": 71,
   "id": "ba205f3e",
   "metadata": {},
   "outputs": [],
   "source": [
    "db_dynamo = boto3.resource(\n",
    "    'dynamodb',\n",
    "    region_name='us-west-2',\n",
    "    endpoint_url='http://localhost:8000', # importante para conexión local\n",
    "    aws_access_key_id='fakeMyKeyId',\n",
    "    aws_secret_access_key='fakeSecretAccessKey')"
   ]
  },
  {
   "cell_type": "code",
   "execution_count": 72,
   "id": "33f26805",
   "metadata": {},
   "outputs": [
    {
     "data": {
      "text/plain": [
       "dynamodb.Table(name='Productos_2')"
      ]
     },
     "execution_count": 72,
     "metadata": {},
     "output_type": "execute_result"
    }
   ],
   "source": [
    "tabla = db_dynamo.Table('Productos_2')\n",
    "tabla"
   ]
  },
  {
   "cell_type": "code",
   "execution_count": 73,
   "id": "240937a0",
   "metadata": {},
   "outputs": [],
   "source": [
    "def buscar_producto_dynamo(tabla, id_producto):\n",
    "    response = tabla.get_item(Key={\"Id\": id_producto})\n",
    "    return response.get(\"Item\")"
   ]
  },
  {
   "cell_type": "code",
   "execution_count": 74,
   "id": "48cfd344",
   "metadata": {},
   "outputs": [],
   "source": [
    "dynamo_1 = buscar_producto_dynamo(tabla, 1)"
   ]
  },
  {
   "cell_type": "code",
   "execution_count": 75,
   "id": "a0694484",
   "metadata": {},
   "outputs": [
    {
     "data": {
      "text/plain": [
       "dict"
      ]
     },
     "execution_count": 75,
     "metadata": {},
     "output_type": "execute_result"
    }
   ],
   "source": [
    "type(dynamo_1)"
   ]
  },
  {
   "cell_type": "code",
   "execution_count": 76,
   "id": "6800da96",
   "metadata": {},
   "outputs": [
    {
     "name": "stdout",
     "output_type": "stream",
     "text": [
      "{\n",
      "    \"Nombre\": \"American\",\n",
      "    \"Id\": \"1\",\n",
      "    \"Stock\": \"11\",\n",
      "    \"Precio\": \"80.93\"\n",
      "}\n"
     ]
    }
   ],
   "source": [
    "print(json.dumps(dynamo_1, indent=4, default=str))"
   ]
  },
  {
   "cell_type": "markdown",
   "id": "38af7dd3",
   "metadata": {},
   "source": [
    "### 🔍 2. Consulta por nombre (parcial o exacto)\n"
   ]
  },
  {
   "cell_type": "markdown",
   "id": "b5ccc0c2",
   "metadata": {},
   "source": [
    "\n",
    "#### MongoDB (regex para búsqueda parcial)\n"
   ]
  },
  {
   "cell_type": "code",
   "execution_count": 77,
   "id": "89d6df33",
   "metadata": {},
   "outputs": [],
   "source": [
    "def buscar_por_nombre_mongo(db, nombre):\n",
    "    return list(db.productos.find({\"Nombre\": {\"$regex\": nombre, \"$options\": \"i\"}}))\n"
   ]
  },
  {
   "cell_type": "code",
   "execution_count": 84,
   "id": "69d2aef7",
   "metadata": {},
   "outputs": [],
   "source": [
    "res = buscar_por_nombre_mongo(db_mongo, \"Ame\")\n"
   ]
  },
  {
   "cell_type": "code",
   "execution_count": 85,
   "id": "ca2b30a3",
   "metadata": {},
   "outputs": [
    {
     "data": {
      "text/plain": [
       "[{'_id': ObjectId('6848ba0d471d6dbebeeb1b22'),\n",
       "  'Id': 1,\n",
       "  'Nombre': 'American',\n",
       "  'Precio': 80.93,\n",
       "  'Stock': 11}]"
      ]
     },
     "execution_count": 85,
     "metadata": {},
     "output_type": "execute_result"
    }
   ],
   "source": [
    "res"
   ]
  },
  {
   "cell_type": "code",
   "execution_count": 87,
   "id": "7107171c",
   "metadata": {},
   "outputs": [
    {
     "data": {
      "text/plain": [
       "[{'_id': ObjectId('6848ba0d471d6dbebeeb1b22'),\n",
       "  'Id': 1,\n",
       "  'Nombre': 'American',\n",
       "  'Precio': 80.93,\n",
       "  'Stock': 11}]"
      ]
     },
     "execution_count": 87,
     "metadata": {},
     "output_type": "execute_result"
    }
   ],
   "source": [
    "buscar_por_nombre_mongo(db_mongo, \"American\")"
   ]
  },
  {
   "cell_type": "markdown",
   "id": "364db515",
   "metadata": {},
   "source": [
    "#### DynamoDB (scan con filtro de igualdad)\n"
   ]
  },
  {
   "cell_type": "markdown",
   "id": "c7b347a8",
   "metadata": {},
   "source": [
    "DynamoDB no permite búsquedas por atributos que no son clave sin hacer un scan.\n"
   ]
  },
  {
   "cell_type": "code",
   "execution_count": 89,
   "id": "408079da",
   "metadata": {},
   "outputs": [],
   "source": [
    "from boto3.dynamodb.conditions import Attr\n",
    "\n",
    "def buscar_por_nombre_dynamo(tabla, nombre):\n",
    "    response = tabla.scan(\n",
    "        FilterExpression=Attr(\"Nombre\").eq(nombre)\n",
    "    )\n",
    "    return response.get(\"Items\", [])\n"
   ]
  },
  {
   "cell_type": "markdown",
   "id": "975f245b",
   "metadata": {},
   "source": [
    "⚠️ Para búsquedas parciales o por regex como en Mongo, deberías usar ElasticSearch, añadir un GSI, o escanear y filtrar manualmente."
   ]
  },
  {
   "cell_type": "code",
   "execution_count": 92,
   "id": "5c091fa7",
   "metadata": {},
   "outputs": [],
   "source": [
    "res = buscar_por_nombre_dynamo(tabla, \"American\")"
   ]
  },
  {
   "cell_type": "code",
   "execution_count": 93,
   "id": "6b0c6937",
   "metadata": {},
   "outputs": [
    {
     "data": {
      "text/plain": [
       "[{'Nombre': 'American',\n",
       "  'Id': Decimal('1'),\n",
       "  'Stock': Decimal('11'),\n",
       "  'Precio': Decimal('80.93')}]"
      ]
     },
     "execution_count": 93,
     "metadata": {},
     "output_type": "execute_result"
    }
   ],
   "source": [
    "res"
   ]
  },
  {
   "cell_type": "code",
   "execution_count": null,
   "id": "5366671c",
   "metadata": {},
   "outputs": [],
   "source": [
    "res = buscar_por_nombre_dynamo(tabla, \"Exactly\")\n",
    "res"
   ]
  },
  {
   "cell_type": "code",
   "execution_count": 94,
   "id": "eb8b1033",
   "metadata": {},
   "outputs": [],
   "source": [
    "from boto3.dynamodb.conditions import Attr\n",
    "\n",
    "def buscar_nombre_contiene_dynamo(tabla, subcadena):\n",
    "    response = tabla.scan(\n",
    "        FilterExpression=Attr(\"Nombre\").contains(subcadena)\n",
    "    )\n",
    "    return response.get(\"Items\", [])"
   ]
  },
  {
   "cell_type": "code",
   "execution_count": 95,
   "id": "b74f87a6",
   "metadata": {},
   "outputs": [
    {
     "data": {
      "text/plain": [
       "[{'Nombre': 'American',\n",
       "  'Id': Decimal('1'),\n",
       "  'Stock': Decimal('11'),\n",
       "  'Precio': Decimal('80.93')},\n",
       " {'Nombre': 'Area',\n",
       "  'Id': Decimal('8'),\n",
       "  'Stock': Decimal('159'),\n",
       "  'Precio': Decimal('63.84')},\n",
       " {'Nombre': 'Against',\n",
       "  'Id': Decimal('39'),\n",
       "  'Stock': Decimal('185'),\n",
       "  'Precio': Decimal('56.04')},\n",
       " {'Nombre': 'Although',\n",
       "  'Id': Decimal('48'),\n",
       "  'Stock': Decimal('192'),\n",
       "  'Precio': Decimal('49.89')},\n",
       " {'Nombre': 'Ability',\n",
       "  'Id': Decimal('17'),\n",
       "  'Stock': Decimal('76'),\n",
       "  'Precio': Decimal('57.29')},\n",
       " {'Nombre': 'According',\n",
       "  'Id': Decimal('26'),\n",
       "  'Stock': Decimal('72'),\n",
       "  'Precio': Decimal('35.65')},\n",
       " {'Nombre': 'Available',\n",
       "  'Id': Decimal('25'),\n",
       "  'Stock': Decimal('42'),\n",
       "  'Precio': Decimal('44.09')},\n",
       " {'Nombre': 'Animal',\n",
       "  'Id': Decimal('32'),\n",
       "  'Stock': Decimal('169'),\n",
       "  'Precio': Decimal('45.15')}]"
      ]
     },
     "execution_count": 95,
     "metadata": {},
     "output_type": "execute_result"
    }
   ],
   "source": [
    "buscar_nombre_contiene_dynamo(tabla, \"A\")"
   ]
  },
  {
   "cell_type": "markdown",
   "id": "50025e2b",
   "metadata": {},
   "source": [
    "🔸 ¿Qué hace contains?\n",
    "\n",
    "Equivalente a un LIKE '%subcadena%' en SQL.\n",
    "\n",
    "Case-sensitive. Si querés hacer una búsqueda sin distinción de mayúsculas/minúsculas, tenés que normalizar los datos (por ejemplo, guardar el nombre en minúsculas en otro campo).\n"
   ]
  },
  {
   "cell_type": "markdown",
   "id": "c1590ed1",
   "metadata": {},
   "source": [
    "\n",
    "🔎 Si querés que empiece con cierta cadena (startswith)\n"
   ]
  },
  {
   "cell_type": "code",
   "execution_count": 96,
   "id": "260fc1aa",
   "metadata": {},
   "outputs": [],
   "source": [
    "def buscar_nombre_empieza_con_dynamo(tabla, prefijo):\n",
    "    response = tabla.scan(\n",
    "        FilterExpression=Attr(\"Nombre\").begins_with(prefijo)\n",
    "    )\n",
    "    return response.get(\"Items\", [])\n"
   ]
  },
  {
   "cell_type": "markdown",
   "id": "8fbf9bb7",
   "metadata": {},
   "source": [
    "\n",
    "🧨 Consideraciones importantes\n",
    "\n",
    "Esto no escala bien: scan lee toda la tabla, lo cual es lento y costoso en grandes volúmenes.\n"
   ]
  },
  {
   "cell_type": "markdown",
   "id": "ca61a29b",
   "metadata": {},
   "source": [
    "\n",
    "Para mejorar:\n",
    "\n",
    "Podés usar un GSI (Índice Secundario Global) si el campo es muy buscado.\n",
    "\n",
    "Para búsquedas complejas o texto libre, lo ideal es indexar con OpenSearch (antes ElasticSearch) y vincularlo con DynamoDB."
   ]
  },
  {
   "cell_type": "markdown",
   "id": "07be1598",
   "metadata": {},
   "source": [
    "### 🔍 3. Productos con stock mayor a cierto valor"
   ]
  },
  {
   "cell_type": "markdown",
   "id": "0f50074c",
   "metadata": {},
   "source": [
    "#### MongoDB"
   ]
  },
  {
   "cell_type": "code",
   "execution_count": 98,
   "id": "b6d3d3a7",
   "metadata": {},
   "outputs": [],
   "source": [
    "def productos_con_stock_mayor_mongo(db, minimo):\n",
    "    return list(db.productos.find({\"Stock\": {\"$gt\": minimo}}))"
   ]
  },
  {
   "cell_type": "code",
   "execution_count": 99,
   "id": "9782dd64",
   "metadata": {},
   "outputs": [
    {
     "data": {
      "text/plain": [
       "[{'_id': ObjectId('6848ba0d471d6dbebeeb1b24'),\n",
       "  'Id': 3,\n",
       "  'Nombre': 'Not',\n",
       "  'Precio': 62.9,\n",
       "  'Stock': 117},\n",
       " {'_id': ObjectId('6848ba0d471d6dbebeeb1b26'),\n",
       "  'Id': 5,\n",
       "  'Nombre': 'Go',\n",
       "  'Precio': 71.91,\n",
       "  'Stock': 151},\n",
       " {'_id': ObjectId('6848ba0d471d6dbebeeb1b27'),\n",
       "  'Id': 6,\n",
       "  'Nombre': 'Grow',\n",
       "  'Precio': 49.91,\n",
       "  'Stock': 87},\n",
       " {'_id': ObjectId('6848ba0d471d6dbebeeb1b28'),\n",
       "  'Id': 7,\n",
       "  'Nombre': 'Together',\n",
       "  'Precio': 91.85,\n",
       "  'Stock': 84},\n",
       " {'_id': ObjectId('6848ba0d471d6dbebeeb1b29'),\n",
       "  'Id': 8,\n",
       "  'Nombre': 'Area',\n",
       "  'Precio': 63.84,\n",
       "  'Stock': 159},\n",
       " {'_id': ObjectId('6848ba0d471d6dbebeeb1b2b'),\n",
       "  'Id': 10,\n",
       "  'Nombre': 'Central',\n",
       "  'Precio': 9.34,\n",
       "  'Stock': 194},\n",
       " {'_id': ObjectId('6848ba0d471d6dbebeeb1b2e'),\n",
       "  'Id': 13,\n",
       "  'Nombre': 'Goal',\n",
       "  'Precio': 40.86,\n",
       "  'Stock': 168},\n",
       " {'_id': ObjectId('6848ba0d471d6dbebeeb1b30'),\n",
       "  'Id': 15,\n",
       "  'Nombre': 'Else',\n",
       "  'Precio': 74.66,\n",
       "  'Stock': 90},\n",
       " {'_id': ObjectId('6848ba0d471d6dbebeeb1b32'),\n",
       "  'Id': 17,\n",
       "  'Nombre': 'Ability',\n",
       "  'Precio': 57.29,\n",
       "  'Stock': 76},\n",
       " {'_id': ObjectId('6848ba0d471d6dbebeeb1b33'),\n",
       "  'Id': 18,\n",
       "  'Nombre': 'Western',\n",
       "  'Precio': 93.43,\n",
       "  'Stock': 179},\n",
       " {'_id': ObjectId('6848ba0d471d6dbebeeb1b34'),\n",
       "  'Id': 19,\n",
       "  'Nombre': 'Least',\n",
       "  'Precio': 12.02,\n",
       "  'Stock': 192},\n",
       " {'_id': ObjectId('6848ba0d471d6dbebeeb1b35'),\n",
       "  'Id': 20,\n",
       "  'Nombre': 'Staff',\n",
       "  'Precio': 85.14,\n",
       "  'Stock': 100},\n",
       " {'_id': ObjectId('6848ba0d471d6dbebeeb1b37'),\n",
       "  'Id': 22,\n",
       "  'Nombre': 'Unit',\n",
       "  'Precio': 83.37,\n",
       "  'Stock': 182},\n",
       " {'_id': ObjectId('6848ba0d471d6dbebeeb1b38'),\n",
       "  'Id': 23,\n",
       "  'Nombre': 'Picture',\n",
       "  'Precio': 49.38,\n",
       "  'Stock': 117},\n",
       " {'_id': ObjectId('6848ba0d471d6dbebeeb1b39'),\n",
       "  'Id': 24,\n",
       "  'Nombre': 'Huge',\n",
       "  'Precio': 64.63,\n",
       "  'Stock': 178},\n",
       " {'_id': ObjectId('6848ba0d471d6dbebeeb1b3e'),\n",
       "  'Id': 29,\n",
       "  'Nombre': 'List',\n",
       "  'Precio': 64.29,\n",
       "  'Stock': 161},\n",
       " {'_id': ObjectId('6848ba0d471d6dbebeeb1b3f'),\n",
       "  'Id': 30,\n",
       "  'Nombre': 'Blue',\n",
       "  'Precio': 35.87,\n",
       "  'Stock': 180},\n",
       " {'_id': ObjectId('6848ba0d471d6dbebeeb1b40'),\n",
       "  'Id': 31,\n",
       "  'Nombre': 'Western',\n",
       "  'Precio': 11.46,\n",
       "  'Stock': 147},\n",
       " {'_id': ObjectId('6848ba0d471d6dbebeeb1b41'),\n",
       "  'Id': 32,\n",
       "  'Nombre': 'Animal',\n",
       "  'Precio': 45.15,\n",
       "  'Stock': 169},\n",
       " {'_id': ObjectId('6848ba0d471d6dbebeeb1b43'),\n",
       "  'Id': 34,\n",
       "  'Nombre': 'Region',\n",
       "  'Precio': 46.15,\n",
       "  'Stock': 130},\n",
       " {'_id': ObjectId('6848ba0d471d6dbebeeb1b44'),\n",
       "  'Id': 35,\n",
       "  'Nombre': 'Change',\n",
       "  'Precio': 56.73,\n",
       "  'Stock': 97},\n",
       " {'_id': ObjectId('6848ba0d471d6dbebeeb1b45'),\n",
       "  'Id': 36,\n",
       "  'Nombre': 'Card',\n",
       "  'Precio': 45.69,\n",
       "  'Stock': 189},\n",
       " {'_id': ObjectId('6848ba0d471d6dbebeeb1b46'),\n",
       "  'Id': 37,\n",
       "  'Nombre': 'Street',\n",
       "  'Precio': 77.84,\n",
       "  'Stock': 88},\n",
       " {'_id': ObjectId('6848ba0d471d6dbebeeb1b47'),\n",
       "  'Id': 38,\n",
       "  'Nombre': 'What',\n",
       "  'Precio': 66.09,\n",
       "  'Stock': 134},\n",
       " {'_id': ObjectId('6848ba0d471d6dbebeeb1b48'),\n",
       "  'Id': 39,\n",
       "  'Nombre': 'Against',\n",
       "  'Precio': 56.04,\n",
       "  'Stock': 185},\n",
       " {'_id': ObjectId('6848ba0d471d6dbebeeb1b4a'),\n",
       "  'Id': 41,\n",
       "  'Nombre': 'Which',\n",
       "  'Precio': 52.73,\n",
       "  'Stock': 121},\n",
       " {'_id': ObjectId('6848ba0d471d6dbebeeb1b4c'),\n",
       "  'Id': 43,\n",
       "  'Nombre': 'Painting',\n",
       "  'Precio': 72.39,\n",
       "  'Stock': 113},\n",
       " {'_id': ObjectId('6848ba0d471d6dbebeeb1b51'),\n",
       "  'Id': 48,\n",
       "  'Nombre': 'Although',\n",
       "  'Precio': 49.89,\n",
       "  'Stock': 192},\n",
       " {'_id': ObjectId('6848ba0d471d6dbebeeb1b52'),\n",
       "  'Id': 49,\n",
       "  'Nombre': 'Specific',\n",
       "  'Precio': 5.33,\n",
       "  'Stock': 76}]"
      ]
     },
     "execution_count": 99,
     "metadata": {},
     "output_type": "execute_result"
    }
   ],
   "source": [
    "productos_con_stock_mayor_mongo(db_mongo, 75)"
   ]
  },
  {
   "cell_type": "markdown",
   "id": "618c76d7",
   "metadata": {},
   "source": [
    "#### DynamoDB\n"
   ]
  },
  {
   "cell_type": "code",
   "execution_count": 100,
   "id": "9048715e",
   "metadata": {},
   "outputs": [],
   "source": [
    "def productos_con_stock_mayor_dynamo(tabla, minimo):\n",
    "    response = tabla.scan(\n",
    "        FilterExpression=Attr(\"Stock\").gt(minimo)\n",
    "    )\n",
    "    return response.get(\"Items\", [])"
   ]
  },
  {
   "cell_type": "code",
   "execution_count": 101,
   "id": "28f11b77",
   "metadata": {},
   "outputs": [
    {
     "data": {
      "text/plain": [
       "[{'Nombre': 'Painting',\n",
       "  'Id': Decimal('43'),\n",
       "  'Stock': Decimal('113'),\n",
       "  'Precio': Decimal('72.39')},\n",
       " {'Nombre': 'Picture',\n",
       "  'Id': Decimal('23'),\n",
       "  'Stock': Decimal('117'),\n",
       "  'Precio': Decimal('49.38')},\n",
       " {'Nombre': 'Blue',\n",
       "  'Id': Decimal('30'),\n",
       "  'Stock': Decimal('180'),\n",
       "  'Precio': Decimal('35.87')},\n",
       " {'Nombre': 'Else',\n",
       "  'Id': Decimal('15'),\n",
       "  'Stock': Decimal('90'),\n",
       "  'Precio': Decimal('74.66')},\n",
       " {'Nombre': 'Not',\n",
       "  'Id': Decimal('3'),\n",
       "  'Stock': Decimal('117'),\n",
       "  'Precio': Decimal('62.9')},\n",
       " {'Nombre': 'Go',\n",
       "  'Id': Decimal('5'),\n",
       "  'Stock': Decimal('151'),\n",
       "  'Precio': Decimal('71.91')},\n",
       " {'Nombre': 'Area',\n",
       "  'Id': Decimal('8'),\n",
       "  'Stock': Decimal('159'),\n",
       "  'Precio': Decimal('63.84')},\n",
       " {'Nombre': 'Central',\n",
       "  'Id': Decimal('10'),\n",
       "  'Stock': Decimal('194'),\n",
       "  'Precio': Decimal('9.34')},\n",
       " {'Nombre': 'Change',\n",
       "  'Id': Decimal('35'),\n",
       "  'Stock': Decimal('97'),\n",
       "  'Precio': Decimal('56.73')},\n",
       " {'Nombre': 'Against',\n",
       "  'Id': Decimal('39'),\n",
       "  'Stock': Decimal('185'),\n",
       "  'Precio': Decimal('56.04')},\n",
       " {'Nombre': 'Together',\n",
       "  'Id': Decimal('7'),\n",
       "  'Stock': Decimal('84'),\n",
       "  'Precio': Decimal('91.85')},\n",
       " {'Nombre': 'List',\n",
       "  'Id': Decimal('29'),\n",
       "  'Stock': Decimal('161'),\n",
       "  'Precio': Decimal('64.29')},\n",
       " {'Nombre': 'Unit',\n",
       "  'Id': Decimal('22'),\n",
       "  'Stock': Decimal('182'),\n",
       "  'Precio': Decimal('83.37')},\n",
       " {'Nombre': 'Huge',\n",
       "  'Id': Decimal('24'),\n",
       "  'Stock': Decimal('178'),\n",
       "  'Precio': Decimal('64.63')},\n",
       " {'Nombre': 'Staff',\n",
       "  'Id': Decimal('20'),\n",
       "  'Stock': Decimal('100'),\n",
       "  'Precio': Decimal('85.14')},\n",
       " {'Nombre': 'Specific',\n",
       "  'Id': Decimal('49'),\n",
       "  'Stock': Decimal('76'),\n",
       "  'Precio': Decimal('5.33')},\n",
       " {'Nombre': 'Which',\n",
       "  'Id': Decimal('41'),\n",
       "  'Stock': Decimal('121'),\n",
       "  'Precio': Decimal('52.73')},\n",
       " {'Nombre': 'Region',\n",
       "  'Id': Decimal('34'),\n",
       "  'Stock': Decimal('130'),\n",
       "  'Precio': Decimal('46.15')},\n",
       " {'Nombre': 'Although',\n",
       "  'Id': Decimal('48'),\n",
       "  'Stock': Decimal('192'),\n",
       "  'Precio': Decimal('49.89')},\n",
       " {'Nombre': 'Ability',\n",
       "  'Id': Decimal('17'),\n",
       "  'Stock': Decimal('76'),\n",
       "  'Precio': Decimal('57.29')},\n",
       " {'Nombre': 'Least',\n",
       "  'Id': Decimal('19'),\n",
       "  'Stock': Decimal('192'),\n",
       "  'Precio': Decimal('12.02')},\n",
       " {'Nombre': 'Animal',\n",
       "  'Id': Decimal('32'),\n",
       "  'Stock': Decimal('169'),\n",
       "  'Precio': Decimal('45.15')},\n",
       " {'Nombre': 'What',\n",
       "  'Id': Decimal('38'),\n",
       "  'Stock': Decimal('134'),\n",
       "  'Precio': Decimal('66.09')},\n",
       " {'Nombre': 'Western',\n",
       "  'Id': Decimal('31'),\n",
       "  'Stock': Decimal('147'),\n",
       "  'Precio': Decimal('11.46')},\n",
       " {'Nombre': 'Card',\n",
       "  'Id': Decimal('36'),\n",
       "  'Stock': Decimal('189'),\n",
       "  'Precio': Decimal('45.69')},\n",
       " {'Nombre': 'Goal',\n",
       "  'Id': Decimal('13'),\n",
       "  'Stock': Decimal('168'),\n",
       "  'Precio': Decimal('40.86')},\n",
       " {'Nombre': 'Grow',\n",
       "  'Id': Decimal('6'),\n",
       "  'Stock': Decimal('87'),\n",
       "  'Precio': Decimal('49.91')},\n",
       " {'Nombre': 'Western',\n",
       "  'Id': Decimal('18'),\n",
       "  'Stock': Decimal('179'),\n",
       "  'Precio': Decimal('93.43')},\n",
       " {'Nombre': 'Street',\n",
       "  'Id': Decimal('37'),\n",
       "  'Stock': Decimal('88'),\n",
       "  'Precio': Decimal('77.84')}]"
      ]
     },
     "execution_count": 101,
     "metadata": {},
     "output_type": "execute_result"
    }
   ],
   "source": [
    "productos_con_stock_mayor_dynamo(tabla, 75)"
   ]
  },
  {
   "cell_type": "markdown",
   "id": "5d0dcf91",
   "metadata": {},
   "source": [
    "### 🔍 4. Productos con precio entre dos valores\n"
   ]
  },
  {
   "cell_type": "markdown",
   "id": "28291e8e",
   "metadata": {},
   "source": [
    "#### MongoDB\n"
   ]
  },
  {
   "cell_type": "code",
   "execution_count": 102,
   "id": "26712d49",
   "metadata": {},
   "outputs": [],
   "source": [
    "def productos_en_rango_precio_mongo(db, minimo, maximo):\n",
    "    return list(db.productos.find({\n",
    "        \"Precio\": {\"$gte\": minimo, \"$lte\": maximo}\n",
    "    }))\n"
   ]
  },
  {
   "cell_type": "code",
   "execution_count": 103,
   "id": "f5cf482f",
   "metadata": {},
   "outputs": [
    {
     "data": {
      "text/plain": [
       "[{'_id': ObjectId('6848ba0d471d6dbebeeb1b22'),\n",
       "  'Id': 1,\n",
       "  'Nombre': 'American',\n",
       "  'Precio': 80.93,\n",
       "  'Stock': 11},\n",
       " {'_id': ObjectId('6848ba0d471d6dbebeeb1b28'),\n",
       "  'Id': 7,\n",
       "  'Nombre': 'Together',\n",
       "  'Precio': 91.85,\n",
       "  'Stock': 84},\n",
       " {'_id': ObjectId('6848ba0d471d6dbebeeb1b2d'),\n",
       "  'Id': 12,\n",
       "  'Nombre': 'Option',\n",
       "  'Precio': 99.85,\n",
       "  'Stock': 48},\n",
       " {'_id': ObjectId('6848ba0d471d6dbebeeb1b33'),\n",
       "  'Id': 18,\n",
       "  'Nombre': 'Western',\n",
       "  'Precio': 93.43,\n",
       "  'Stock': 179},\n",
       " {'_id': ObjectId('6848ba0d471d6dbebeeb1b35'),\n",
       "  'Id': 20,\n",
       "  'Nombre': 'Staff',\n",
       "  'Precio': 85.14,\n",
       "  'Stock': 100},\n",
       " {'_id': ObjectId('6848ba0d471d6dbebeeb1b37'),\n",
       "  'Id': 22,\n",
       "  'Nombre': 'Unit',\n",
       "  'Precio': 83.37,\n",
       "  'Stock': 182},\n",
       " {'_id': ObjectId('6848ba0d471d6dbebeeb1b4b'),\n",
       "  'Id': 42,\n",
       "  'Nombre': 'Law',\n",
       "  'Precio': 92.42,\n",
       "  'Stock': 71},\n",
       " {'_id': ObjectId('6848ba0d471d6dbebeeb1b4d'),\n",
       "  'Id': 44,\n",
       "  'Nombre': 'Me',\n",
       "  'Precio': 82.85,\n",
       "  'Stock': 38},\n",
       " {'_id': ObjectId('6848ba0d471d6dbebeeb1b4e'),\n",
       "  'Id': 45,\n",
       "  'Nombre': 'Evidence',\n",
       "  'Precio': 96.98,\n",
       "  'Stock': 18},\n",
       " {'_id': ObjectId('6848ba0d471d6dbebeeb1b4f'),\n",
       "  'Id': 46,\n",
       "  'Nombre': 'Manager',\n",
       "  'Precio': 98.48,\n",
       "  'Stock': 45}]"
      ]
     },
     "execution_count": 103,
     "metadata": {},
     "output_type": "execute_result"
    }
   ],
   "source": [
    "productos_en_rango_precio_mongo(db_mongo, 80, 100)"
   ]
  },
  {
   "cell_type": "markdown",
   "id": "28e943b6",
   "metadata": {},
   "source": [
    "#### DynamoDB"
   ]
  },
  {
   "cell_type": "code",
   "execution_count": 104,
   "id": "1157e69c",
   "metadata": {},
   "outputs": [],
   "source": [
    "def productos_en_rango_precio_dynamo(tabla, minimo, maximo):\n",
    "    from decimal import Decimal\n",
    "    response = tabla.scan(\n",
    "        FilterExpression=Attr(\"Precio\").between(Decimal(str(minimo)), Decimal(str(maximo)))\n",
    "    )\n",
    "    return response.get(\"Items\", [])"
   ]
  },
  {
   "cell_type": "code",
   "execution_count": 105,
   "id": "e602adca",
   "metadata": {},
   "outputs": [
    {
     "data": {
      "text/plain": [
       "[{'Nombre': 'Evidence',\n",
       "  'Id': Decimal('45'),\n",
       "  'Stock': Decimal('18'),\n",
       "  'Precio': Decimal('96.98')},\n",
       " {'Nombre': 'Option',\n",
       "  'Id': Decimal('12'),\n",
       "  'Stock': Decimal('48'),\n",
       "  'Precio': Decimal('99.85')},\n",
       " {'Nombre': 'American',\n",
       "  'Id': Decimal('1'),\n",
       "  'Stock': Decimal('11'),\n",
       "  'Precio': Decimal('80.93')},\n",
       " {'Nombre': 'Manager',\n",
       "  'Id': Decimal('46'),\n",
       "  'Stock': Decimal('45'),\n",
       "  'Precio': Decimal('98.48')},\n",
       " {'Nombre': 'Together',\n",
       "  'Id': Decimal('7'),\n",
       "  'Stock': Decimal('84'),\n",
       "  'Precio': Decimal('91.85')},\n",
       " {'Nombre': 'Unit',\n",
       "  'Id': Decimal('22'),\n",
       "  'Stock': Decimal('182'),\n",
       "  'Precio': Decimal('83.37')},\n",
       " {'Nombre': 'Staff',\n",
       "  'Id': Decimal('20'),\n",
       "  'Stock': Decimal('100'),\n",
       "  'Precio': Decimal('85.14')},\n",
       " {'Nombre': 'Law',\n",
       "  'Id': Decimal('42'),\n",
       "  'Stock': Decimal('71'),\n",
       "  'Precio': Decimal('92.42')},\n",
       " {'Nombre': 'Me',\n",
       "  'Id': Decimal('44'),\n",
       "  'Stock': Decimal('38'),\n",
       "  'Precio': Decimal('82.85')},\n",
       " {'Nombre': 'Western',\n",
       "  'Id': Decimal('18'),\n",
       "  'Stock': Decimal('179'),\n",
       "  'Precio': Decimal('93.43')}]"
      ]
     },
     "execution_count": 105,
     "metadata": {},
     "output_type": "execute_result"
    }
   ],
   "source": [
    "productos_en_rango_precio_dynamo(tabla, 80, 100)"
   ]
  },
  {
   "cell_type": "markdown",
   "id": "3ff9b5ca",
   "metadata": {},
   "source": [
    "### 🔄 ACTUALIZAR"
   ]
  },
  {
   "cell_type": "markdown",
   "id": "f0b6a4c0",
   "metadata": {},
   "source": [
    "\n",
    "#### MongoDB"
   ]
  },
  {
   "cell_type": "code",
   "execution_count": null,
   "id": "8f54f868",
   "metadata": {},
   "outputs": [],
   "source": [
    "def actualizar_producto_mongo(db, id_producto, nuevos_datos):\n",
    "    resultado = db.productos.update_one(\n",
    "        {\"Id\": id_producto},\n",
    "        {\"$set\": nuevos_datos}\n",
    "    )\n",
    "    return resultado.modified_count"
   ]
  },
  {
   "cell_type": "code",
   "execution_count": null,
   "id": "43d9a563",
   "metadata": {},
   "outputs": [],
   "source": [
    "actualizar_producto_mongo(db_mongo, 1, {\"Precio\": 99.99, \"Stock\": 200})"
   ]
  },
  {
   "cell_type": "code",
   "execution_count": null,
   "id": "bc8ca8a1",
   "metadata": {},
   "outputs": [],
   "source": [
    "mongo_1 = buscar_producto_mongo(db_mongo, 1)\n",
    "mongo_1"
   ]
  },
  {
   "cell_type": "markdown",
   "id": "acf6cf95",
   "metadata": {},
   "source": [
    "#### DynamoDB"
   ]
  },
  {
   "cell_type": "code",
   "execution_count": null,
   "id": "074ea988",
   "metadata": {},
   "outputs": [],
   "source": [
    "def actualizar_producto_dynamo(tabla, id_producto, nuevos_datos):\n",
    "    \n",
    "    # Construir la expresión de actualización\n",
    "    expresion = \"SET \" + \", \".join(f\"#{k}=:{k}\" for k in nuevos_datos)\n",
    "    print(expresion)\n",
    "    # Crear los nombres y valores para la expresión\n",
    "    nombres = {f\"#{k}\": k for k in nuevos_datos}\n",
    "    print(nombres)\n",
    "    # Crear los valores para la expresión\n",
    "    valores = {f\":{k}\": v for k, v in nuevos_datos.items()}\n",
    "    print(valores)\n",
    "    tabla.update_item(\n",
    "        Key={\"Id\": id_producto},\n",
    "        UpdateExpression=expresion,\n",
    "        ExpressionAttributeNames=nombres,\n",
    "        ExpressionAttributeValues=valores\n",
    "    )\n"
   ]
  },
  {
   "cell_type": "code",
   "execution_count": null,
   "id": "0407f146",
   "metadata": {},
   "outputs": [],
   "source": [
    "dynamo_1 = buscar_producto_dynamo(tabla, 1)\n",
    "dynamo_1"
   ]
  },
  {
   "cell_type": "markdown",
   "id": "f80a2366",
   "metadata": {},
   "source": [
    "⚠️ En DynamoDB, los números deben ser Decimal, no float."
   ]
  },
  {
   "cell_type": "code",
   "execution_count": null,
   "id": "0148160c",
   "metadata": {},
   "outputs": [],
   "source": [
    "from decimal import Decimal"
   ]
  },
  {
   "cell_type": "code",
   "execution_count": null,
   "id": "99a90357",
   "metadata": {},
   "outputs": [],
   "source": [
    "actualizar_producto_dynamo(tabla, 1, {\"Precio\": Decimal(\"99.99\"), \"Stock\": 200})"
   ]
  },
  {
   "cell_type": "code",
   "execution_count": null,
   "id": "3d1f7c38",
   "metadata": {},
   "outputs": [],
   "source": [
    "dynamo_1 = buscar_producto_dynamo(tabla, 1)\n",
    "dynamo_1"
   ]
  },
  {
   "cell_type": "markdown",
   "id": "2e746218",
   "metadata": {},
   "source": [
    "### 🗑️ BORRAR"
   ]
  },
  {
   "cell_type": "markdown",
   "id": "b7593b1f",
   "metadata": {},
   "source": [
    "##### 🧹 MongoDB"
   ]
  },
  {
   "cell_type": "code",
   "execution_count": null,
   "id": "7631d7d7",
   "metadata": {},
   "outputs": [],
   "source": [
    "def borrar_producto_mongo(db, id_producto):\n",
    "    resultado = db.productos.delete_one({\"Id\": id_producto})\n",
    "    return resultado.deleted_count\n"
   ]
  },
  {
   "cell_type": "code",
   "execution_count": null,
   "id": "6dd1bb5b",
   "metadata": {},
   "outputs": [],
   "source": [
    "borrar_producto_mongo(db_mongo, 1)"
   ]
  },
  {
   "cell_type": "markdown",
   "id": "382d2089",
   "metadata": {},
   "source": [
    "#### 🧹 DynamoDB"
   ]
  },
  {
   "cell_type": "code",
   "execution_count": null,
   "id": "2ccf4346",
   "metadata": {},
   "outputs": [],
   "source": [
    "def borrar_producto_dynamo(tabla, id_producto):\n",
    "    tabla.delete_item(Key={\"Id\": id_producto})"
   ]
  },
  {
   "cell_type": "code",
   "execution_count": null,
   "id": "3f88a9eb",
   "metadata": {},
   "outputs": [],
   "source": [
    "borrar_producto_dynamo(tabla, 1)"
   ]
  },
  {
   "cell_type": "markdown",
   "id": "ddc101c9",
   "metadata": {},
   "source": [
    "### 🔁 Iterar"
   ]
  },
  {
   "cell_type": "markdown",
   "id": "c717e23f",
   "metadata": {},
   "source": [
    "#### MongoDB – Iterador natural\n"
   ]
  },
  {
   "cell_type": "markdown",
   "id": "7ca37f8f",
   "metadata": {},
   "source": [
    "\n",
    "Mongo devuelve un cursor iterable directamente:"
   ]
  },
  {
   "cell_type": "markdown",
   "id": "ccecf557",
   "metadata": {},
   "source": [
    "🔹 Lo usás así:"
   ]
  },
  {
   "cell_type": "code",
   "execution_count": null,
   "id": "8208d50f",
   "metadata": {},
   "outputs": [],
   "source": [
    "for producto in db_mongo.productos.find():\n",
    "    print(producto)\n"
   ]
  },
  {
   "cell_type": "markdown",
   "id": "147d0c35",
   "metadata": {},
   "source": [
    "\n",
    "Este cursor no carga todo en memoria, así que es ideal para grandes volúmenes."
   ]
  },
  {
   "cell_type": "markdown",
   "id": "91620812",
   "metadata": {},
   "source": [
    "#### DynamoDB – scan() paginado manualmente\n"
   ]
  },
  {
   "cell_type": "markdown",
   "id": "30bbfbab",
   "metadata": {},
   "source": [
    "DynamoDB no devuelve un generador nativo, pero podés construir uno para iterar en páginas:"
   ]
  },
  {
   "cell_type": "code",
   "execution_count": null,
   "id": "79fae62a",
   "metadata": {},
   "outputs": [],
   "source": [
    "def scan_dynamo_paginas(tabla):\n",
    "    # Primera llamada al escaneo:\n",
    "    response = tabla.scan()\n",
    "    # para devolver todos los elementos obtenidos en la primera llamada al escaneo\n",
    "    yield from response.get(\"Items\", []) # esto devuelve un generador\n",
    "    \n",
    "    # mientras haya una clave de evaluación final (LastEvaluatedKey) en la respuesta\n",
    "    while \"LastEvaluatedKey\" in response:\n",
    "        # Escaneo de páginas adicionales:\n",
    "        # pasando la clave de evaluación final como ExclusiveStartKey\n",
    "        # Esto permite continuar desde donde se dejó en la llamada anterior.\n",
    "        response = tabla.scan(ExclusiveStartKey=response[\"LastEvaluatedKey\"])\n",
    "        yield from response.get(\"Items\", [])\n"
   ]
  },
  {
   "cell_type": "markdown",
   "id": "94735433",
   "metadata": {},
   "source": [
    "\n",
    "🔹 Lo usás así:\n"
   ]
  },
  {
   "cell_type": "code",
   "execution_count": null,
   "id": "03f746a4",
   "metadata": {},
   "outputs": [],
   "source": [
    "for item in scan_dynamo_paginas(tabla):\n",
    "    print(item)\n"
   ]
  },
  {
   "cell_type": "markdown",
   "id": "a8d0e7d5",
   "metadata": {},
   "source": [
    "🔁 Esto escanea toda la tabla, de forma paginada (Dynamo devuelve máximo 1 MB por respuesta)."
   ]
  },
  {
   "cell_type": "code",
   "execution_count": null,
   "id": "4f70b8f3",
   "metadata": {},
   "outputs": [],
   "source": []
  }
 ],
 "metadata": {
  "kernelspec": {
   "display_name": "py313",
   "language": "python",
   "name": "py313"
  },
  "language_info": {
   "codemirror_mode": {
    "name": "ipython",
    "version": 3
   },
   "file_extension": ".py",
   "mimetype": "text/x-python",
   "name": "python",
   "nbconvert_exporter": "python",
   "pygments_lexer": "ipython3",
   "version": "3.13.1"
  }
 },
 "nbformat": 4,
 "nbformat_minor": 5
}
