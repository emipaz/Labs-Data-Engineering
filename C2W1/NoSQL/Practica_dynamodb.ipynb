{
 "cells": [
  {
   "cell_type": "markdown",
   "id": "314629fd",
   "metadata": {},
   "source": [
    "# DynamoDB"
   ]
  },
  {
   "cell_type": "markdown",
   "id": "da0ec789",
   "metadata": {},
   "source": [
    "## Intalar DynamoDB-local docker"
   ]
  },
  {
   "cell_type": "markdown",
   "id": "a9374ab2",
   "metadata": {},
   "source": [
    "```bash\n",
    "docker run -d \\\n",
    "  -p 8000:8000 \\\n",
    "  -v $(pwd)/dynamodb_data:/home/dynamodblocal/data \\\n",
    "  amazon/dynamodb-local \\\n",
    "  -jar DynamoDBLocal.jar -sharedDb -dbPath /home/dynamodblocal/data\n",
    "```"
   ]
  },
  {
   "cell_type": "markdown",
   "id": "c94e1c9b",
   "metadata": {},
   "source": [
    "script\n",
    "\n",
    "```bash\n",
    "#!/bin/bash\n",
    "\n",
    "# Nombre del contenedor\n",
    "CONTENEDOR=\"dynamodb-local\"\n",
    "\n",
    "# Ruta del volumen de datos\n",
    "DATA_DIR=\"$HOME/dynamodb_data\"\n",
    "\n",
    "# Crear carpeta de datos si no existe\n",
    "mkdir -p \"$DATA_DIR\"\n",
    "\n",
    "# Verificar si el contenedor ya existe\n",
    "if docker ps -a --format '{{.Names}}' | grep -q \"^${CONTENEDOR}$\"; then\n",
    "    echo \"El contenedor '$CONTENEDOR' ya existe.\"\n",
    "\n",
    "    # Si no está corriendo, iniciarlo\n",
    "    if [ \"$(docker inspect -f '{{.State.Running}}' $CONTENEDOR)\" != \"true\" ]; then\n",
    "        echo \"Iniciando el contenedor...\"\n",
    "        docker start $CONTENEDOR\n",
    "    else\n",
    "        echo \"Ya está corriendo.\"\n",
    "    fi\n",
    "else\n",
    "    echo \"Creando e iniciando el contenedor '$CONTENEDOR'...\"\n",
    "    docker run -d \\\n",
    "        --name $CONTENEDOR \\\n",
    "        -p 8000:8000 \\\n",
    "        -v \"$DATA_DIR\":/home/dynamodblocal/data \\\n",
    "        amazon/dynamodb-local \\\n",
    "        -jar DynamoDBLocal.jar -sharedDb -dbPath /home/dynamodblocal/data\n",
    "fi\n",
    "\n",
    "# Mostrar logs recientes\n",
    "echo \"Logs recientes:\"\n",
    "docker logs --tail 5 $CONTENEDOR\n",
    "```"
   ]
  },
  {
   "cell_type": "code",
   "execution_count": 41,
   "id": "4c113cce",
   "metadata": {},
   "outputs": [],
   "source": [
    "import boto3"
   ]
  },
  {
   "cell_type": "markdown",
   "id": "18cd0291",
   "metadata": {},
   "source": [
    "## Crear un cliente de boto para dynamodb-local"
   ]
  },
  {
   "cell_type": "code",
   "execution_count": 2,
   "id": "b3d2ea48",
   "metadata": {},
   "outputs": [],
   "source": [
    "cliente = boto3.client(\n",
    "        \"dynamodb\",\n",
    "        endpoint_url=\"http://localhost:8000\",  # 🔸 DynamoDB Local\n",
    "        region_name=\"us-west-2\",               # 🔹 Requerido por boto3 (puede ser cualquiera)\n",
    "        aws_access_key_id=\"fakeMyKeyId\",       # 🔹 Cualquier valor\n",
    "        aws_secret_access_key=\"fakeSecretKey\"  # 🔹 Cualquier valor\n",
    "    )"
   ]
  },
  {
   "cell_type": "code",
   "execution_count": 4,
   "id": "c0f95d4e",
   "metadata": {},
   "outputs": [
    {
     "data": {
      "text/plain": [
       "{'TableNames': [],\n",
       " 'ResponseMetadata': {'RequestId': '4687e77d-4c30-47f6-a321-2d24ffe0186d',\n",
       "  'HTTPStatusCode': 200,\n",
       "  'HTTPHeaders': {'server': 'Jetty(12.0.14)',\n",
       "   'date': 'Sat, 31 May 2025 18:15:04 GMT',\n",
       "   'x-amzn-requestid': '4687e77d-4c30-47f6-a321-2d24ffe0186d',\n",
       "   'content-type': 'application/x-amz-json-1.0',\n",
       "   'x-amz-crc32': '1315925753',\n",
       "   'content-length': '17'},\n",
       "  'RetryAttempts': 0}}"
      ]
     },
     "execution_count": 4,
     "metadata": {},
     "output_type": "execute_result"
    }
   ],
   "source": [
    "cliente.list_tables()  # 🔸 Listar tablas"
   ]
  },
  {
   "cell_type": "markdown",
   "id": "bf10d3a8",
   "metadata": {},
   "source": [
    "## Crear una tabla"
   ]
  },
  {
   "cell_type": "code",
   "execution_count": 12,
   "id": "2caf28f9",
   "metadata": {},
   "outputs": [],
   "source": [
    "def create_table_db(table_name: str, **kwargs):\n",
    "    \"\"\"\n",
    "    Crea una tabla en DynamoDB usando un cliente de boto3 previamente configurado.\n",
    "\n",
    "    Parámetros:\n",
    "    -----------\n",
    "    table_name : str\n",
    "        El nombre de la tabla que se quiere crear.\n",
    "    \n",
    "    **kwargs :\n",
    "        Otros parámetros necesarios para definir la tabla, como:\n",
    "            - AttributeDefinitions\n",
    "            - KeySchema\n",
    "            - ProvisionedThroughput\n",
    "            - GlobalSecondaryIndexes (opcional)\n",
    "            - LocalSecondaryIndexes (opcional)\n",
    "\n",
    "    Retorna:\n",
    "    --------\n",
    "    dict\n",
    "        La respuesta del cliente de boto3 con la descripción de la tabla creada.\n",
    "    \n",
    "    Nota:\n",
    "    -----\n",
    "    Esta función espera que el objeto `client` ya esté creado en el ámbito global.\n",
    "    Además, utiliza un \"waiter\" de boto3 para esperar a que la tabla esté disponible antes de continuar.\n",
    "    \"\"\"\n",
    "\n",
    "    # Llamamos a la función create_table del cliente para crear la tabla con los parámetros recibidos.\n",
    "    response = cliente.create_table(TableName=table_name, **kwargs)\n",
    "\n",
    "    # Obtenemos un \"esperador\" (waiter) que se bloquea hasta que la tabla exista (es decir, esté lista).\n",
    "    waiter = cliente.get_waiter(\"table_exists\")\n",
    "    waiter.wait(TableName=table_name)\n",
    "\n",
    "    # Devolvemos la respuesta que contiene los detalles de la tabla recién creada.\n",
    "    return response"
   ]
  },
  {
   "cell_type": "code",
   "execution_count": 8,
   "id": "c6f940f2",
   "metadata": {},
   "outputs": [],
   "source": [
    "COURSE_PREFIX = \"Data-Engineering\""
   ]
  },
  {
   "cell_type": "code",
   "execution_count": 9,
   "id": "16c1c576",
   "metadata": {},
   "outputs": [],
   "source": [
    "capacity_units = {'ReadCapacityUnits': 10, 'WriteCapacityUnits': 5}\n"
   ]
  },
  {
   "cell_type": "markdown",
   "id": "d9ee36c2",
   "metadata": {},
   "source": [
    "🧱 ¿Qué representa esta estructura?\n",
    "\n",
    "```python \n",
    "capacity_units = {'ReadCapacityUnits': 10, 'WriteCapacityUnits': 5}\n",
    "```\n",
    "\n",
    "Esto define la capacidad provisionada de la tabla (solo se usa en modo provisionado, incluso si estás usando DynamoDB local):\n",
    "\n",
    "- ReadCapacityUnits: número de unidades de lectura por segundo.\n",
    "- WriteCapacityUnits: número de unidades de escritura por segundo.\n",
    "\n",
    "En DynamoDB local no afecta al rendimiento, pero sigue siendo obligatorio."
   ]
  },
  {
   "cell_type": "code",
   "execution_count": 10,
   "id": "c8ad7ab9",
   "metadata": {},
   "outputs": [],
   "source": [
    "\n",
    "product_catalog_table = {'table_name': f'{COURSE_PREFIX}-ProductCatalog',\n",
    "                         'kwargs': {\n",
    "                             'KeySchema': [{'AttributeName': 'Id', 'KeyType': 'HASH'}],\n",
    "                             'AttributeDefinitions': [{'AttributeName': 'Id', 'AttributeType': 'N'}],\n",
    "                             'ProvisionedThroughput': capacity_units\n",
    "                         }\n",
    "                        }"
   ]
  },
  {
   "cell_type": "markdown",
   "id": "1fdfcef7",
   "metadata": {},
   "source": [
    "- KeySchema\n",
    "\n",
    "  ```python\n",
    "  'KeySchema': [{'AttributeName': 'Id', 'KeyType': 'HASH'}] \n",
    "  ```\n",
    "\n",
    "  - Define la clave primaria de la tabla.\n",
    "    - Aquí se usa una clave de partición (HASH) llamada \"Id\".\n",
    "    - No se usa clave de ordenación (RANGE), por lo tanto, esta tabla no está compuesta.\n"
   ]
  },
  {
   "cell_type": "markdown",
   "id": "0035ae18",
   "metadata": {},
   "source": [
    "- AttributeDefinitions\n",
    "\n",
    "  ```python\n",
    "  'AttributeDefinitions': [{'AttributeName': 'Id', 'AttributeType': 'N'}]\n",
    "  ```\n",
    "\n",
    "  - Se especifica el tipo de atributo para las claves.\n",
    "    - \"AttributeType\": \"N\" indica que el campo Id es un número (Number).\n",
    "    - Otros posibles valores son \"S\" (String) o \"B\" (Binary).\n",
    "\n",
    "- ProvisionedThroughput\n",
    "\n",
    "  ```python\n",
    "  'ProvisionedThroughput': capacity_units\n",
    "  ```\n",
    "\n",
    "  - Usa el diccionario capacity_units definido anteriormente.\n",
    "    - Esto se pasa tal cual a la API de boto3."
   ]
  },
  {
   "cell_type": "code",
   "execution_count": 13,
   "id": "ea91c1e0",
   "metadata": {},
   "outputs": [],
   "source": [
    "response = create_table_db(table_name=product_catalog_table['table_name'], **product_catalog_table[\"kwargs\"]) \n",
    "# print(response)"
   ]
  },
  {
   "cell_type": "code",
   "execution_count": 14,
   "id": "5d7de2b0",
   "metadata": {},
   "outputs": [],
   "source": [
    "import json"
   ]
  },
  {
   "cell_type": "code",
   "execution_count": 15,
   "id": "9ac4dd9e",
   "metadata": {},
   "outputs": [
    {
     "name": "stdout",
     "output_type": "stream",
     "text": [
      "{\n",
      "  \"TableDescription\": {\n",
      "    \"AttributeDefinitions\": [\n",
      "      {\n",
      "        \"AttributeName\": \"Id\",\n",
      "        \"AttributeType\": \"N\"\n",
      "      }\n",
      "    ],\n",
      "    \"TableName\": \"Data-Engineering-ProductCatalog\",\n",
      "    \"KeySchema\": [\n",
      "      {\n",
      "        \"AttributeName\": \"Id\",\n",
      "        \"KeyType\": \"HASH\"\n",
      "      }\n",
      "    ],\n",
      "    \"TableStatus\": \"ACTIVE\",\n",
      "    \"CreationDateTime\": \"2025-05-31 15:32:11.895000-03:00\",\n",
      "    \"ProvisionedThroughput\": {\n",
      "      \"LastIncreaseDateTime\": \"1969-12-31 21:00:00-03:00\",\n",
      "      \"LastDecreaseDateTime\": \"1969-12-31 21:00:00-03:00\",\n",
      "      \"NumberOfDecreasesToday\": 0,\n",
      "      \"ReadCapacityUnits\": 10,\n",
      "      \"WriteCapacityUnits\": 5\n",
      "    },\n",
      "    \"TableSizeBytes\": 0,\n",
      "    \"ItemCount\": 0,\n",
      "    \"TableArn\": \"arn:aws:dynamodb:ddblocal:000000000000:table/Data-Engineering-ProductCatalog\",\n",
      "    \"DeletionProtectionEnabled\": false\n",
      "  },\n",
      "  \"ResponseMetadata\": {\n",
      "    \"RequestId\": \"c2de7ac0-b9e7-4c63-8afc-066b6eac0d5f\",\n",
      "    \"HTTPStatusCode\": 200,\n",
      "    \"HTTPHeaders\": {\n",
      "      \"server\": \"Jetty(12.0.14)\",\n",
      "      \"date\": \"Sat, 31 May 2025 18:32:11 GMT\",\n",
      "      \"x-amzn-requestid\": \"c2de7ac0-b9e7-4c63-8afc-066b6eac0d5f\",\n",
      "      \"content-type\": \"application/x-amz-json-1.0\",\n",
      "      \"x-amz-crc32\": \"330137682\",\n",
      "      \"content-length\": \"561\"\n",
      "    },\n",
      "    \"RetryAttempts\": 0\n",
      "  }\n",
      "}\n"
     ]
    }
   ],
   "source": [
    "print(json.dumps(response, indent=2, default=str))  # 🔸 Imprimir la respuesta de la creación de la tabla"
   ]
  },
  {
   "cell_type": "code",
   "execution_count": 17,
   "id": "a9becb12",
   "metadata": {},
   "outputs": [],
   "source": [
    "def delete_table_db(table_name: str):\n",
    "    \"\"\"\n",
    "    Elimina una tabla de DynamoDB usando un cliente de boto3 previamente configurado.\n",
    "\n",
    "    Parámetros:\n",
    "    -----------\n",
    "    table_name : str\n",
    "        El nombre de la tabla que se desea eliminar.\n",
    "\n",
    "    Retorna:\n",
    "    --------\n",
    "    dict\n",
    "        La respuesta del cliente de boto3, que contiene detalles del proceso de eliminación.\n",
    "    \n",
    "    Nota:\n",
    "    -----\n",
    "    Esta función asume que el objeto `cliente` ya está creado en el ámbito global,\n",
    "    y configurado para conectarse a DynamoDB (ya sea en AWS o local).\n",
    "    \"\"\"\n",
    "\n",
    "    # Llamamos a delete_table para eliminar la tabla con el nombre indicado.\n",
    "    response = cliente.delete_table(TableName=table_name)\n",
    "\n",
    "    return response\n"
   ]
  },
  {
   "cell_type": "code",
   "execution_count": 34,
   "id": "8355760d",
   "metadata": {},
   "outputs": [
    {
     "name": "stdout",
     "output_type": "stream",
     "text": [
      "{\n",
      "  \"TableDescription\": {\n",
      "    \"AttributeDefinitions\": [\n",
      "      {\n",
      "        \"AttributeName\": \"id\",\n",
      "        \"AttributeType\": \"N\"\n",
      "      }\n",
      "    ],\n",
      "    \"TableName\": \"Data-Engineering-ProductCatalog\",\n",
      "    \"KeySchema\": [\n",
      "      {\n",
      "        \"AttributeName\": \"id\",\n",
      "        \"KeyType\": \"HASH\"\n",
      "      }\n",
      "    ],\n",
      "    \"TableStatus\": \"ACTIVE\",\n",
      "    \"CreationDateTime\": \"2025-05-31 15:55:30.404000-03:00\",\n",
      "    \"ProvisionedThroughput\": {\n",
      "      \"LastIncreaseDateTime\": \"1969-12-31 21:00:00-03:00\",\n",
      "      \"LastDecreaseDateTime\": \"1969-12-31 21:00:00-03:00\",\n",
      "      \"NumberOfDecreasesToday\": 0,\n",
      "      \"ReadCapacityUnits\": 10,\n",
      "      \"WriteCapacityUnits\": 5\n",
      "    },\n",
      "    \"TableSizeBytes\": 0,\n",
      "    \"ItemCount\": 0,\n",
      "    \"TableArn\": \"arn:aws:dynamodb:ddblocal:000000000000:table/Data-Engineering-ProductCatalog\",\n",
      "    \"DeletionProtectionEnabled\": false\n",
      "  },\n",
      "  \"ResponseMetadata\": {\n",
      "    \"RequestId\": \"748ed7ec-610c-4aa4-b9d7-bdd46a107478\",\n",
      "    \"HTTPStatusCode\": 200,\n",
      "    \"HTTPHeaders\": {\n",
      "      \"server\": \"Jetty(12.0.14)\",\n",
      "      \"date\": \"Sat, 31 May 2025 19:02:10 GMT\",\n",
      "      \"x-amzn-requestid\": \"748ed7ec-610c-4aa4-b9d7-bdd46a107478\",\n",
      "      \"content-type\": \"application/x-amz-json-1.0\",\n",
      "      \"x-amz-crc32\": \"2624092330\",\n",
      "      \"content-length\": \"561\"\n",
      "    },\n",
      "    \"RetryAttempts\": 0\n",
      "  }\n",
      "}\n"
     ]
    }
   ],
   "source": [
    "print(json.dumps(delete_table_db('Data-Engineering-ProductCatalog'), indent=2, default=str))"
   ]
  },
  {
   "cell_type": "code",
   "execution_count": 19,
   "id": "ed713666",
   "metadata": {},
   "outputs": [
    {
     "data": {
      "text/plain": [
       "{'TableNames': [],\n",
       " 'ResponseMetadata': {'RequestId': '358408aa-03a4-4171-a6bb-ff26042af1ee',\n",
       "  'HTTPStatusCode': 200,\n",
       "  'HTTPHeaders': {'server': 'Jetty(12.0.14)',\n",
       "   'date': 'Sat, 31 May 2025 18:35:51 GMT',\n",
       "   'x-amzn-requestid': '358408aa-03a4-4171-a6bb-ff26042af1ee',\n",
       "   'content-type': 'application/x-amz-json-1.0',\n",
       "   'x-amz-crc32': '1315925753',\n",
       "   'content-length': '17'},\n",
       "  'RetryAttempts': 0}}"
      ]
     },
     "execution_count": 19,
     "metadata": {},
     "output_type": "execute_result"
    }
   ],
   "source": [
    "cliente.list_tables()  # 🔸 Listar tablas"
   ]
  },
  {
   "cell_type": "markdown",
   "id": "59baafe6",
   "metadata": {},
   "source": [
    "___"
   ]
  },
  {
   "cell_type": "code",
   "execution_count": 23,
   "id": "a329094f",
   "metadata": {},
   "outputs": [],
   "source": [
    "for tabla in conn.tables.all():\n",
    "    print(tabla.name)                    # 🔸 Imprimir nombre de cada tabla\n",
    "    print(tabla.creation_date_time)      # 🔸 Imprimir fecha de creación de cada tabla\n",
    "    print(tabla.item_count)              # 🔸 Imprimir cantidad de items en cada tabla\n",
    "    print(tabla.table_status)            # 🔸 Imprimir estado de cada tabla\n",
    "    print(tabla.table_arn)               # 🔸 Imprimir ARN de cada tabla\n",
    "    print(tabla.provisioned_throughput)  # 🔸 Imprimir throughput provisionado\n",
    "    print(tabla)                         # 🔸 Imprimir objeto tabla completo"
   ]
  },
  {
   "cell_type": "markdown",
   "id": "4fd6f57b",
   "metadata": {},
   "source": [
    "🆚 client vs resource en boto3"
   ]
  },
  {
   "cell_type": "markdown",
   "id": "7f89357b",
   "metadata": {},
   "source": [
    "| Aspecto                      | `client`                                          | `resource`                                                   |\n",
    "| ---------------------------- | ------------------------------------------------- | ------------------------------------------------------------ |\n",
    "| 🔧 **Nivel de abstracción**  | Bajo (más cerca de la API HTTP de AWS)            | Alto (más orientado a objetos, más fácil de usar)            |\n",
    "| 🧱 **Estilo**                | Basado en funciones (`dict` de entrada/salida)    | Basado en objetos (`objeto.metodo()`)                        |\n",
    "| 📦 **Datos devueltos**       | `dict` (típico JSON con estructura API de AWS)    | Objetos de Python con atributos y métodos                    |\n",
    "| 🧭 **Validación/Control**    | Más preciso, ideal para configuraciones complejas | Más simple, ideal para tareas comunes                        |\n",
    "| 📜 **Documentación oficial** | Reproduce 1:1 la API de AWS                       | Tiene métodos adicionales que no siempre se documentan igual |\n"
   ]
  },
  {
   "cell_type": "markdown",
   "id": "32c5d3a7",
   "metadata": {},
   "source": [
    "🧠 ¿Cuál usar?\n",
    "\n",
    "| Caso de uso                                  | Recomendación |\n",
    "| -------------------------------------------- | ------------- |\n",
    "| Operaciones simples y legibles               | ✅ `resource`  |\n",
    "| Acceso completo a todas las funciones de API | ✅ `client`    |\n",
    "| Control total sobre headers y parámetros     | ✅ `client`    |\n",
    "| Rápida escritura de scripts CRUD             | ✅ `resource`  |\n"
   ]
  },
  {
   "cell_type": "markdown",
   "id": "1bfa9c6c",
   "metadata": {},
   "source": [
    "🎯 Tip final:\n",
    "\n",
    "En muchos proyectos se usa resource para el código principal y client cuando se necesita algo más avanzado, como esperar a que una tabla exista (client.get_waiter())."
   ]
  },
  {
   "cell_type": "code",
   "execution_count": 26,
   "id": "7cf784d9",
   "metadata": {},
   "outputs": [],
   "source": [
    "conn = boto3.resource(\n",
    "    'dynamodb',\n",
    "    region_name='us-west-2',\n",
    "    endpoint_url='http://localhost:8000', # importante para conexión local\n",
    "    aws_access_key_id='fakeMyKeyId',\n",
    "    aws_secret_access_key='fakeSecretAccessKey')"
   ]
  },
  {
   "cell_type": "code",
   "execution_count": 27,
   "id": "a4fc11ba",
   "metadata": {},
   "outputs": [
    {
     "data": {
      "text/plain": [
       "dynamodb.tablesCollection(dynamodb.ServiceResource(), dynamodb.Table)"
      ]
     },
     "execution_count": 27,
     "metadata": {},
     "output_type": "execute_result"
    }
   ],
   "source": [
    "conn.tables.all()"
   ]
  },
  {
   "cell_type": "markdown",
   "id": "1e4490df",
   "metadata": {},
   "source": [
    "Datos para crear la tabla"
   ]
  },
  {
   "cell_type": "markdown",
   "id": "14a252ff",
   "metadata": {},
   "source": [
    "```python\n",
    "product_catalog_table = {'table_name': f'{COURSE_PREFIX}-ProductCatalog',\n",
    "                         'kwargs': {\n",
    "                             'KeySchema': [{'AttributeName': 'Id', 'KeyType': 'HASH'}],\n",
    "                             'AttributeDefinitions': [{'AttributeName': 'Id', 'AttributeType': 'N'}],\n",
    "                             'ProvisionedThroughput': capacity_units\n",
    "                         }\n",
    "                        }\n",
    "capacity_units = {'ReadCapacityUnits': 10, 'WriteCapacityUnits': 5}\n",
    "```"
   ]
  },
  {
   "cell_type": "code",
   "execution_count": 38,
   "id": "bf07766e",
   "metadata": {},
   "outputs": [
    {
     "name": "stdout",
     "output_type": "stream",
     "text": [
      "la tabla existe\n"
     ]
    }
   ],
   "source": [
    "try :\n",
    "    conn.Table('Data-Engineering-ProductCatalog').load()\n",
    "    print(\"la tabla existe\") # 🔸 Verificar si la tabla existe\n",
    "except Exception as e:\n",
    "    print(e)  # 🔸 Imprimir el error si la tabla no existe\n",
    "    print(\"la tabla no existe, se creará una nueva\")\n",
    "    tabla = conn.create_table(\n",
    "    TableName =  \"Data-Engineering-ProductCatalog\",\n",
    "    KeySchema = [\n",
    "        {\n",
    "            'AttributeName': 'id',               # Clave primaria\n",
    "            'KeyType': 'HASH'                    # Puede ser HASH (partición) o RANGE (ordenación)\n",
    "        }\n",
    "            ],\n",
    "    AttributeDefinitions = [\n",
    "        {\n",
    "            'AttributeName': 'id',               # Nombre del atributo\n",
    "            'AttributeType': 'N'                 # Tipo de dato: N (número), S (cadena), B (binario)\n",
    "        }\n",
    "            ],\n",
    "    ProvisionedThroughput = {\n",
    "       'ReadCapacityUnits': 10,\n",
    "       'WriteCapacityUnits': 5\n",
    "        }\n",
    "    )\n",
    "    # Esperar a que la tabla esté disponible\n",
    "    tabla.meta.client.get_waiter('table_exists').wait(TableName=tabla.name)\n",
    "    print(f\"Tabla creada: {tabla.table_status}\")\n"
   ]
  },
  {
   "cell_type": "code",
   "execution_count": 39,
   "id": "449d11db",
   "metadata": {},
   "outputs": [
    {
     "name": "stdout",
     "output_type": "stream",
     "text": [
      "Data-Engineering-ProductCatalog\n",
      "2025-05-31 16:07:47.761000-03:00\n",
      "0\n",
      "ACTIVE\n",
      "arn:aws:dynamodb:ddblocal:000000000000:table/Data-Engineering-ProductCatalog\n",
      "{'LastIncreaseDateTime': datetime.datetime(1969, 12, 31, 21, 0, tzinfo=tzlocal()), 'LastDecreaseDateTime': datetime.datetime(1969, 12, 31, 21, 0, tzinfo=tzlocal()), 'NumberOfDecreasesToday': 0, 'ReadCapacityUnits': 10, 'WriteCapacityUnits': 5}\n",
      "dynamodb.Table(name='Data-Engineering-ProductCatalog')\n"
     ]
    }
   ],
   "source": [
    "for tabla in conn.tables.all():\n",
    "    print(tabla.name)                    # 🔸 Imprimir nombre de cada tabla\n",
    "    print(tabla.creation_date_time)      # 🔸 Imprimir fecha de creación de cada tabla\n",
    "    print(tabla.item_count)              # 🔸 Imprimir cantidad de items en cada tabla\n",
    "    print(tabla.table_status)            # 🔸 Imprimir estado de cada tabla\n",
    "    print(tabla.table_arn)               # 🔸 Imprimir ARN de cada tabla\n",
    "    print(tabla.provisioned_throughput)  # 🔸 Imprimir throughput provisionado\n",
    "    print(tabla)                         # 🔸 Imprimir objeto tabla completo"
   ]
  },
  {
   "cell_type": "markdown",
   "id": "4c35ab23",
   "metadata": {},
   "source": [
    "___"
   ]
  },
  {
   "cell_type": "code",
   "execution_count": null,
   "id": "5f530dd1",
   "metadata": {},
   "outputs": [],
   "source": []
  }
 ],
 "metadata": {
  "kernelspec": {
   "display_name": "py313",
   "language": "python",
   "name": "py313"
  },
  "language_info": {
   "codemirror_mode": {
    "name": "ipython",
    "version": 3
   },
   "file_extension": ".py",
   "mimetype": "text/x-python",
   "name": "python",
   "nbconvert_exporter": "python",
   "pygments_lexer": "ipython3",
   "version": "3.13.1"
  }
 },
 "nbformat": 4,
 "nbformat_minor": 5
}
