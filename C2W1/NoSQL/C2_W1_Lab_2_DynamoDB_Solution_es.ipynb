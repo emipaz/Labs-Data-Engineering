{
 "cells": [
  {
   "cell_type": "markdown",
   "metadata": {},
   "source": [
    "# Interactuando con la base de datos NoSQL Amazon DynamoDB\n",
    "\n",
    "En este laboratorio, trabajarás con DynamoDB como una base de datos clave-valor y aplicarás algunas operaciones de Crear, Leer, Actualizar y Eliminar (CRUD) en esta base de datos NoSQL.\n",
    "\n",
    "*Nota*:\n",
    "- El laboratorio contiene enlaces a recursos externos. Siempre puedes echar un vistazo a estos recursos durante la sesión de laboratorio, pero no se espera que abras y leas cada enlace durante la sesión de laboratorio. Si deseas profundizar tu comprensión, puedes revisar los recursos vinculados después de que hayas terminado con el laboratorio.\n",
    "- El laboratorio contiene 4 partes opcionales que puedes optar por omitir.\n",
    "\n",
    "Para abrir el cuaderno de soluciones, sigue estos pasos:\n",
    "- Ve al menú principal y selecciona `Archivo -> Preferencias -> Configuración`.\n",
    "- Haz clic en `Editor de texto` a la izquierda, luego desplázate hacia abajo hasta la sección `Excluir archivos`.\n",
    "- Elimina la línea `**/C2_W1_Lab_2_DynamoDB_Solution.ipynb`. El archivo ahora aparecerá en el explorador.\n",
    "- Puedes cerrar la pestaña `Configuración`.\n"
   ]
  },
  {
   "cell_type": "markdown",
   "metadata": {},
   "source": [
    "# Tabla de Contenidos\n",
    "- [ 1 - Importar Paquetes](#1)\n",
    "- [ 2 - Explorar los Datos](#2)\n",
    "- [ 3 - Crear las Tablas de DynamoDB](#3)\n",
    "  - [ Ejercicio 1](#ex01)\n",
    "- [ 4 - Cargar Datos en las Tablas](#4)\n",
    "  - [ 4.1 - Cargar Datos Elemento por Elemento](#4-1)\n",
    "    - [ Ejercicio 2](#ex02)\n",
    "  - [ 4.2 - Cargar Datos como un Lote de Elementos](#4-2)\n",
    "    - [ Ejercicio 3](#ex03)\n",
    "- [ 5 - Leer Datos de las Tablas](#5)\n",
    "  - [ 5.1 - Escanear la Tabla Completa](#5-1)\n",
    "    - [ Ejercicio 4](#ex04)\n",
    "  - [ 5.2 - Leer un Único Elemento](#5-2)\n",
    "    - [ Ejercicio 5](#ex05)\n",
    "  - [ 5.3 - Consultar Elementos que Comparten la Misma Clave de Partición](#5-3)\n",
    "    - [ Ejercicio 6](#ex06)\n",
    "    - [ Ejercicio 7](#ex07)\n",
    "  - [ 5.4 - Filtrar los Escaneos de la Tabla](#5-4)\n",
    "- [ 6 - Insertar y Actualizar Datos](#6)\n",
    "  - [ 6.1 - Insertar Datos](#6-1)\n",
    "  - [ 6.2 - Actualizar Datos](#6-2)\n",
    "    - [ Ejercicio 8](#ex08)\n",
    "    - [ Ejercicio 9](#ex09)\n",
    "- [ 7 - Eliminar Datos](#7)\n",
    "  - [ Ejercicio 10](#ex10)\n",
    "- [ 8 - Transacciones - Opcional](#8)\n",
    "  - [ Ejercicio 11](#ex11)\n",
    "- [ 9 - Limpieza](#9)\n"
   ]
  },
  {
   "cell_type": "markdown",
   "metadata": {},
   "source": [
    "<a id='1'></a>\n",
    "## 1 - Importar paquetes\n",
    "\n",
    "Primero, importemos algunos paquetes. Entre estos paquetes, puedes encontrar `boto3`, que es el kit de desarrollo de software (SDK) de AWS para Python que te permite interactuar con varios servicios de AWS utilizando código Python. Con `boto3`, puedes acceder programáticamente a recursos de AWS como instancias EC2, buckets S3, tablas de Amazon DynamoDB y más. Te proporciona una interfaz simple e intuitiva para gestionar e integrar servicios de AWS en tus aplicaciones de Python de manera eficiente.\n",
    "\n",
    "Para obtener más información sobre cada uno de los métodos que utilizarás a lo largo de este laboratorio, puedes consultar la [documentación de boto3](https://boto3.amazonaws.com/v1/documentation/api/latest/reference/services/dynamodb.html).\n"
   ]
  },
  {
   "cell_type": "code",
   "execution_count": null,
   "metadata": {},
   "outputs": [],
   "source": [
    "import decimal\n",
    "import json\n",
    "import logging\n",
    "from typing import Any, Dict, List\n",
    "\n",
    "import boto3\n",
    "from botocore.exceptions import ClientError\n",
    "from IPython.display import HTML"
   ]
  },
  {
   "cell_type": "markdown",
   "metadata": {},
   "source": [
    "Definamos la siguiente variable que utilizarás a lo largo de este laboratorio.\n"
   ]
  },
  {
   "cell_type": "code",
   "execution_count": null,
   "metadata": {},
   "outputs": [],
   "source": [
    "COURSE_PREFIX = 'de-c2w1-dynamodb'"
   ]
  },
  {
   "cell_type": "markdown",
   "metadata": {},
   "source": [
    "<a id='2'></a>\n",
    "## 2 - Explorar los Datos\n",
    "\n",
    "El conjunto de datos que utilizarás en este laboratorio es el conjunto de datos de muestra del [Guía del desarrollador de Amazon DynamoDB](https://docs.aws.amazon.com/amazondynamodb/latest/developerguide/AppendixSampleTables.html#AppendixSampleData) ([archivo zip del conjunto de datos](https://docs.aws.amazon.com/amazondynamodb/latest/developerguide/samples/sampledata.zip)). Los datos de muestra consisten en 4 archivos JSON que puedes encontrar en la carpeta `data/aws_sample_data`:\n",
    "- `ProductCatalog`: Catálogo de productos que contiene información sobre algunos productos como el ID del producto y sus características.\n",
    "- `Forum`: Información sobre algunos foros de AWS donde los usuarios publican preguntas o inician un hilo (es decir, una conversación) sobre los servicios de AWS. La información incluye el nombre del foro y el número total de hilos, mensajes y vistas en cada foro.\n",
    "- `Thread`: Información sobre cada hilo del foro (es decir, una conversación), como el asunto del hilo, el mensaje del hilo, el número total de vistas y respuestas al hilo dado, y quién publicó por último en el hilo.\n",
    "- `Reply`: Información sobre las respuestas de cada hilo, como la hora de la respuesta, el mensaje de la respuesta y el usuario que publicó la respuesta.\n",
    "\n",
    "En este laboratorio, crearás 4 tablas de DynamoDB (`de-c2w1-dynamodb-ProductCatalog`, `de-c2w1-dynamodb-Forum`, `de-c2w1-dynamodb-Thread`, `de-c2w1-dynamodb-Reply`) y cargarás en cada una los datos del archivo JSON correspondiente.\n",
    "\n",
    "*Nota*: Si revisas el contenido de cada archivo JSON, notarás el uso de letras como N, S, B. Estas son conocidas como [*Descriptores de tipo de datos*](https://docs.aws.amazon.com/amazondynamodb/latest/developerguide/HowItWorks.NamingRulesDataTypes.html#HowItWorks.DataTypeDescriptors) que indican a DynamoDB cómo interpretar el tipo de cada campo. Hablaremos más sobre esto más adelante en este laboratorio.\n"
   ]
  },
  {
   "cell_type": "markdown",
   "metadata": {},
   "source": [
    "<a id='3'></a>\n",
    "## 3 - Crear las tablas de DynamoDB\n",
    "\n",
    "**¿Qué es una tabla de DynamoDB?**\n",
    "\n",
    "La base de datos de DynamoDB es una tienda de clave-valor que almacena un conjunto de pares clave-valor. Digamos que tienes un conjunto de elementos clave-valor donde cada elemento representa un producto. Cada elemento se caracteriza por una clave única (ID de producto) y tiene un conjunto de atributos correspondientes (el valor de la clave). DynamoDB almacena estos datos clave-valor en una tabla donde cada fila contiene los atributos de un producto y utiliza la clave para identificar de forma única cada fila. Esta tabla es diferente de las tablas relacionales porque no tiene un esquema, lo que significa que ni los atributos ni sus tipos de datos necesitan definirse de antemano. Cada elemento puede tener sus propios atributos distintos. Por ejemplo, en la tabla de productos que crearás en esta sección, tendrás un elemento que representa un libro (Título, Autores, ISBN, Precio) y otro elemento que representa una bicicleta (Tipo de bicicleta, Marca, Precio, Color), ambos almacenados en la misma tabla de DynamoDB.\n"
   ]
  },
  {
   "cell_type": "markdown",
   "metadata": {},
   "source": [
    "**¿Cuál es la clave primaria de una tabla de DynamoDB?**\n",
    "\n",
    "Cuando creas una tabla de DynamoDB, necesitas especificar la clave primaria que es la clave que identifica de forma única cada ítem. La clave primaria puede ser una clave simple - clave de partición - o una clave primaria compuesta - clave de partición y clave de ordenación.\n",
    "- clave de partición (clave simple): Por ejemplo, en las tablas de productos, se utilizará el ID del producto como clave primaria ya que identifica de forma única cada producto. Para DynamoDB, esta clave primaria simple se llama clave de partición porque DynamoDB la utiliza como entrada a una función hash. La salida de la función hash determina la partición (almacenamiento físico interno) en la que se almacenará el ítem.\n",
    "- clave de partición y clave de ordenación (clave compuesta): En esta clave compuesta, dos ítems pueden tener la misma clave de partición pero deben tener diferentes claves de ordenación para que la clave compuesta aún pueda identificar de forma única cada ítem. DynamoDB utilizará la clave de partición para determinar en qué partición se almacenará el ítem. Todos los ítems con el mismo valor de clave de partición se almacenan juntos, en orden ordenado por el valor de la clave de ordenación.\n",
    "\n",
    "Puedes aprender más sobre los componentes principales de DynamoDB [aquí](https://docs.aws.amazon.com/amazondynamodb/latest/developerguide/HowItWorks.CoreComponents.html).\n"
   ]
  },
  {
   "cell_type": "markdown",
   "metadata": {},
   "source": [
    "**¿Cómo crearás las tablas?**\n",
    "\n",
    "Utilizarás el método [DynamoDB create_table()](https://boto3.amazonaws.com/v1/documentation/api/latest/reference/services/dynamodb/client/create_table.html). Este método espera 3 parámetros requeridos:\n",
    "* `TableName`: el nombre de la tabla.\n",
    "* `KeySchema`: un array de los atributos que conforman la clave primaria de una tabla. Para cada elemento en este array, necesitas especificar: `AttributeName`: el nombre del atributo, y `KeyType`: el rol que asumirá el atributo clave (`HASH` si es una clave de partición y `RANGE` si es una clave de ordenamiento). Por ejemplo,\n",
    "  ```\n",
    "  'KeySchema'= [\n",
    "      {'AttributeName': 'ForumName', 'KeyType': 'HASH'}, \n",
    "      {'AttributeName': 'Subject', 'KeyType': 'RANGE'}\n",
    "  ]\n",
    "  ```\n",
    "* `AttributeDefinitions`: un array que describe los atributos que conforman la clave primaria. Para cada elemento en este array, necesitas especificar `AttributeName` y `AttributeType`: el tipo de datos del atributo (S: String, N: Number, B: Binary,...). Por ejemplo, \n",
    "  ```\n",
    "  'AttributeDefinitions': [\n",
    "      {'AttributeName': 'ForumName', 'AttributeType': 'S'},\n",
    "      {'AttributeName': 'Subject', 'AttributeType': 'S'}\n",
    "  ]\n",
    "  ```\n",
    "Hay un parámetro adicional que puedes especificar si no deseas pagar por DynamoDB basado en la demanda y prefieres elegir el modo provisionado:\n",
    "* `ProvisionedThroughput`: un diccionario que especifica la capacidad de lectura/escritura (o rendimiento) para una tabla especificada. Consta de dos elementos:\n",
    "  - `ReadCapacityUnits`: el número máximo de lecturas consistentes fuertes consumidas por segundo;\n",
    "  - `WriteCapacityUnits`: el número máximo de escrituras consumidas por segundo.\n",
    "\n",
    "En este laboratorio, crearás 4 tablas, y para cada tabla, necesitas especificar los parámetros que acabamos de enumerar aquí. Para facilitar tu acceso a las propiedades de cada tabla a lo largo de este cuaderno, creamos los siguientes diccionarios que especifican las propiedades para cada tabla.\n"
   ]
  },
  {
   "cell_type": "code",
   "execution_count": null,
   "metadata": {},
   "outputs": [],
   "source": [
    "capacity_units = {'ReadCapacityUnits': 10, 'WriteCapacityUnits': 5}\n",
    "\n",
    "product_catalog_table = {'table_name': f'{COURSE_PREFIX}-ProductCatalog',\n",
    "                         'kwargs': {\n",
    "                             'KeySchema': [{'AttributeName': 'Id', 'KeyType': 'HASH'}],\n",
    "                             'AttributeDefinitions': [{'AttributeName': 'Id', 'AttributeType': 'N'}],\n",
    "                             'ProvisionedThroughput': capacity_units\n",
    "                         }\n",
    "                        }\n",
    "\n",
    "forum_table = {'table_name': f'{COURSE_PREFIX}-Forum',\n",
    "                'kwargs': {\n",
    "                    'KeySchema': [{'AttributeName': 'Name', 'KeyType': 'HASH'}],\n",
    "                    'AttributeDefinitions': [{'AttributeName': 'Name', 'AttributeType': 'S'}],\n",
    "                    'ProvisionedThroughput': capacity_units\n",
    "                }\n",
    "              }\n",
    "\n",
    "thread_table = {'table_name': f'{COURSE_PREFIX}-Thread',\n",
    "                'kwargs': {\n",
    "                    'KeySchema': [{'AttributeName': 'ForumName', 'KeyType': 'HASH'}, \n",
    "                                  {'AttributeName': 'Subject', 'KeyType': 'RANGE'}],\n",
    "                    'AttributeDefinitions': [{'AttributeName': 'ForumName', 'AttributeType': 'S'},\n",
    "                                             {'AttributeName': 'Subject', 'AttributeType': 'S'}],\n",
    "                    'ProvisionedThroughput': capacity_units\n",
    "                }\n",
    "               }\n",
    "\n",
    "reply_table = {'table_name': f'{COURSE_PREFIX}-Reply',\n",
    "                'kwargs': {\n",
    "                    'KeySchema': [{'AttributeName': 'Id', 'KeyType': 'HASH'}, \n",
    "                                  {'AttributeName': 'ReplyDateTime', 'KeyType': 'RANGE'}],\n",
    "                    'AttributeDefinitions': [{'AttributeName': 'Id', 'AttributeType': 'S'},\n",
    "                                             {'AttributeName': 'ReplyDateTime', 'AttributeType': 'S'}],\n",
    "                    'ProvisionedThroughput': capacity_units\n",
    "                }\n",
    "              }"
   ]
  },
  {
   "cell_type": "markdown",
   "metadata": {},
   "source": [
    "Las tablas de hilo y respuesta utilizarán ambas una clave primaria compuesta, y las tablas de producto y foro utilizarán una clave primaria simple.\n"
   ]
  },
  {
   "cell_type": "markdown",
   "metadata": {},
   "source": [
    "*Nota:* Para interactuar con AmazonDynamoDB a lo largo de este cuaderno, vas a crear un objeto cliente `boto3`. Este objeto te permite hacer solicitudes de API directamente a los servicios de AWS para crear, eliminar o modificar recursos. Cuando creas un objeto cliente `boto3`, deberás especificar los servicios de AWS con los que deseas interactuar, y luego, con el objeto cliente creado, puedes llamar a métodos para realizar varias operaciones en ese recurso.\n"
   ]
  },
  {
   "cell_type": "markdown",
   "metadata": {},
   "source": [
    "<a id='ex01'></a>\n",
    "### Ejercicio 1\n",
    "\n",
    "Para crear las 4 tablas, utilizarás la función `create_table_db()` proporcionada en la siguiente celda. Esta función llama al método `DynamoDB create_table()`, y toma dos argumentos:\n",
    "* `table_name`: el nombre de la tabla;\n",
    "* `kwargs`: Un diccionario que especifica los argumentos adicionales para `DynamoDB create_table()` como `KeySchema`, `AttributeDefinitions` y `ProvisionedThroughput` como se muestra en la celda anterior. `**kwargs` significa que los elementos en el diccionario se desempaquetan en una secuencia de argumentos.\n",
    "\n",
    "En este primer ejercicio, deberás reemplazar `None` con los valores apropiados.\n"
   ]
  },
  {
   "cell_type": "code",
   "execution_count": null,
   "metadata": {},
   "outputs": [],
   "source": [
    "def create_table_db(table_name: str, **kwargs):\n",
    "    client = boto3.client(\"dynamodb\")\n",
    "    ### START CODE HERE ### (~ 1 line of code)\n",
    "    response = client.create_table(TableName=table_name, **kwargs) # @REPLACE EQUALS client.create_table(TableName=None, None)\n",
    "    ### END CODE HERE ###\n",
    "\n",
    "    waiter = client.get_waiter(\"table_exists\")\n",
    "    waiter.wait(TableName=table_name)\n",
    "\n",
    "    return response"
   ]
  },
  {
   "cell_type": "markdown",
   "metadata": {},
   "source": [
    "Ahora que la función `create_table_db()` está lista, puedes probarla creando la tabla `ProductCatalog`. La ejecución debería tomar menos de un minuto.\n"
   ]
  },
  {
   "cell_type": "code",
   "execution_count": null,
   "metadata": {},
   "outputs": [],
   "source": [
    "response = create_table_db(table_name=product_catalog_table['table_name'], **product_catalog_table[\"kwargs\"]) \n",
    "print(response)"
   ]
  },
  {
   "cell_type": "markdown",
   "metadata": {},
   "source": [
    "##### __Salida Esperada__\n",
    "\n",
    "**Nota**: Los componentes de fecha y hora pueden ser diferentes.\n",
    "\n",
    "```\n",
    "{'TableDescription': {'AttributeDefinitions': [{'AttributeName': 'Id', 'AttributeType': 'N'}], 'TableName': 'de-c2w1-dynamodb-ProductCatalog', 'KeySchema': [{'AttributeName': 'Id', 'KeyType': 'HASH'}], 'TableStatus': 'CREATING', 'CreationDateTime': datetime.datetime(2024, 2, 14, 6, 42, 38, 872000, tzinfo=tzlocal()), 'ProvisionedThroughput': {'NumberOfDecreasesToday': 0, 'ReadCapacityUnits': 10, 'WriteCapacityUnits': 5}, 'TableSizeBytes': 0, 'ItemCount': 0, 'TableArn': 'arn:aws:dynamodb:us-east-1:631295702609:table/de-c2w1-dynamodb-ProductCatalog', 'TableId': '639df373-f498-4a2d-9851-6c6f6c26d908', 'DeletionProtectionEnabled': False}, 'ResponseMetadata': {'RequestId': 'OJ9GC0U10JH5ILK020C4PM094VVV4KQNSO5AEMVJF66Q9ASUAAJG', 'HTTPStatusCode': 200, 'HTTPHeaders': {'server': 'Server', 'date': 'Wed, 14 Feb 2024 06:42:38 GMT', 'content-type': 'application/x-amz-json-1.0', 'content-length': '557', 'connection': 'keep-alive', 'x-amzn-requestid': 'OJ9GC0U10JH5ILK020C4PM094VVV4KQNSO5AEMVJF66Q9ASUAAJG', 'x-amz-crc32': '1500356689'}, 'RetryAttempts': 0}}\n",
    "```\n"
   ]
  },
  {
   "cell_type": "markdown",
   "metadata": {},
   "source": [
    "Ejecuta el siguiente comando para crear las otras tres tablas. La creación de todas las tablas puede tardar alrededor de 2 minutos.\n"
   ]
  },
  {
   "cell_type": "code",
   "execution_count": null,
   "metadata": {},
   "outputs": [],
   "source": [
    "for dynamodb_tab in [forum_table, thread_table, reply_table]:\n",
    "    response = create_table_db(dynamodb_tab[\"table_name\"], **dynamodb_tab[\"kwargs\"])\n",
    "    print(response)"
   ]
  },
  {
   "cell_type": "markdown",
   "metadata": {},
   "source": [
    "Ejecuta el siguiente código para obtener el enlace a la consola de AWS.\n",
    "\n",
    "*Nota*: Por razones de seguridad, la URL para acceder a la consola de AWS caducará cada 15 minutos, pero cualquier recurso de AWS que hayas creado seguirá estando disponible durante el período de 2 horas. Si necesitas acceder a la consola después de 15 minutos, vuelve a ejecutar esta celda de código para obtener un nuevo enlace activo.\n"
   ]
  },
  {
   "cell_type": "code",
   "execution_count": null,
   "metadata": {},
   "outputs": [],
   "source": [
    "with open('../.aws/aws_console_url', 'r') as file:\n",
    "    aws_url = file.read().strip()\n",
    "\n",
    "HTML(f'<a href=\"{aws_url}\" target=\"_blank\">GO TO AWS CONSOLE</a>')"
   ]
  },
  {
   "cell_type": "markdown",
   "metadata": {},
   "source": [
    "Ve al panel de control de AWS, busca **DynamoDB**, haz clic en Tablas a la izquierda y verifica que las tablas hayan sido creadas.\n",
    "\n",
    "*Nota:* Si ves la ventana como en la siguiente captura de pantalla, haz clic en el enlace **logout**, cierra la ventana y vuelve a hacer clic en el enlace de la consola.\n",
    "\n",
    "![AWSLogout](images/AWSLogout.png)"
   ]
  },
  {
   "cell_type": "markdown",
   "metadata": {},
   "source": [
    "<a id='4'></a>\n",
    "## 4 - Cargar datos en las tablas\n",
    "\n",
    "Ahora cargarás datos en cada tabla a partir de los siguientes archivos JSON:\n",
    "* `Forum.json`\n",
    "* `ProductCatalog.json`\n",
    "* `Reply.json`\n",
    "* `Thread.json`\n",
    "\n",
    "Puedes cargar los datos elemento por elemento o como un lote de elementos. Vamos a explorar cada opción.\n"
   ]
  },
  {
   "cell_type": "markdown",
   "metadata": {},
   "source": [
    "<a id='4-1'></a>\n",
    "### 4.1 - Cargar datos elemento por elemento\n",
    "\n",
    "Para cargar datos elemento por elemento, utilizarás el método: [DynamoDB put_item()](https://boto3.amazonaws.com/v1/documentation/api/latest/reference/services/dynamodb/client/put_item.html). Este método espera dos argumentos requeridos (1) el nombre de la tabla y (2) el elemento que necesitas agregar. El elemento debe ser un diccionario que contenga los atributos del elemento (y, lo más importante, el valor de su clave primaria), por ejemplo, aquí está el formato de cómo debería lucir el elemento (un elemento en la tabla de respuestas):\n",
    "```\n",
    "item = {\n",
    "        \"Id\": {\n",
    "            \"S\": \"Amazon DynamoDB#DynamoDB Thread 1\"\n",
    "            },\n",
    "        \"ReplyDateTime\": {\n",
    "             \"S\": \"2015-09-15T19:58:22.947Z\"\n",
    "             },\n",
    "        \"Message\": {\n",
    "            \"S\": \"Texto de la respuesta 1 del hilo 1 de DynamoDB\"\n",
    "        },\n",
    "        \"PostedBy\": {\n",
    "            \"S\": \"Usuario A\"\n",
    "        }\n",
    "}\n",
    "```\n",
    "Esta estructura JSON se ve de la siguiente manera:\n",
    "\n",
    "```JSON\n",
    "{\n",
    "    \"<NombreAtributo>\": {\n",
    "        \"<TipoDato>\": \"<Valor>\"\n",
    "    },\n",
    "    \"<AtributoLista>\": {\n",
    "        \"<TipoDato>\": [\n",
    "            {\n",
    "                \"<TipoDato>\": \"<Valor1>\"\n",
    "            },\n",
    "            {\n",
    "                \"<TipoDato>\": \"<Valor2>\"\n",
    "            }]\n",
    "    }    \n",
    "}\n",
    "```\n",
    "se llama JSON de Marshal. Esto es similar a un archivo JSON regular, pero también incluye los tipos de cada valor. Los marcadores de posición `<TipoDato>` especifican el tipo de datos del valor correspondiente; puedes obtener más información sobre las convenciones de tipos de datos para DynamoDB en la [documentación](https://docs.aws.amazon.com/amazondynamodb/latest/developerguide/HowItWorks.NamingRulesDataTypes.html#HowItWorks.DataTypeDescriptors). La buena noticia es que todos los elementos proporcionados en los archivos JSON de muestra ya están en este formato esperado para `DynamoDB put_item()`.\n"
   ]
  },
  {
   "cell_type": "markdown",
   "metadata": {},
   "source": [
    "En esta sección, se te proporcionan dos funciones:\n",
    "- `read_data()`: lee un archivo JSON de muestra y devuelve los elementos como un diccionario de Python;\n",
    "- `put_item_db()`: Esta función toma como argumentos el nombre de la tabla y los detalles del elemento como un diccionario de Python, llama a `DynamoDB put_item()` y le pasa el nombre de la tabla y el elemento.\n",
    "\n",
    "En el ejercicio de esta sección, solo necesitas reemplazar `None` dentro de la función `put_item_db()`. No necesitas modificar nada dentro de `read_data()`. Utilizarás la función `read_data()` para leer todos los elementos del archivo JSON, y luego utilizarás la función `put_item_db()` para cargar cada elemento en una tabla de DynamoDB dada.\n"
   ]
  },
  {
   "cell_type": "code",
   "execution_count": null,
   "metadata": {},
   "outputs": [],
   "source": [
    "def read_data(file_path: str) -> Dict[str, Any]:\n",
    "    with open(file_path, \"r\") as json_file:\n",
    "        items = json.load(json_file)\n",
    "    return items"
   ]
  },
  {
   "cell_type": "markdown",
   "metadata": {},
   "source": [
    "<a id='ex02'></a>\n",
    "### Ejercicio 2\n",
    "\n",
    "En este ejercicio, necesitas reemplazar `None` con los valores apropiados:\n",
    "1. Crea un objeto Cliente (ver el código en el ejercicio anterior).\n",
    "2. Utiliza el método `client.put_item()` del objeto `client` para cargar los datos, el cual espera tres argumentos: `TableName`, el `Item` a cargar y algunos argumentos de palabras clave.\n"
   ]
  },
  {
   "cell_type": "code",
   "execution_count": null,
   "metadata": {},
   "outputs": [],
   "source": [
    "def put_item_db( table_name: str, item: Dict[str, Any], **kwargs):\n",
    "    ### START CODE HERE ### (~ 2 lines of code)\n",
    "    client = boto3.client(\"dynamodb\") # @REPLACE EQUALS None\n",
    "    response = client.put_item(TableName=table_name, Item=item, **kwargs) # @REPLACE EQUALS client.put_item(TableName=None, Item=None, None)\n",
    "    ### END CODE HERE ###\n",
    "\n",
    "    return response"
   ]
  },
  {
   "cell_type": "markdown",
   "metadata": {},
   "source": [
    "Ahora, carguemos los elementos de los archivos `ProductCatalog` y `Thread` uno por uno en las tablas correspondientes.\n"
   ]
  },
  {
   "cell_type": "code",
   "execution_count": null,
   "metadata": {},
   "outputs": [],
   "source": [
    "for dynamodb_tab in [product_catalog_table, thread_table]:\n",
    "    file_name = dynamodb_tab['table_name'].split('-')[-1]    \n",
    "    items = read_data(file_path=f'./data/aws_sample_data/{file_name}.json')\n",
    "    \n",
    "    for item in items[dynamodb_tab[\"table_name\"]]:\n",
    "        put_item_db(table_name=dynamodb_tab[\"table_name\"], item=item['PutRequest']['Item'])"
   ]
  },
  {
   "cell_type": "markdown",
   "metadata": {},
   "source": [
    "<a id='4-2'></a>\n",
    "### 4.2 - Cargar datos como un lote de elementos\n",
    "\n",
    "Ahora, crearás la función `batch_write_item_db()` que llama al método [DynamoDB batch_write_item()](https://boto3.amazonaws.com/v1/documentation/api/latest/reference/services/dynamodb/client/batch_write_item.html). Este último método te permite poner o eliminar múltiples elementos en una o más tablas.\n",
    "\n",
    "Nuevamente, tendrás que leer los dos archivos JSON `Reply` y `Forum` y luego cargar los elementos en las tablas. Carguemos los datos en las tablas `Reply` y `Forum`.\n"
   ]
  },
  {
   "cell_type": "markdown",
   "metadata": {},
   "source": [
    "<a id='ex03'></a>\n",
    "### Ejercicio 3\n",
    "\n",
    "En este ejercicio, necesitas reemplazar `None` con los valores apropiados:\n",
    "1. Crea el objeto Cliente;\n",
    "2. Llama al método `client.batch_write_item()` del objeto `client`. Debería recibir los elementos que necesitan ser cargados y algunos argumentos de palabra clave. Asume que la entrada `items` está en el formato correcto que `batch_write_item()` espera (el formato de los elementos almacenados en los archivos JSON de muestra es exactamente el formato que `batch_write_item()` espera. Para más información, puedes consultar la documentación [aquí](https://boto3.amazonaws.com/v1/documentation/api/latest/reference/services/dynamodb/client/batch_write_item.html)).\n"
   ]
  },
  {
   "cell_type": "code",
   "execution_count": null,
   "metadata": {},
   "outputs": [],
   "source": [
    "def batch_write_item_db(items: Dict[str, Any], **kwargs):\n",
    "    ### START CODE HERE ### (~ 2 lines of code)\n",
    "    client = boto3.client(\"dynamodb\") # @REPLACE EQUALS None\n",
    "    response = client.batch_write_item(RequestItems=items, **kwargs) # @REPLACE EQUALS client.batch_write_item(RequestItems=None, None)\n",
    "    ### END CODE HERE ###\n",
    "    \n",
    "    return response"
   ]
  },
  {
   "cell_type": "markdown",
   "metadata": {},
   "source": [
    "Ahora, vamos a leer los datos de los archivos de muestra JSON: `Reply` y `Forum` y luego cargar los elementos como un lote en las tablas correspondientes.\n"
   ]
  },
  {
   "cell_type": "code",
   "execution_count": null,
   "metadata": {},
   "outputs": [],
   "source": [
    "for dynamodb_tab in [reply_table, forum_table]:\n",
    "    file_name = dynamodb_tab['table_name'].split('-')[-1]    \n",
    "    items = read_data(file_path=f'./data/aws_sample_data/{file_name}.json')\n",
    "    response = batch_write_item_db(items=items)\n",
    "    print(response)"
   ]
  },
  {
   "cell_type": "markdown",
   "metadata": {},
   "source": [
    "##### __Salida Esperada__\n",
    "\n",
    "**Nota**: Los componentes de fecha y hora pueden ser diferentes.\n",
    "\n",
    "```\n",
    "{'UnprocessedItems': {}, 'ResponseMetadata': {'RequestId': '4P678E81BOHRCUN82FFREOTC8NVV4KQNSO5AEMVJF66Q9ASUAAJG', 'HTTPStatusCode': 200, 'HTTPHeaders': {'server': 'Server', 'date': 'Wed, 14 Feb 2024 06:44:36 GMT', 'content-type': 'application/x-amz-json-1.0', 'content-length': '23', 'connection': 'keep-alive', 'x-amzn-requestid': '4P678E81BOHRCUN82FFREOTC8NVV4KQNSO5AEMVJF66Q9ASUAAJG', 'x-amz-crc32': '4185382651'}, 'RetryAttempts': 0}}\n",
    "{'UnprocessedItems': {}, 'ResponseMetadata': {'RequestId': 'R53NDPHFEH0UEL0MG6PFG8FEJRVV4KQNSO5AEMVJF66Q9ASUAAJG', 'HTTPStatusCode': 200, 'HTTPHeaders': {'server': 'Server', 'date': 'Wed, 14 Feb 2024 06:44:36 GMT', 'content-type': 'application/x-amz-json-1.0', 'content-length': '23', 'connection': 'keep-alive', 'x-amzn-requestid': 'R53NDPHFEH0UEL0MG6PFG8FEJRVV4KQNSO5AEMVJF66Q9ASUAAJG', 'x-amz-crc32': '4185382651'}, 'RetryAttempts': 0}\n",
    "}\n",
    "```\n"
   ]
  },
  {
   "cell_type": "markdown",
   "metadata": {},
   "source": [
    "<a id='5'></a>\n",
    "## 5 - Leer datos de las tablas\n",
    "\n",
    "En esta sección, experimentarás con varios enfoques para leer datos de las tablas de DynamoDB.\n"
   ]
  },
  {
   "cell_type": "markdown",
   "metadata": {},
   "source": [
    "<a id='5-1'></a>\n",
    "### 5.1 - Escanear la tabla completa\n",
    "\n",
    "Puede realizar una operación `DynamoDB scan()` en una tabla de DynamoDB que escanea completamente la tabla y devuelve los elementos en fragmentos de 1MB. Escanear es la forma más lenta y costosa de obtener datos de DynamoDB. Primero exploremos este enfoque.\n"
   ]
  },
  {
   "cell_type": "markdown",
   "metadata": {},
   "source": [
    "<a id='ex04'></a>\n",
    "### Ejercicio 4\n",
    "\n",
    "En este ejercicio, necesitas reemplazar `None` con los valores apropiados:\n",
    "1. Crea el objeto Cliente `client`.\n",
    "2. Llama al método `client.scan()` del objeto `client`. Debería recibir el nombre de la tabla y argumentos de palabra clave. En la [documentación de DynamoDB boto3](https://boto3.amazonaws.com/v1/documentation/api/latest/reference/services/dynamodb.html), busca el método `scan` para verificar qué parámetros toma.\n"
   ]
  },
  {
   "cell_type": "code",
   "execution_count": null,
   "metadata": {},
   "outputs": [],
   "source": [
    "def scan_db(table_name: str, **kwargs):\n",
    "    ### START CODE HERE ### (~ 2 lines of code)\n",
    "    client = boto3.client(\"dynamodb\") # @REPLACE EQUALS None\n",
    "    response = client.scan(TableName=table_name, **kwargs) # @REPLACE EQUALS client.scan(TableName=None, None)\n",
    "    ### END CODE HERE ###\n",
    "    \n",
    "    return response"
   ]
  },
  {
   "cell_type": "markdown",
   "metadata": {},
   "source": [
    "Realicemos un escaneo completo en la tabla `ProductCatalog`:\n"
   ]
  },
  {
   "cell_type": "code",
   "execution_count": null,
   "metadata": {},
   "outputs": [],
   "source": [
    "response = scan_db(product_catalog_table['table_name'])\n",
    "print(f\"Queried data for table {product_catalog_table['table_name']}:\\n{response}\")"
   ]
  },
  {
   "cell_type": "markdown",
   "metadata": {},
   "source": [
    "Puedes ver que los datos devueltos tienen la misma estructura de entrada que el método `DynamoDB put_item()` espera, que es el Marshal JSON. Marshal JSON es diferente del formato JSON habitual que se ve así:\n",
    "\n",
    "```JSON\n",
    "{\n",
    "    \"AttributeName\": \"Value\",\n",
    "    \"ListAttribute\": [\n",
    "        \"Value1\",\n",
    "        \"Value2\"\n",
    "    ]\n",
    "}\n",
    "```\n",
    "\n",
    "El formato JSON habitual es el formato típico que encontrarás en la vida real, ya que se puede analizar fácilmente en Diccionarios de Python. Por lo tanto, es posible que necesites convertir la salida devuelta por el método `DynamoDB scan()` al formato JSON habitual, o puede que necesites convertir datos que estén en el formato JSON habitual a Marshal JSON antes de insertarlos en una tabla de DynamoDB. La siguiente parte opcional te muestra cómo puedes convertir datos en Marshal JSON al formato JSON habitual. Puedes probar la parte opcional o siéntete libre de omitirla.\n"
   ]
  },
  {
   "cell_type": "markdown",
   "metadata": {},
   "source": [
    "#### Parte opcional - 1 (Deserializando Marshal JSON)\n"
   ]
  },
  {
   "cell_type": "markdown",
   "metadata": {},
   "source": [
    "Ahora, si deseas procesar los datos devueltos por las operaciones de DynamoDB con Python, debes convertir el formato de los datos al JSON habitual. `boto3` proporciona algunas utilidades para ayudarte con este proceso.\n",
    "Para convertir los datos de `ProductCatalog` devueltos por el método de escaneo a un formato JSON regular que se pueda utilizar en diccionarios de Python, puedes utilizar la función `data_deserializer()` proporcionada a continuación que toma como entrada los datos en formato Marshal JSON. Esta función consta de lo siguiente:\n",
    "\n",
    "1. Una instanciación de recurso `boto3`: [Resources](https://boto3.amazonaws.com/v1/documentation/api/latest/guide/resources.html) es una clase de abstracción de nivel superior construida sobre Cliente que se utiliza para representar recursos de AWS como objetos de Python, proporcionando de esta manera una interfaz Pythonica y orientada a objetos. Con ese recurso, puedes crear un objeto deserializador llamando al método `TypeDeserializer()`.\n",
    "2. Luego puedes utilizar el objeto `deserializer` para llamar al método `deserializer.deserialize()` y aplicarlo a cada valor para convertirlo en su versión deserializada. (*Nota*: si el valor devuelto de `deserializer.deserialize(v)` es una instancia de `decimal.Decimal`, debes convertirlo a float. Este proceso de comprobar si el valor devuelto es una instancia de `decimal.Decimal` debe hacerse porque, de forma predeterminada, los valores numéricos en DynamoDB se deserializan como decimales, los cuales deben manejarse adecuadamente si deseas trabajar con el resultado; la forma más sencilla es convertirlos directamente al tipo de dato float).\n",
    "\n",
    "La función a continuación utiliza comprensión de diccionarios para iterar a través de los elementos del diccionario.\n"
   ]
  },
  {
   "cell_type": "code",
   "execution_count": null,
   "metadata": {},
   "outputs": [],
   "source": [
    "def data_deserializer(data: Dict[str, Any]):\n",
    "    boto3.resource(\"dynamodb\")\n",
    "\n",
    "    deserializer = boto3.dynamodb.types.TypeDeserializer()\n",
    "\n",
    "    deserialized_data = {\n",
    "        k: (\n",
    "            float(deserializer.deserialize(v))\n",
    "            if isinstance(deserializer.deserialize(v), decimal.Decimal)\n",
    "            else deserializer.deserialize(v)\n",
    "        )\n",
    "        for k, v in data.items()\n",
    "    }\n",
    "\n",
    "    return deserialized_data"
   ]
  },
  {
   "cell_type": "markdown",
   "metadata": {},
   "source": [
    "Ejecuta el método sobre la respuesta anterior para ver la diferencia en el formato.\n"
   ]
  },
  {
   "cell_type": "code",
   "execution_count": null,
   "metadata": {},
   "outputs": [],
   "source": [
    "for item in response['Items']:\n",
    "    print(f\"DynamoDB returned Marshal JSON:\\n{item}\")\n",
    "    print(f\"Deserialized python dictionary:\\n {data_deserializer(item)}\")"
   ]
  },
  {
   "cell_type": "markdown",
   "metadata": {},
   "source": [
    "Si quieres entender más sobre el proceso de transformación entre Marshall JSON y diccionarios JSON/Python, puedes encontrar herramientas como esta que te permitirán practicar con ellos. También puedes echar un vistazo a la documentación de `boto3` para ver cómo se implementan TypeSerializer y TypeDeserializer.\n"
   ]
  },
  {
   "cell_type": "markdown",
   "metadata": {},
   "source": [
    "#### Fin de la Parte Opcional - 1\n"
   ]
  },
  {
   "cell_type": "markdown",
   "metadata": {},
   "source": [
    "<a id='5-2'></a>\n",
    "### 5.2 - Leer un solo elemento\n",
    "\n",
    "El método `DynamoDB scan()` devuelve todos los elementos en una tabla. Si desea leer un solo elemento, podría usar el método `DynamoDB get_item()`. Este método espera el nombre de la tabla y la clave primaria del elemento solicitado. Es la forma más barata y rápida de obtener datos de DynamoDB.\n"
   ]
  },
  {
   "cell_type": "markdown",
   "metadata": {},
   "source": [
    "<a id='ex05'></a>\n",
    "### Ejercicio 5\n",
    "\n",
    "En la siguiente función, llama al método `client.get_item()` del objeto `client`. Debería recibir el nombre de la tabla, la clave y los argumentos de palabra clave. Para obtener más información sobre este método, puedes buscar el `get_item` en la [documentación](https://boto3.amazonaws.com/v1/documentation/api/latest/reference/services/dynamodb.html).\n"
   ]
  },
  {
   "cell_type": "code",
   "execution_count": null,
   "metadata": {},
   "outputs": [],
   "source": [
    "def get_item_db(table_name, key: Dict[str, Any], **kwargs):\n",
    "    client = boto3.client(\"dynamodb\")\n",
    "\n",
    "    try:\n",
    "        ### START CODE HERE ### (~ 1 line of code)\n",
    "        response = client.get_item(TableName=table_name, Key=key, **kwargs) # @REPLACE EQUALS client.get_item(TableName=None, Key=None, None)\n",
    "        ### END CODE HERE ###\n",
    "        \n",
    "    except ClientError as e:\n",
    "        error = e.response.get(\"Error\", {})\n",
    "        logging.error(\n",
    "            f\"Failed to query DynamoDB. Error: {error.get('Message')}\"\n",
    "        )\n",
    "        response = {}\n",
    "    \n",
    "    return response"
   ]
  },
  {
   "cell_type": "markdown",
   "metadata": {},
   "source": [
    "Obtener el elemento con Id 101 de la tabla `ProductCatalog`.\n"
   ]
  },
  {
   "cell_type": "code",
   "execution_count": null,
   "metadata": {},
   "outputs": [],
   "source": [
    "response = get_item_db(table_name=product_catalog_table['table_name'], \n",
    "                    key={'Id': {'N': '101'}})\n",
    "print(response)"
   ]
  },
  {
   "cell_type": "markdown",
   "metadata": {},
   "source": [
    "##### __Salida Esperada__\n",
    "\n",
    "**Nota**: Los componentes de fecha y hora pueden ser diferentes.\n",
    "\n",
    "```\n",
    "{'Item': {'Title': {'S': 'Título del Libro 101'}, 'EnPublicación': {'BOOL': True}, 'NúmeroDePáginas': {'N': '500'}, 'Dimensiones': {'S': '8.5 x 11.0 x 0.5'}, 'ISBN': {'S': '111-1111111111'}, 'Autores': {'L': [{'S': 'Autor1'}]}, 'Precio': {'N': '2'}, 'CategoríaDeProducto': {'S': 'Libro'}, 'Id': {'N': '101'}}, 'MetadataDeRespuesta': {'SolicitudId': '08VIS0M7LH396M766IOPU54E9JVV4KQNSO5AEMVJF66Q9ASUAAJG', 'CódigoDeEstadoHTTP': 200, 'EncabezadosHTTP': {'servidor': 'Servidor', 'fecha': 'Mié, 14 Feb 2024 06:44:53 GMT', 'tipo-de-contenido': 'application/x-amz-json-1.0', 'longitud-de-contenido': '263', 'conexión': 'mantener-viva', 'x-amzn-solicitudid': '08VIS0M7LH396M766IOPU54E9JVV4KQNSO5AEMVJF66Q9ASUAAJG', 'x-amz-crc32': '3181387427'}, 'IntentosDeReintento': 0}}\n",
    "```\n"
   ]
  },
  {
   "cell_type": "markdown",
   "metadata": {},
   "source": [
    "#### Parte opcional - 2 (Más opciones para los métodos de lectura)\n"
   ]
  },
  {
   "cell_type": "markdown",
   "metadata": {},
   "source": [
    "Por defecto, una lectura de DynamoDB utilizará consistencia eventual. Una lectura consistente en DynamoDB es más barata que una lectura consistentemente fuerte. Varias opciones pueden ser añadidas a los métodos de lectura, algunas de las que se utilizan regularmente son:\n",
    "- `ConsistentRead`: especifica que se requiere una lectura consistentemente fuerte de la tabla;\n",
    "- `ProjectionExpression`: especifica qué atributos deben ser devueltos;\n",
    "- `ReturnConsumedCapacity`: determina qué nivel de detalle sobre la capacidad consumida debe devolver la respuesta.\n",
    "\n",
    "Puedes encontrar más información sobre los parámetros que acepta `DynamoDB.Client.get_item()` leyendo la [documentación](https://boto3.amazonaws.com/v1/documentation/api/latest/reference/services/dynamodb/client/get_item.html).\n",
    "\n",
    "En el siguiente código, harás lo siguiente:\n",
    "1. Establecerás el atributo `ConsistentRead` en `True` para asegurar lecturas consistentemente fuertes.\n",
    "2. Especificarás que solo deseas recuperar los siguientes campos: `ProductCategory`, `Price` y `Title` utilizando el atributo `ProjectionExpression`.\n",
    "3. Establecerás el atributo `ReturnConsumedCapacity` en `'TOTAL'`.\n",
    "4. Consultarás el ítem con `Id=101` de la tabla `ProductCatalog`.\n"
   ]
  },
  {
   "cell_type": "code",
   "execution_count": null,
   "metadata": {},
   "outputs": [],
   "source": [
    "kwargs = {'ConsistentRead': True,\n",
    "          'ProjectionExpression': 'ProductCategory, Price, Title',\n",
    "          'ReturnConsumedCapacity': 'TOTAL'}\n",
    "\n",
    "response = get_item_db(table_name=product_catalog_table['table_name'], key={'Id': {'N': '101'}}, **kwargs)\n",
    "print(response)"
   ]
  },
  {
   "cell_type": "markdown",
   "metadata": {},
   "source": [
    "La solicitud anterior consumió 1.0 RCU porque este elemento es menor a 4KB. (RCU significa Unidad de Capacidad de Lectura: \"Una unidad de capacidad de lectura representa una lectura consistente por segundo, o dos lecturas eventualmente consistentes por segundo, para un elemento de hasta 4 KB de tamaño\", [referencia](https://docs.aws.amazon.com/amazondynamodb/latest/developerguide/provisioned-capacity-mode.html)).\n",
    "\n",
    "Si ejecutas nuevamente el comando pero eliminas la opción ConsistentRead, puedes ver que las lecturas eventualmente consistentes consumen la mitad de capacidad.\n"
   ]
  },
  {
   "cell_type": "code",
   "execution_count": null,
   "metadata": {},
   "outputs": [],
   "source": [
    "kwargs = {'ReturnConsumedCapacity': 'TOTAL', \n",
    "          'ProjectionExpression': 'ProductCategory, Price, Title'\n",
    "         }\n",
    "\n",
    "response = get_item_db(table_name=product_catalog_table['table_name'], \n",
    "                    key={'Id': {'N': '101'}}, **kwargs\n",
    "                    )\n",
    "print(response)"
   ]
  },
  {
   "cell_type": "markdown",
   "metadata": {},
   "source": [
    "#### Fin de la Parte Opcional - 2\n"
   ]
  },
  {
   "cell_type": "markdown",
   "metadata": {},
   "source": [
    "<a id='5-3'></a>\n",
    "### 5.3 - Consultar elementos que comparten la misma clave de partición\n",
    "\n",
    "En DynamoDB, una colección de elementos es un grupo de elementos que comparten el mismo valor de clave de partición, lo que significa que los elementos están relacionados. Puede consultar los elementos que pertenecen a una colección de elementos (es decir, que tienen la misma clave de partición) utilizando el método [DynamoDB query()](https://boto3.amazonaws.com/v1/documentation/api/latest/reference/services/dynamodb/client/query.html). En este método, es necesario especificar el valor particular de la clave de partición de los elementos de interés.\n",
    "\n",
    "Las colecciones de elementos solo existen en tablas que tienen tanto una Clave de Partición como una Clave de Ordenamiento. Opcionalmente, puede proporcionar al método de consulta un atributo de clave de ordenamiento y utilizar un operador de comparación para refinar los resultados de la búsqueda.\n",
    "\n",
    "En el siguiente ejercicio, utilizarás la tabla `Reply` ya que tiene tanto una Clave de Partición como una Clave de Ordenamiento. Primero, veamos su contenido.\n"
   ]
  },
  {
   "cell_type": "code",
   "execution_count": null,
   "metadata": {},
   "outputs": [],
   "source": [
    "response = scan_db(reply_table['table_name'])\n",
    "print(response)"
   ]
  },
  {
   "cell_type": "markdown",
   "metadata": {},
   "source": [
    "Cada respuesta en esta tabla tiene un `Id` (Clave de partición) que especifica en qué hilo apareció la respuesta dada. Los datos consisten en un total de dos hilos que pertenecen al foro \"Amazon DynamoDB\", y cada hilo tiene 2 respuestas. Consultemos las respuestas que pertenecen al Hilo 1.\n",
    "\n",
    "Utilizarás la función `query_db()` definida a continuación. Esta función llama al método `DynamoDB query()` que espera el valor particular de la clave de partición y devuelve todos los elementos que tienen el valor de clave de partición especificado. Puedes asumir que la entrada `kwargs` del método `query_db()` contiene la información necesaria (valor particular de la clave primaria) para el método `DynamoDB query()`.\n"
   ]
  },
  {
   "cell_type": "code",
   "execution_count": null,
   "metadata": {},
   "outputs": [],
   "source": [
    "def query_db(table_name: str,**kwargs,):\n",
    "        client = boto3.client(\"dynamodb\")\n",
    "\n",
    "        try:\n",
    "            response = client.query(\n",
    "                TableName=table_name,\n",
    "                **kwargs,\n",
    "            )\n",
    "            logging.info(f\"Response {response}\")\n",
    "        except ClientError as e:\n",
    "            error = e.response.get(\"Error\", {})\n",
    "            logging.error(\n",
    "                f\"Failed to query DynamoDB. Error: {error.get('Message')}\"\n",
    "            )\n",
    "            raise\n",
    "        else:\n",
    "            logging.info(f\"Query result {response.get('Items', {})}\")\n",
    "            return response"
   ]
  },
  {
   "cell_type": "markdown",
   "metadata": {},
   "source": [
    "Ahora vamos a entrar en los detalles del diccionario `kwargs` que se pasa a `client.query()`.\n",
    "\n",
    "La siguiente celda muestra un ejemplo de lo que `kwargs` debería contener, como se espera por el método `DynamoDB query()`:\n",
    "\n",
    "`KeyConditionExpression`: es la condición que especifica el valor de la clave de partición de los elementos que deben ser recuperados; puedes ver en esta sintaxis el nombre de la clave de partición que es `Id` y su valor particular se denota con otro parámetro `:Id` que está definido en el siguiente argumento `ExpressionAttributeValues`. Para entender más sobre esta sintaxis, siempre puedes consultar la [documentación](https://boto3.amazonaws.com/v1/documentation/api/latest/reference/services/dynamodb/client/query.html). El parámetro: `ReturnedConsumedCapacity` determina qué nivel de detalle sobre la capacidad consumida debe devolver la respuesta.\n"
   ]
  },
  {
   "cell_type": "code",
   "execution_count": null,
   "metadata": {},
   "outputs": [],
   "source": [
    "kwargs = {'ReturnConsumedCapacity': 'TOTAL', \n",
    "          'KeyConditionExpression': 'Id = :Id',\n",
    "          'ExpressionAttributeValues': {':Id': {'S': 'Amazon DynamoDB#DynamoDB Thread 1'}}\n",
    "          } \n",
    "\n",
    "# returns the items that has ID = 'Amazon DynamoDB#DynamoDB Thread 1'\n",
    "response = query_db(table_name=reply_table['table_name'], **kwargs) \n",
    "               \n",
    "print(response)"
   ]
  },
  {
   "cell_type": "markdown",
   "metadata": {},
   "source": [
    "También puedes consultar los elementos que comparten la misma clave de partición y que también cumplen una cierta condición en la clave de ordenación. Dado que la clave de ordenación de la tabla de Respuestas es una marca de tiempo, puedes agregar una condición a `KeyConditionExpression` para obtener las respuestas de un hilo en particular que se publicaron después de cierto tiempo. Observa más de cerca cómo se compara la clave de ordenación con el parámetro `:ts` y cómo se define este parámetro en `ExpressionAttributeValues`.\n"
   ]
  },
  {
   "cell_type": "code",
   "execution_count": null,
   "metadata": {},
   "outputs": [],
   "source": [
    "kwargs = {'ReturnConsumedCapacity': 'TOTAL', \n",
    "          'KeyConditionExpression': 'Id = :Id and ReplyDateTime > :ts',\n",
    "          'ExpressionAttributeValues': {':Id': {'S': 'Amazon DynamoDB#DynamoDB Thread 1'}, \n",
    "                               ':ts' : {'S':\"2015-09-21\"}\n",
    "                               }\n",
    "          }\n",
    "\n",
    "response = query_db(table_name=reply_table['table_name'], **kwargs)\n",
    "\n",
    "print(response)"
   ]
  },
  {
   "cell_type": "markdown",
   "metadata": {},
   "source": [
    "Además de `keyConditionExpression`, también puedes usar `FilterExpression` para filtrar los resultados basados en atributos que no son clave. Por ejemplo, para encontrar todas las respuestas al Hilo 1 que fueron publicadas por el Usuario B, puedes hacer:\n"
   ]
  },
  {
   "cell_type": "code",
   "execution_count": null,
   "metadata": {},
   "outputs": [],
   "source": [
    "kwargs = {'ReturnConsumedCapacity': 'TOTAL', \n",
    "          'KeyConditionExpression': 'Id = :Id ',\n",
    "          'FilterExpression': 'PostedBy = :user',\n",
    "          'ExpressionAttributeValues': {':Id': {'S': 'Amazon DynamoDB#DynamoDB Thread 1'}, \n",
    "                               ':user' : {'S':'User B'}\n",
    "                               }          \n",
    "          }\n",
    "\n",
    "response = query_db(table_name=reply_table['table_name'], **kwargs)\n",
    "\n",
    "print(response)"
   ]
  },
  {
   "cell_type": "markdown",
   "metadata": {},
   "source": [
    "Ten en cuenta que en la respuesta verás estas líneas:\n",
    "\n",
    "```\n",
    "\"Count\": 1,\n",
    "\"ScannedCount\": 2,\n",
    "```\n",
    "\n",
    "Esto te indica que la Expresión de Condición de Clave coincidió con 2 elementos (ScannedCount basado en el valor de la clave de partición) y eso es por lo que se te cobró la lectura, pero la Expresión de Filtro redujo el tamaño del conjunto de resultados a 1 elemento (Count).\n"
   ]
  },
  {
   "cell_type": "markdown",
   "metadata": {},
   "source": [
    "<a id='ex06'></a>\n",
    "### Ejercicio 6\n",
    "\n",
    "Abre la [documentación](https://boto3.amazonaws.com/v1/documentation/api/latest/reference/services/dynamodb/client/query.html) para el método `DynamoDB query()` y busca los parámetros `Limit` y `ScanIndexForward`. En este ejercicio, necesitas escribir la siguiente consulta: devolver solo la primera respuesta al hilo 1.\n",
    "\n",
    "<details>    \n",
    "<summary>\n",
    "    <font size=\"3\" color=\"darkgreen\"><b>Pista</b></font>\n",
    "</summary>\n",
    "<p>\n",
    "<ul>\n",
    "    Considera los parámetros <code>Limit</code> y <code>ScanIndexForward</code>. Si deseas ordenar los elementos en orden ascendente basado en la clave de ordenación, utiliza el parámetro <code>ScanIndexForward</code>. Si deseas limitar el número de elementos, entonces utiliza el parámetro <code>Limit</code>. Esto sería análogo en SQL a: <code>ORDER BY ReplyDateTime ASC LIMIT 1</code>.\n",
    "   \n",
    "</ul>\n",
    "</p>\n"
   ]
  },
  {
   "cell_type": "code",
   "execution_count": null,
   "metadata": {},
   "outputs": [],
   "source": [
    "kwargs = {'ReturnConsumedCapacity': 'TOTAL', \n",
    "          'KeyConditionExpression': 'Id = :Id ',\n",
    "          'ExpressionAttributeValues': {\":Id\" : {\"S\": \"Amazon DynamoDB#DynamoDB Thread 1\"}},\n",
    "          ### START CODE HERE ### (~ 2 lines of code)\n",
    "          'Limit': 1, # @REPLACE           'None': None,\n",
    "          'ScanIndexForward':  True # @REPLACE           'None': True,\n",
    "          ### END CODE HERE ###\n",
    "          }\n",
    "\n",
    "response = query_db(table_name=reply_table['table_name'], **kwargs)\n",
    "\n",
    "print(response)"
   ]
  },
  {
   "cell_type": "markdown",
   "metadata": {},
   "source": [
    "##### __Salida Esperada__ \n",
    "\n",
    "**Notas**: \n",
    "\n",
    "- El atributo `'ResponseMetadata'` puede variar en tu salida. \n",
    "- Los componentes de fecha y hora pueden ser diferentes.\n",
    "\n",
    "```\n",
    "{'Items': [{'ReplyDateTime': {'S': '2015-09-15T19:58:22.947Z'}, 'Message': {'S': 'DynamoDB Thread 1 Reply 1 text'}, 'PostedBy': {'S': 'User A'}, 'Id': {'S': 'Amazon DynamoDB#DynamoDB Thread 1'}}], 'Count': 1, 'ScannedCount': 1, 'LastEvaluatedKey': {'Id': {'S': 'Amazon DynamoDB#DynamoDB Thread 1'}, 'ReplyDateTime': {'S': '2015-09-15T19:58:22.947Z'}}, 'ConsumedCapacity': {'TableName': 'de-c2w1-dynamodb-Reply', 'CapacityUnits': 0.5}, 'ResponseMetadata': {'RequestId': 'EMV7RBG34OOUCP0KS4LARC1B6BVV4KQNSO5AEMVJF66Q9ASUAAJG', 'HTTPStatusCode': 200, 'HTTPHeaders': {'server': 'Server', 'date': 'Wed, 14 Feb 2024 06:45:11 GMT', 'content-type': 'application/x-amz-json-1.0', 'content-length': '406', 'connection': 'keep-alive', 'x-amzn-requestid': 'EMV7RBG34OOUCP0KS4LARC1B6BVV4KQNSO5AEMVJF66Q9ASUAAJG', 'x-amz-crc32': '284193681'}, 'RetryAttempts': 0}}\n",
    "```\n"
   ]
  },
  {
   "cell_type": "markdown",
   "metadata": {},
   "source": [
    "<a id='ex07'></a>\n",
    "### Ejercicio 7\n",
    "\n",
    "Ajusta la consulta para devolver solo la respuesta más reciente para el Hilo 1.\n"
   ]
  },
  {
   "cell_type": "code",
   "execution_count": null,
   "metadata": {},
   "outputs": [],
   "source": [
    "kwargs = {'ReturnConsumedCapacity': 'TOTAL', \n",
    "          'KeyConditionExpression': 'Id = :Id ',\n",
    "          'ExpressionAttributeValues': {\":Id\" : {\"S\": \"Amazon DynamoDB#DynamoDB Thread 1\"}},\n",
    "          ### START CODE HERE ### (~ 2 lines of code)\n",
    "          'Limit': 1, # @REPLACE           'None': None,\n",
    "          'ScanIndexForward':  False # @REPLACE           'None': False,\n",
    "          ### END CODE HERE ###\n",
    "          }\n",
    "\n",
    "response = query_db(table_name=reply_table['table_name'], **kwargs)\n",
    "\n",
    "print(response)"
   ]
  },
  {
   "cell_type": "markdown",
   "metadata": {},
   "source": [
    "##### __Salida Esperada__ \n",
    "\n",
    "**Notas**: \n",
    "\n",
    "- El atributo `'ResponseMetadata'` puede variar en tu salida. \n",
    "- Los componentes de fecha y hora pueden ser diferentes.\n",
    "\n",
    "```\n",
    "{'Items': [{'ReplyDateTime': {'S': '2015-09-22T19:58:22.947Z'}, 'Message': {'S': 'Texto de la respuesta 2 del hilo 1 de DynamoDB'}, 'PostedBy': {'S': 'Usuario B'}, 'Id': {'S': 'Amazon DynamoDB#Hilo 1 de DynamoDB'}}], 'Count': 1, 'ScannedCount': 1, 'LastEvaluatedKey': {'Id': {'S': 'Amazon DynamoDB#Hilo 1 de DynamoDB'}, 'ReplyDateTime': {'S': '2015-09-22T19:58:22.947Z'}}, 'ConsumedCapacity': {'TableName': 'de-c2w1-dynamodb-Reply', 'CapacityUnits': 0.5}, 'ResponseMetadata': {'RequestId': '7V1KQ1STK5C07EFR1DK0PGPBKFVV4KQNSO5AEMVJF66Q9ASUAAJG', 'HTTPStatusCode': 200, 'HTTPHeaders': {'server': 'Server', 'date': 'Wed, 14 Feb 2024 06:45:13 GMT', 'content-type': 'application/x-amz-json-1.0', 'content-length': '406', 'connection': 'keep-alive', 'x-amzn-requestid': '7V1KQ1STK5C07EFR1DK0PGPBKFVV4KQNSO5AEMVJF66Q9ASUAAJG', 'x-amz-crc32': '1848739007'}, 'RetryAttempts': 0}}\n",
    "```\n"
   ]
  },
  {
   "cell_type": "markdown",
   "metadata": {},
   "source": [
    "<a id='5-4'></a>\n",
    "### 5.4 - Filtrando las exploraciones de tabla\n",
    "\n",
    "El método `DynamoDB scan()` es similar al método `DynamoDB query()` excepto que estás explorando toda la tabla, no solo una única colección de elementos, por lo que no hay una Expresión de Condición de Clave que necesites especificar para `DynamoDB scan()`. Sin embargo, puedes especificar una `FilterExpression` que reducirá el tamaño del conjunto de resultados (aunque no reducirá la cantidad de capacidad consumida).\n",
    "\n",
    "Por ejemplo, encuentra todas las respuestas en la tabla Reply que fueron publicadas por el Usuario A:\n"
   ]
  },
  {
   "cell_type": "code",
   "execution_count": null,
   "metadata": {},
   "outputs": [],
   "source": [
    "kwargs = {'ReturnConsumedCapacity': 'TOTAL', \n",
    "          'FilterExpression': 'PostedBy = :user', \n",
    "          'ExpressionAttributeValues': {':user' : {'S':'User A'}}\n",
    "        }\n",
    "\n",
    "response = scan_db(reply_table['table_name'], **kwargs)\n",
    "print(response)"
   ]
  },
  {
   "cell_type": "markdown",
   "metadata": {},
   "source": [
    "La respuesta contiene estos campos:\n",
    "\n",
    "```\n",
    "\"Count\": 3,\n",
    "\"ScannedCount\": 4,\n",
    "```\n",
    "\n",
    "Esto te informa que el `DynamoDB scan()` escaneó los 4 elementos (`ScannedCount`) en la tabla y eso es lo que se te cobró por leer, pero la `FilterExpression` redujo el tamaño del conjunto de resultados a 3 elementos (`Count`).\n"
   ]
  },
  {
   "cell_type": "markdown",
   "metadata": {},
   "source": [
    "#### Inicio de la Parte Opcional - 3 (Última clave evaluada)\n"
   ]
  },
  {
   "cell_type": "markdown",
   "metadata": {},
   "source": [
    "Al escanear datos, la respuesta puede exceder el límite de 1MB en el lado del servidor o superar el parámetro `Limit` especificado. En tales casos, la respuesta del escaneo contendrá un campo `LastEvaluatedKey`, lo que permitirá que las llamadas de escaneo subsiguientes continúen desde donde el escaneo anterior se detuvo. Por ejemplo, si el escaneo inicial identificó 3 elementos en el conjunto de resultados, ejecutarlo nuevamente con un límite máximo de elementos de 2 puede demostrar este comportamiento.\n"
   ]
  },
  {
   "cell_type": "code",
   "execution_count": null,
   "metadata": {},
   "outputs": [],
   "source": [
    "kwargs = {'ReturnConsumedCapacity': 'TOTAL', \n",
    "          'FilterExpression': 'PostedBy = :user', \n",
    "          'ExpressionAttributeValues': {':user' : {'S':'User A'}},\n",
    "          'Limit': 2\n",
    "        }\n",
    "response = scan_db(reply_table['table_name'], **kwargs)\n",
    "print(response)"
   ]
  },
  {
   "cell_type": "markdown",
   "metadata": {},
   "source": [
    "Tomemos el campo `LastEvaluatedKey` y úselo para la siguiente exploración de la tabla:\n"
   ]
  },
  {
   "cell_type": "code",
   "execution_count": null,
   "metadata": {},
   "outputs": [],
   "source": [
    "last_evaluated_key = response.get(\"LastEvaluatedKey\")\n",
    "print(last_evaluated_key)"
   ]
  },
  {
   "cell_type": "markdown",
   "metadata": {},
   "source": [
    "Por lo tanto, puedes invocar la solicitud de escaneo nuevamente, esta vez pasando ese valor `LastEvaluatedKey` al parámetro `ExclusiveStartKey`:\n"
   ]
  },
  {
   "cell_type": "code",
   "execution_count": null,
   "metadata": {},
   "outputs": [],
   "source": [
    "kwargs = {'ReturnConsumedCapacity': 'TOTAL', \n",
    "          'FilterExpression': 'PostedBy = :user', \n",
    "          'ExpressionAttributeValues': {':user' : {'S':'User A'}},\n",
    "          'Limit': 2,\n",
    "          'ExclusiveStartKey': last_evaluated_key\n",
    "        }\n",
    "\n",
    "response = scan_db(reply_table['table_name'], **kwargs)\n",
    "print(response)"
   ]
  },
  {
   "cell_type": "markdown",
   "metadata": {},
   "source": [
    "Verifique los datos en la tabla del Foro con un comando de escaneo para devolver solo los Foros que tienen más de 1 hilo y más de 50 vistas.\n",
    "\n",
    "Puede ver que algunos elementos tienen un atributo de número de Hilos y un atributo de número de Vistas. Para resolver este problema, desea utilizar esos atributos en la `FilterExpression`. Asegúrese de especificar que estos valores son del tipo Número usando \"N\" en el parámetro `--expression-attribute-values`.\n",
    "\n",
    "Dado que el nombre del atributo `Vistas` es una Palabra Reservada de DynamoDB, DynamoDB le brinda la capacidad de poner un marcador de posición en la `FilterExpression` y proporcionar el nombre de atributo real en el parámetro CLI `--expression-attribute-names`. Para obtener más información, consulte [Nombres de Atributos de Expresión](https://docs.aws.amazon.com/amazondynamodb/latest/developerguide/Expressions.ExpressionAttributeNames.html) en DynamoDB en la Guía para Desarrolladores.\n"
   ]
  },
  {
   "cell_type": "code",
   "execution_count": null,
   "metadata": {},
   "outputs": [],
   "source": [
    "kwargs = {'ReturnConsumedCapacity': 'TOTAL', \n",
    "          'FilterExpression': 'Threads >= :threads AND #Views >= :views', \n",
    "          'ExpressionAttributeValues': {\":threads\" : {\"N\": \"1\"},\n",
    "                                        \":views\" : {\"N\": \"50\"}},\n",
    "          'ExpressionAttributeNames':{\"#Views\" : \"Views\"}\n",
    "        }\n",
    "\n",
    "response = scan_db(forum_table['table_name'], **kwargs)\n",
    "print(response)    "
   ]
  },
  {
   "cell_type": "markdown",
   "metadata": {},
   "source": [
    "#### Fin de la Parte Opcional - 3\n"
   ]
  },
  {
   "cell_type": "markdown",
   "metadata": {},
   "source": [
    "<a id='6'></a>\n",
    "## 6 - Insertar y Actualizar Datos\n"
   ]
  },
  {
   "cell_type": "markdown",
   "metadata": {},
   "source": [
    "<a id='6-1'></a>\n",
    "### 6.1 - Insertar datos\n",
    "\n",
    "El método `put_item()` de DynamoDB se utiliza para crear un nuevo ítem o reemplazar ítems existentes con un nuevo ítem. Ya has creado la función `put_item_db()` para cargar datos ítem por ítem en algunas tablas. Ahora, digamos que queremos insertar un nuevo ítem en la tabla Reply. Verás en la respuesta que esta solicitud consumió 1 Unidad de Capacidad de Escritura (WCU) (Una unidad de capacidad de escritura representa una escritura por segundo para un ítem de hasta 1 KB de tamaño. [referencia](https://docs.aws.amazon.com/amazondynamodb/latest/developerguide/HowItWorks.ReadWriteCapacityMode.html)).\n"
   ]
  },
  {
   "cell_type": "code",
   "execution_count": null,
   "metadata": {},
   "outputs": [],
   "source": [
    "new_item = {\n",
    "        \"Id\" : {\"S\": \"Amazon DynamoDB#DynamoDB Thread 2\"},\n",
    "        \"ReplyDateTime\" : {\"S\": \"2021-04-27T17:47:30Z\"},\n",
    "        \"Message\" : {\"S\": \"DynamoDB Thread 2 Reply 3 text\"},\n",
    "        \"PostedBy\" : {\"S\": \"User C\"}\n",
    "    }\n",
    "\n",
    "kwargs = {'ReturnConsumedCapacity': 'TOTAL'}\n",
    "    \n",
    "\n",
    "response = put_item_db(table_name=reply_table[\"table_name\"], item=new_item, **kwargs)\n",
    "print(response)"
   ]
  },
  {
   "cell_type": "markdown",
   "metadata": {},
   "source": [
    "<a id='6-2'></a>\n",
    "### 6.2 - Actualizar datos\n",
    "\n",
    "El método `update_item()` de DynamoDB se puede utilizar para editar los atributos de un elemento existente o agregar un nuevo elemento a la tabla si aún no existe. \"Este método requiere que proporciones la clave principal del elemento que deseas actualizar. También debes proporcionar una expresión de actualización (`UpdateExpression`), indicando los atributos que deseas modificar y los valores que deseas asignarles\" ([guía para desarrolladores](https://docs.aws.amazon.com/amazondynamodb/latest/developerguide/WorkingWithItems.html)). Para obtener más información sobre el formato de la expresión de actualización, consulta [aquí](https://docs.aws.amazon.com/amazondynamodb/latest/developerguide/Expressions.UpdateExpressions.html). También puedes especificar una expresión de condición para determinar qué elementos deben ser modificados.\n",
    "Echa un vistazo a la función proporcionada a continuación, donde `ReturnValues='UPDATED_NEW'` devuelve solo los atributos actualizados tal como aparecen después de la operación de actualización.\n"
   ]
  },
  {
   "cell_type": "code",
   "execution_count": null,
   "metadata": {},
   "outputs": [],
   "source": [
    "def update_item_db(table_name: str, key: Dict[str, Any], **kwargs):\n",
    "    client = boto3.client(\"dynamodb\")\n",
    "\n",
    "    response = client.update_item(\n",
    "        TableName=table_name, Key=key, ReturnValues=\"UPDATED_NEW\", **kwargs\n",
    "    )\n",
    "\n",
    "    return response"
   ]
  },
  {
   "cell_type": "code",
   "execution_count": null,
   "metadata": {},
   "outputs": [],
   "source": [
    "kwargs= {    \n",
    "    'UpdateExpression': 'SET Messages = :newMessages',\n",
    "    'ConditionExpression': 'Messages = :oldMessages',\n",
    "    'ExpressionAttributeValues': {\n",
    "        \":oldMessages\" : {\"N\": \"4\"},\n",
    "        \":newMessages\" : {\"N\": \"5\"}\n",
    "    }\n",
    "}\n",
    "response = update_item_db(table_name=forum_table['table_name'], key={'Name' : {'S': 'Amazon DynamoDB'}}, **kwargs)\n",
    "print(response)"
   ]
  },
  {
   "cell_type": "markdown",
   "metadata": {},
   "source": [
    "Esta función actualizó los Foros que tenían un total de 4 mensajes para que ahora estos foros tengan 5 mensajes.\n"
   ]
  },
  {
   "cell_type": "markdown",
   "metadata": {},
   "source": [
    "<a id='ex08'></a>\n",
    "### Ejercicio 8\n",
    "\n",
    "Actualiza el elemento `de-c2w1-dynamodb-ProductCatalog` con `Id=\"201\"` para agregar los nuevos colores \"Azul\" y \"Amarillo\" a la lista de colores para ese tipo de bicicleta. Se te proporciona la expresión de actualización que consiste en agregar a una lista de valores. Para obtener más información, puedes consultar la página de <a href=\"https://docs.aws.amazon.com/amazondynamodb/latest/developerguide/Expressions.UpdateExpressions.html\">Expresiones de Actualización</a> en la Guía del Desarrollador que tiene secciones sobre Agregar y Eliminar Elementos en una Lista.\n",
    "\n",
    "Puedes utilizar `DynamoDB get_item()` para verificar que estos cambios se hayan realizado después de cada paso.\n"
   ]
  },
  {
   "cell_type": "code",
   "execution_count": null,
   "metadata": {},
   "outputs": [],
   "source": [
    "kwargs = {\n",
    "    'UpdateExpression': 'SET #Color = list_append(#Color, :values)',\n",
    "    'ExpressionAttributeNames': {'#Color': 'Color'},\n",
    "    'ExpressionAttributeValues': {':values': {'L': [{'S': 'Blue'}, {'S': 'Yellow'}]}},\n",
    "    'ReturnConsumedCapacity': 'TOTAL'\n",
    "}\n",
    "\n",
    "### START CODE HERE ### (~ 1 line of code)\n",
    "response = update_item_db(table_name=product_catalog_table['table_name'], key={'Id': {'N': '201'}}, **kwargs) # @REPLACE EQUALS update_item_db(table_name=None['None'], key={'Id': {'N': 'None'}}, None)\n",
    "### END CODE HERE ###\n",
    "\n",
    "print(response)"
   ]
  },
  {
   "cell_type": "markdown",
   "metadata": {},
   "source": [
    "##### __Salida Esperada__\n",
    "\n",
    "**Nota**: Los componentes de fecha y hora pueden ser diferentes.\n",
    "\n",
    "```\n",
    "{'Attributes': {'Color': {'L': [{'S': 'Rojo'}, {'S': 'Negro'}, {'S': 'Azul'}, {'S': 'Amarillo'}]}}, 'ConsumedCapacity': {'TableName': 'de-c2w1-dynamodb-ProductCatalog', 'CapacityUnits': 1.0}, 'ResponseMetadata': {'RequestId': 'D3CK6H42KF2DB9ITOO8K7UD95FVV4KQNSO5AEMVJF66Q9ASUAAJG', 'HTTPStatusCode': 200, 'HTTPHeaders': {'server': 'Server', 'date': 'Mié, 14 Feb 2024 06:45:33 GMT', 'content-type': 'application/x-amz-json-1.0', 'content-length': '173', 'connection': 'keep-alive', 'x-amzn-requestid': 'D3CK6H42KF2DB9ITOO8K7UD95FVV4KQNSO5AEMVJF66Q9ASUAAJG', 'x-amz-crc32': '3394722026'}, 'RetryAttempts': 0}}\n",
    "```\n"
   ]
  },
  {
   "cell_type": "code",
   "execution_count": null,
   "metadata": {},
   "outputs": [],
   "source": [
    "response = get_item_db(table_name=product_catalog_table['table_name'], \n",
    "                                      key={'Id': {'N': '201'}}\n",
    "                                    )\n",
    "print(response)"
   ]
  },
  {
   "cell_type": "markdown",
   "metadata": {},
   "source": [
    "<a id='ex09'></a>\n",
    "### Ejercicio 9\n",
    "\n",
    "En este ejercicio, utiliza la función `update_item_db()` para eliminar las entradas de la lista \"Blue\" y \"Yellow\" que acabas de agregar, para devolver el elemento de la bicicleta a su estado original. En DynamoDB, las listas tienen índices basados en 0.\n"
   ]
  },
  {
   "cell_type": "code",
   "execution_count": null,
   "metadata": {},
   "outputs": [],
   "source": [
    "kwargs = {\n",
    "    'UpdateExpression': 'REMOVE #Color[2], #Color[3]',\n",
    "    'ExpressionAttributeNames': {'#Color': 'Color'},\n",
    "    'ReturnConsumedCapacity': 'TOTAL'\n",
    "}\n",
    "\n",
    "### START CODE HERE ### (~ 1 line of code)\n",
    "response = update_item_db(table_name=product_catalog_table['table_name'], key={'Id': {'N': '201'}}, **kwargs) # @REPLACE EQUALS update_item_db(table_name=None['None'], key={'Id': {'N': 'None'}}, None)\n",
    "### END CODE HERE ###\n",
    "\n",
    "print(response)"
   ]
  },
  {
   "cell_type": "markdown",
   "metadata": {},
   "source": [
    "##### __Salida Esperada__\n",
    "\n",
    "**Nota**: Los componentes de fecha y hora pueden ser diferentes.\n",
    "\n",
    "```\n",
    "{'ConsumedCapacity': {'TableName': 'de-c2w1-dynamodb-ProductCatalog', 'CapacityUnits': 1.0}, 'ResponseMetadata': {'RequestId': 'CFU1SD9DECJOS6SLMVT3KT4CH7VV4KQNSO5AEMVJF66Q9ASUAAJG', 'HTTPStatusCode': 200, 'HTTPHeaders': {'server': 'Server', 'date': 'Wed, 14 Feb 2024 06:45:37 GMT', 'content-type': 'application/x-amz-json-1.0', 'content-length': '88', 'connection': 'keep-alive', 'x-amzn-requestid': 'CFU1SD9DECJOS6SLMVT3KT4CH7VV4KQNSO5AEMVJF66Q9ASUAAJG', 'x-amz-crc32': '866229524'}, 'RetryAttempts': 0}}\n",
    "```\n"
   ]
  },
  {
   "cell_type": "code",
   "execution_count": null,
   "metadata": {},
   "outputs": [],
   "source": [
    "response = get_item_db(table_name=product_catalog_table['table_name'], \n",
    "                                      key={'Id': {'N': '201'}}\n",
    "                                    )\n",
    "print(response)"
   ]
  },
  {
   "cell_type": "markdown",
   "metadata": {},
   "source": [
    "<a id='7'></a>\n",
    "## 7 - Eliminar datos\n",
    "\n",
    "El método `DynamoDB DeleteItem()` se utiliza para eliminar un elemento. Las eliminaciones en DynamoDB son operaciones singleton. No hay un comando único que pueda ejecutar que eliminaría todas las filas en la tabla. Eliminemos uno de los elementos que agregamos previamente a la tabla Reply; para eso, necesitas hacer referencia a la Clave Primaria completa. Recuerda que la tabla Reply tiene `Id` como clave de partición y `ReplyDateTime` como clave de ordenación, por lo que la Clave Primaria completa está compuesta por esas dos claves. Sigue las instrucciones para crear la función `delete_item_db()`.\n"
   ]
  },
  {
   "cell_type": "markdown",
   "metadata": {},
   "source": [
    "<a id='ex10'></a>\n",
    "### Ejercicio 10\n",
    "\n",
    "1. Crea el objeto Cliente `client`.\n",
    "2. Utiliza el método `client.delete_item()` del objeto cliente. Asegúrate de agregar el nombre de la tabla y los parámetros clave en la llamada al método. El resto de los parámetros deben pasarse como argumentos de palabra clave.\n"
   ]
  },
  {
   "cell_type": "code",
   "execution_count": null,
   "metadata": {},
   "outputs": [],
   "source": [
    "def delete_item_db(table_name: str, key: dict[str, Any], **kwargs):\n",
    "    ### START CODE HERE ### (~ 2 lines of code)\n",
    "    client = boto3.client(\"dynamodb\") # @REPLACE EQUALS None\n",
    "    response = client.delete_item(TableName=table_name, Key=key, **kwargs) # @REPLACE EQUALS client.delete_item(TableName=None, Key=None, None)\n",
    "    ### END CODE HERE ###\n",
    "    \n",
    "    logging.info(f\"response {response}\")"
   ]
  },
  {
   "cell_type": "code",
   "execution_count": null,
   "metadata": {},
   "outputs": [],
   "source": [
    "key = {\"Id\" : {\"S\": \"Amazon DynamoDB#DynamoDB Thread 2\"},\n",
    "       \"ReplyDateTime\" : {\"S\": \"2021-04-27T17:47:30Z\"}\n",
    "       }\n",
    "\n",
    "delete_item_db(table_name=reply_table['table_name'], key=key)"
   ]
  },
  {
   "cell_type": "markdown",
   "metadata": {},
   "source": [
    "El mismo elemento puede ser eliminado más de una vez. Puedes ejecutar el mismo comando anterior tantas veces como desees y no reportará ningún error: incluso si la clave no existe, el método `DynamoDB delete_item()` devuelve éxito. Ahora, debes decrementar el recuento relacionado de *Mensajes* del Foro.\n"
   ]
  },
  {
   "cell_type": "code",
   "execution_count": null,
   "metadata": {},
   "outputs": [],
   "source": [
    "kwargs= {    \n",
    "    'UpdateExpression': 'SET Messages = :newMessages',\n",
    "    'ConditionExpression': 'Messages = :oldMessages',\n",
    "    'ExpressionAttributeValues': {\n",
    "        \":oldMessages\" : {\"N\": \"5\"},\n",
    "        \":newMessages\" : {\"N\": \"4\"}\n",
    "    },\n",
    "    'ReturnConsumedCapacity': 'TOTAL'\n",
    "}\n",
    "\n",
    "update_item_db(table_name=forum_table['table_name'], key={'Name' : {'S': 'Amazon DynamoDB'}}, **kwargs)\n"
   ]
  },
  {
   "cell_type": "markdown",
   "metadata": {},
   "source": [
    "La siguiente sección es completamente opcional. Siéntete libre de saltarla para pasar a la última sección que trata sobre la limpieza.\n"
   ]
  },
  {
   "cell_type": "markdown",
   "metadata": {},
   "source": [
    "<a id='8'></a>\n",
    "## 8 - Transacciones - Sección opcional\n"
   ]
  },
  {
   "cell_type": "markdown",
   "metadata": {},
   "source": [
    "El `DynamoDB transact_write_items` es una operación de escritura síncrona que agrupa hasta 100 solicitudes de acción, con un límite de tamaño colectivo de 4MB para toda la transacción. Estas acciones pueden operar en elementos de varias tablas, aunque no a través de cuentas o regiones de AWS distintas. Además, ninguna de las dos acciones puede apuntar al mismo elemento. La ejecución de las acciones es atómica, asegurando que todas tengan éxito o todas fallen.\n",
    "\n",
    "Has visto que los datos de muestra incluyen tablas interconectadas: `Forum`, `Thread` y `Reply`. Al agregar un nuevo elemento `Reply`, es necesario incrementar el contador de `Messages` en el elemento `Forum` asociado. Esta operación debe ocurrir dentro de una transacción para garantizar que ambos cambios tengan éxito o fallen simultáneamente. Cualquier observador que lea estos datos debería presenciar ambos cambios o ninguno al mismo tiempo.\n",
    "\n",
    "Las transacciones de DynamoDB se adhieren al concepto de **idempotencia**, permitiendo el envío de la misma transacción varias veces. Sin embargo, DynamoDB la ejecutará solo una vez. Esta característica es particularmente valiosa al trabajar con APIs que carecen de idempotencia inherente, como al usar `update_item` para modificar un campo numérico. Durante la ejecución de la transacción, especificas una cadena como el `ClientRequestToken` (también conocido como Token de Idempotencia).\n"
   ]
  },
  {
   "cell_type": "markdown",
   "metadata": {},
   "source": [
    "<a id='ex11'></a>\n",
    "### Ejercicio 11\n",
    "\n",
    "1. Crear el objeto Cliente `client`.\n",
    "2. Llamar al método `DynamoDB transact_write_items()`; pasar explícitamente los elementos de transacción. Otros parámetros deben pasarse como parámetros de palabras clave.\n"
   ]
  },
  {
   "cell_type": "code",
   "execution_count": null,
   "metadata": {},
   "outputs": [],
   "source": [
    "def transact_write_items_db(transaction_items: List[Dict[str, Any]], **kwargs):\n",
    "    ### START CODE HERE ### (~ 2 lines of code)\n",
    "    client = boto3.client(\"dynamodb\") # @REPLACE EQUALS None\n",
    "    response = client.transact_write_items(TransactItems=transaction_items, **kwargs) # @REPLACE EQUALS client.transact_write_items(TransactItems=None, None)\n",
    "    ### END CODE HERE ###\n",
    "\n",
    "    return response"
   ]
  },
  {
   "cell_type": "markdown",
   "metadata": {},
   "source": [
    "Realicemos primero la transacción agregando un nuevo usuario a la tabla `Reply`.\n"
   ]
  },
  {
   "cell_type": "code",
   "execution_count": null,
   "metadata": {},
   "outputs": [],
   "source": [
    "transaction_items=[\n",
    "    {\n",
    "        \"Put\": {\n",
    "            \"TableName\" : reply_table['table_name'],\n",
    "            \"Item\" : {\n",
    "                \"Id\" : {\"S\": \"Amazon DynamoDB#DynamoDB Thread 2\"},\n",
    "                \"ReplyDateTime\" : {\"S\": \"2021-04-27T17:47:30Z\"},\n",
    "                \"Message\" : {\"S\": \"DynamoDB Thread 2 Reply 3 text\"},\n",
    "                \"PostedBy\" : {\"S\": \"User C\"}\n",
    "            }\n",
    "        }\n",
    "    },\n",
    "    {\n",
    "        \"Update\": {\n",
    "            \"TableName\" : forum_table['table_name'],\n",
    "            \"Key\" : {\"Name\" : {\"S\": \"Amazon DynamoDB\"}},\n",
    "            \"UpdateExpression\": \"ADD Messages :inc\",\n",
    "            \"ExpressionAttributeValues\" : { \":inc\": {\"N\" : \"1\"} }\n",
    "        }\n",
    "    }\n",
    "]\n",
    "\n",
    "kwargs = {'ClientRequestToken': 'TRANSACTION1'}\n",
    "\n",
    "response = transact_write_items_db(transaction_items=transaction_items, **kwargs)\n",
    "print(response)"
   ]
  },
  {
   "cell_type": "markdown",
   "metadata": {},
   "source": [
    "Después de que la transacción haya finalizado, puedes echar un vistazo al artículo del Foro y verás que el recuento de Mensajes se incrementó en 1, de 4 a 5.\n"
   ]
  },
  {
   "cell_type": "code",
   "execution_count": null,
   "metadata": {},
   "outputs": [],
   "source": [
    "response = get_item_db(table_name=forum_table['table_name'], key={\"Name\" : {\"S\": \"Amazon DynamoDB\"}})\n",
    "print(response)"
   ]
  },
  {
   "cell_type": "markdown",
   "metadata": {},
   "source": [
    "Si la transacción se ejecuta nuevamente con el mismo valor del `'ClientRequestToken'` como `'TRANSACTION1'`, puedes ver que se ignoran otras invocaciones de la transacción y el atributo `Messages` permanece con el valor en 5. También puedes usar transacciones para revertir la operación realizada anteriormente; ten en cuenta que hay un nuevo valor para el `ClientRequestToken` de esta transacción:\n"
   ]
  },
  {
   "cell_type": "code",
   "execution_count": null,
   "metadata": {},
   "outputs": [],
   "source": [
    "transaction_items=[\n",
    "    {\n",
    "        \"Delete\": {\n",
    "            \"TableName\" : reply_table['table_name'],\n",
    "            \"Key\" : {\n",
    "                \"Id\" : {\"S\": \"Amazon DynamoDB#DynamoDB Thread 2\"},\n",
    "                \"ReplyDateTime\" : {\"S\": \"2021-04-27T17:47:30Z\"}\n",
    "            }\n",
    "        }\n",
    "    },\n",
    "    {\n",
    "        \"Update\": {\n",
    "            \"TableName\" : forum_table['table_name'],\n",
    "            \"Key\" : {\"Name\" : {\"S\": \"Amazon DynamoDB\"}},\n",
    "            \"UpdateExpression\": \"ADD Messages :inc\",\n",
    "            \"ExpressionAttributeValues\" : { \":inc\": {\"N\" : \"-1\"} }\n",
    "        }\n",
    "    }\n",
    "]\n",
    "\n",
    "kwargs = {'ClientRequestToken': 'TRANSACTION2'}\n",
    "\n",
    "response = transact_write_items_db(transaction_items=transaction_items, **kwargs)\n",
    "print(response)"
   ]
  },
  {
   "cell_type": "markdown",
   "metadata": {},
   "source": [
    "<a id='9'></a>\n",
    "## 9 - Limpieza\n",
    "\n",
    "Eliminar las tablas creadas de DynamoDB. Verifique la función proporcionada en la siguiente celda `delete_table_db()` y ejecute las siguientes celdas para eliminar las tablas.\n"
   ]
  },
  {
   "cell_type": "code",
   "execution_count": null,
   "metadata": {},
   "outputs": [],
   "source": [
    "def delete_table_db(table_name: str):\n",
    "        client = boto3.client(\"dynamodb\")\n",
    "        response = client.delete_table(TableName=table_name)\n",
    "        return response"
   ]
  },
  {
   "cell_type": "code",
   "execution_count": null,
   "metadata": {},
   "outputs": [],
   "source": [
    "for dynamodb_tab in [product_catalog_table, forum_table, reply_table, thread_table]:\n",
    "    response = delete_table_db(table_name=dynamodb_tab['table_name'])\n",
    "    print(response)"
   ]
  },
  {
   "cell_type": "code",
   "execution_count": null,
   "metadata": {},
   "outputs": [],
   "source": []
  },
  {
   "cell_type": "markdown",
   "metadata": {},
   "source": [
    "Finalmente, puedes ir a la Consola de AWS, buscar **DynamoDB**, hacer clic en Tablas y verificar que las tablas hayan sido eliminadas.\n"
   ]
  }
 ],
 "metadata": {
  "kernelspec": {
   "display_name": "py313",
   "language": "python",
   "name": "py313"
  },
  "language_info": {
   "codemirror_mode": {
    "name": "ipython",
    "version": 3
   },
   "file_extension": ".py",
   "mimetype": "text/x-python",
   "name": "python",
   "nbconvert_exporter": "python",
   "pygments_lexer": "ipython3",
   "version": "3.13.1"
  },
  "vscode": {
   "interpreter": {
    "hash": "27bfa42fff3b3fb2cd63b9de6679ce262b7de0d6bf1891ea1035aa9a470e6c23"
   }
  }
 },
 "nbformat": 4,
 "nbformat_minor": 4
}
